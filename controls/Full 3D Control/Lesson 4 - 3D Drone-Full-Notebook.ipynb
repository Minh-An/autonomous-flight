{
 "cells": [
  {
   "cell_type": "markdown",
   "metadata": {},
   "source": [
    "# 3D Drone \n",
    "---\n",
    "In this lesson, we will develop a controller for a drone in a 3D environment. The lesson is divided into two parts. In the first part, you will develop a class which will capture and describe the drone dynamics. In the second part, you will develop a control system for the drone. At the end of the exercise, you will perform a simple three-dimensional flight and will observe how your controller performs and if the drone follows the desired path. \n",
    "\n",
    "<div class=\"container\" style=\"width: 100%;\">\n",
    " <div class=\"D1 col-sm-6\" style=\"width: 40%;\">\n",
    "   <img src=\"drone1_1.png\" height=\"100\">\n",
    " </div>\n",
    " <div class=\"D2 col-sm-6\" style=\"width: 50%;\">\n",
    "   <img src=\"Drone2.png\" height=\"300\">\n",
    " </div>\n",
    "</div>\n",
    "\n",
    "### Drone dynamics\n",
    "Let's remember the movement that a drone can perform. It can move along the three position axis $x$, $y$ and $z$. We choose the $z$ axis to be directed downward as in previous exercises. The drone also can roll along the $x$ axis, pitch along the $y$ axis and yaw along the $z$ axis. The directions of the rotations are depicted in the images above. \n",
    "In this exercise, we will have to track the drone's change in attitude in two coordinate systems. One in an inertial frame (world frame) relative to the surroundings and the second in the body frame attached to the drone itself. You will be responsible for implementing the proper conversion functions and tracking the necessary quantities in the appropriate frames. "
   ]
  },
  {
   "cell_type": "code",
   "execution_count": 1,
   "metadata": {},
   "outputs": [],
   "source": [
    "%matplotlib inline \n",
    "%config InlineBackend.figure_format = 'retina'\n",
    "\n",
    "%load_ext autoreload\n",
    "%autoreload 2\n",
    "\n",
    "import numpy as np \n",
    "import math\n",
    "from math import sin, cos, tan, sqrt\n",
    "import matplotlib.pyplot as plt\n",
    "import matplotlib.pylab as pylab\n",
    "from mpl_toolkits.mplot3d import Axes3D\n",
    "import jdc\n",
    "import random\n",
    "\n",
    "from solution import UDACITYDroneIn3D, UDACITYController\n",
    "import testing\n",
    "\n",
    "pylab.rcParams['figure.figsize'] = 10, 10"
   ]
  },
  {
   "cell_type": "markdown",
   "metadata": {},
   "source": [
    "# Drone \n",
    "\n",
    "In order to track the drone state, we will require 12 parameters which include $X = [x,y,z,\\phi,\\theta,\\psi,\\dot{x},\\dot{y},\\dot{z},p,q,r]$, where $x$, $y$, and $z$ are the special positions of the drone relative to the inertial frame (world frame) and $\\dot{x}$, $\\dot{y}$, and $\\dot{z}$ translational velocities along these axes. $\\phi$, $\\theta$, and $\\psi$ represent the drone's attitude in the inertial frame (world frame), while $p$, $q$ and $r$ capture the angular velocities in the body frame. \n",
    "Correspondingly the derivative of the state vector in time will have the next form:$\\dot{X} = [\\dot{x},\\dot{y},\\dot{z},\\dot{\\phi},\\dot{\\theta},\\dot{\\psi},\\ddot{x},\\ddot{y},\\ddot{z},\\dot{p},\\dot{q},\\dot{r}]$"
   ]
  },
  {
   "cell_type": "code",
   "execution_count": 2,
   "metadata": {},
   "outputs": [],
   "source": [
    "class DroneIn3D(UDACITYDroneIn3D):\n",
    "    \n",
    "    def __init__(self,\n",
    "                k_f = 1.0,\n",
    "                k_m = 1.0,\n",
    "                m = 0.5,\n",
    "                L = 0.566, # full rotor to rotor distance\n",
    "                i_x = 0.1,\n",
    "                i_y = 0.1,\n",
    "                i_z = 0.2):\n",
    "        \n",
    "        self.k_f = k_f\n",
    "        self.k_m = k_m\n",
    "        self.m = m\n",
    "        self.l = L / (2*sqrt(2)) # perpendicular distance to axes\n",
    "        self.i_x = i_x\n",
    "        self.i_y = i_y\n",
    "        self.i_z = i_z\n",
    "        \n",
    "        # x, y, z, phi, theta, psi, \n",
    "        # x_dot, y_dot, z_dot, p, q, r\n",
    "        self.X=np.array([0.0,0.0,0.0,0.0,0.0,0.0,\n",
    "                         0.0,0.0,0.0,0.0,0.0,0.0])\n",
    "        self.omega = np.array([0.0,0.0,0.0,0.0])\n",
    "        \n",
    "        self.g = 9.81"
   ]
  },
  {
   "cell_type": "code",
   "execution_count": 3,
   "metadata": {},
   "outputs": [],
   "source": [
    "%%add_to DroneIn3D\n",
    "\n",
    "@property\n",
    "def x_dot(self):\n",
    "    return self.X[6]\n",
    "\n",
    "@property\n",
    "def y_dot(self):\n",
    "    return self.X[7]\n",
    "\n",
    "@property\n",
    "def z_dot(self):\n",
    "    return self.X[8]"
   ]
  },
  {
   "cell_type": "markdown",
   "metadata": {},
   "source": [
    "To simplify our notation during the drone dynamics calculation we will introduce the properties of the object and assign them the proper name for the quantities in the state vector. Those properties will include $\\phi$, $\\theta$, $\\psi$, $p$, $q$, $r$."
   ]
  },
  {
   "cell_type": "code",
   "execution_count": 4,
   "metadata": {},
   "outputs": [],
   "source": [
    "%%add_to DroneIn3D\n",
    "\n",
    "# euler angles [rad] (in world / lab frame)\n",
    "@property\n",
    "def phi(self):\n",
    "    return self.X[3]\n",
    "\n",
    "@property\n",
    "def theta(self):\n",
    "    return self.X[4]\n",
    "\n",
    "@property\n",
    "def psi(self):\n",
    "    return self.X[5]\n",
    "\n",
    "# body rates [rad / s] (in body frame)\n",
    "@property \n",
    "def p(self):\n",
    "    return self.X[9]\n",
    "\n",
    "@property\n",
    "def q(self):\n",
    "    return self.X[10]\n",
    "\n",
    "@property \n",
    "def r(self):\n",
    "    return self.X[11]\n"
   ]
  },
  {
   "cell_type": "markdown",
   "metadata": {},
   "source": [
    "Similarly, we will define the forces generated by the propellers \n",
    "$F_1 = k_f\\omega^2_1$, $F_2 = k_f\\omega^2_2$, $F_3 = k_f\\omega^2_3$, $F_4 = k_f\\omega^2_4$. The collective force directed upward $F_{total} = F_1 + F_2 + F_3 + F_4$."
   ]
  },
  {
   "cell_type": "code",
   "execution_count": 5,
   "metadata": {},
   "outputs": [],
   "source": [
    "%%add_to DroneIn3D\n",
    "\n",
    "# forces from the four propellers [N]\n",
    "@property\n",
    "def f_1(self):\n",
    "    f = self.k_f*self.omega[0]**2\n",
    "    return f\n",
    "\n",
    "@property \n",
    "def f_2(self):\n",
    "    f = self.k_f*self.omega[1]**2\n",
    "    return f\n",
    "\n",
    "@property \n",
    "def f_3(self):\n",
    "    f = self.k_f*self.omega[2]**2\n",
    "    return f\n",
    "\n",
    "@property \n",
    "def f_4(self):\n",
    "    f = self.k_f*self.omega[3]**2\n",
    "    return f\n",
    "\n",
    "# collective force\n",
    "@property\n",
    "def f_total(self):\n",
    "    f_t = self.f_1 + self.f_2 + self.f_3 + self.f_4\n",
    "    return f_t"
   ]
  },
  {
   "cell_type": "markdown",
   "metadata": {},
   "source": [
    "Next, we will keep track of the moments created by the propellers.   For roll motion, the moments generated by the first and fourth propellers are counteracted by the moment generated by the second and the third propellers. The $l$ is a distance between x-axis and propeller location, which is equal to half of the distance between neighboring propellers. In the same fashion, the pitch is generated by the mismatch of the moments created by first and second propellers and the moment generated by the third and fourth propellers. \n",
    "\n",
    "Contrary to the roll and pitch the yaw motion is executed by the mismatch of the moments generated by the propellers along the $z$ axis by the reactive force. The moment generated by the propeller is directed opposite of its rotation and is proportional to the square of the angular velocities.  \n",
    "\n",
    "$$\n",
    "\\begin{align}\n",
    "\\tau_x &= (F_1 + F_4 - F_2 - F_3)l \\\\\n",
    "\\tau_y &= (F_1 + F_2 - F_3 - F_4)l \\\\\n",
    "\\tau_z &= \\tau_1 + \\tau_2 + \\tau_3 + \\tau_4\n",
    "\\end{align}\n",
    "$$\n",
    "\n",
    "Where $\\tau_1 = - k_m \\omega^2_1$, $\\tau_2 = k_m \\omega^2_2$, $\\tau_3 = -k_m \\omega^2_3$, $\\tau_4 = k_m \\omega^2_4$. In our notation, the propellers 1 and 3 rotate in clockwise thus producing the moment in the counterclockwise direction with negative sign and propellers 2 and 4 rotate in counterclockwise thus the resulting moments are in opposite and have the positive signs.  "
   ]
  },
  {
   "cell_type": "code",
   "execution_count": 6,
   "metadata": {},
   "outputs": [],
   "source": [
    "%%add_to DroneIn3D\n",
    "\n",
    "# reactive moments [N * m]\n",
    "@property\n",
    "def tau_1(self):\n",
    "    tau = -self.k_m * self.omega[0]**2\n",
    "    return tau\n",
    "    \n",
    "@property\n",
    "def tau_2(self):\n",
    "    tau = self.k_m * self.omega[1]**2\n",
    "    return tau\n",
    "\n",
    "@property\n",
    "def tau_3(self):\n",
    "    tau = -self.k_m * self.omega[2]**2\n",
    "    return tau\n",
    "\n",
    "@property\n",
    "def tau_4(self):\n",
    "    tau = self.k_m * self.omega[3]**2\n",
    "    return tau\n",
    "\n",
    "# moments about axes [N * m]\n",
    "@property\n",
    "def tau_x(self):\n",
    "    tau = self.l*(self.f_1 + self.f_4 - self.f_2 - self.f_3)\n",
    "    return tau\n",
    "\n",
    "@property\n",
    "def tau_y(self):\n",
    "    tau = self.l*(self.f_1 + self.f_2 - self.f_3 - self.f_4)\n",
    "    return tau\n",
    "\n",
    "@property\n",
    "def tau_z(self):\n",
    "    tau = self.tau_1 + self.tau_2 + self.tau_3 + self.tau_4\n",
    "    return tau"
   ]
  },
  {
   "cell_type": "markdown",
   "metadata": {},
   "source": [
    "## Exercise 1 \n",
    "### 1.1 Setting the propeller angular velocities (Drone)\n",
    "Now based on the input from the controller we can set the angular velocities of the propellers. For this, we would like to solve the next linear equation. The first row represents the vertical acceleration, the second represents the equation for roll, the third row is the pitch equation, and the last one is derived from the yaw equation. \n",
    "$$\n",
    "\\begin{pmatrix} 1 & 1 & 1 & 1 \\\\ 1 & -1 & -1 & 1 \\\\ 1 & 1 & -1 & -1\\\\ 1 & -1 & 1 & -1 \\end{pmatrix} \\times \\begin{pmatrix} \\omega^2_1 \\\\ \\omega^2_2 \\\\ \\omega^2_3\\\\ \\omega^2_4 \\end{pmatrix} = \\begin{pmatrix} \\bar{c} \\\\ \\bar{p} \\\\ \\bar{q} \\\\ \\bar{r} \\end{pmatrix}\n",
    "$$\n",
    "\n",
    "We need to transform the inputs from the controller into the $\\bar{c}$, $\\bar{p}$, $\\bar{q}$, $\\bar{r}$ variables.\n",
    "\n",
    "The $c$ value received from the controller is equal to $\\frac{F}{m} = c$, For equation $(\\omega^2_1 + \\omega^2_2 + \\omega^2_3 + \\omega^2_4) = \\bar{c}$ the proper transformation will be $\\bar{c} = \\frac{F}{k_f} = \\frac{c m }{k_f}$ (which transforms thrust in dimensionless form).\n",
    "\n",
    "For roll, pitch and yaw $\\bar{u}_p = \\dot{p} = \\frac{\\tau_x}{I_x}$ , $\\bar{u}_q = \\dot{q} = \\frac{\\tau_y}{I_y}$ , $\\bar{u}_r = \\dot{r} = \\frac{\\tau_z}{I_z}$. Transforming them into dimensionless form \n",
    "$$\n",
    "\\begin{align}\n",
    "\\bar{p} &= \\frac{I_x \\bar{u}_p}{k_f l } \\\\\n",
    "\\bar{q} &= \\frac{I_y \\bar{u}_q}{k_f l } \\\\\n",
    "\\bar{r} &= \\frac{I_z \\bar{u}_r}{k_m } \\\\\n",
    "\\end{align}\n",
    "$$"
   ]
  },
  {
   "cell_type": "code",
   "execution_count": 7,
   "metadata": {},
   "outputs": [],
   "source": [
    "%%add_to DroneIn3D\n",
    "\n",
    "# Exercise 1.1\n",
    "\n",
    "def set_propeller_angular_velocities(self,\n",
    "                                    c,\n",
    "                                    u_bar_p,\n",
    "                                    u_bar_q,\n",
    "                                    u_bar_r):\n",
    "    \n",
    "    # TODO replace with your own implementation.\n",
    "    #   note that this function doesn't return anything\n",
    "    #   it just sets self.omega\n",
    "    # \n",
    "    c_bar = (-c * self.m) / self.k_f\n",
    "    p_bar = (self.i_x * u_bar_p) / (self.k_f * self.l)\n",
    "    q_bar = (self.i_y * u_bar_q) / (self.k_f * self.l)\n",
    "    r_bar = (self.i_z * u_bar_r) / (self.k_m)\n",
    "    \n",
    "    constants = np.array([[1,1,1,1], [1,-1,-1,1], [1,1,-1,-1], [1,-1,1,-1]])\n",
    "    dimensionless = np.array([c_bar, p_bar, q_bar, r_bar])\n",
    "    self.omega = np.sqrt(np.linalg.solve(constants, dimensionless))\n",
    "    self.omega = np.array([-1,1,-1,1])*self.omega"
   ]
  },
  {
   "cell_type": "code",
   "execution_count": 8,
   "metadata": {},
   "outputs": [
    {
     "name": "stdout",
     "output_type": "stream",
     "text": [
      "Tests pass - exercise 1.1\n"
     ]
    }
   ],
   "source": [
    "testing.test_exercise_1_1(DroneIn3D)"
   ]
  },
  {
   "cell_type": "markdown",
   "metadata": {},
   "source": [
    "### 1.2 Calculate Rotation Matrix\n",
    "\n",
    "To transform between body-frame accelerations and world frame accelerations you will need to be able to generate the rotation matrix $R$ where:\n",
    "\n",
    "$$R = R_z(\\psi) \\times R_y(\\theta) \\times R_x(\\phi)$$\n",
    "\n",
    "The $x$, $y$, and $z$ rotations are:\n",
    "\n",
    "\\begin{alignedat}{1}R_{x}(\\phi )&={\\begin{bmatrix}1&0&0\\\\0&\\cos \\phi &-\\sin \\phi \\\\[3pt]0&\\sin \\phi &\\cos \\phi \\\\[3pt]\\end{bmatrix}}\\\\[6pt]R_{y}(\\theta )&={\\begin{bmatrix}\\cos \\theta &0&\\sin \\theta \\\\[3pt]0&1&0\\\\[3pt]-\\sin \\theta &0&\\cos \\theta \\\\\\end{bmatrix}}\\\\[6pt]R_{z}(\\psi )&={\\begin{bmatrix}\\cos \\psi &-\\sin \\psi &0\\\\[3pt]\\sin \\psi &\\cos \\psi &0\\\\[3pt]0&0&1\\\\\\end{bmatrix}}\\end{alignedat}"
   ]
  },
  {
   "cell_type": "code",
   "execution_count": 9,
   "metadata": {},
   "outputs": [],
   "source": [
    "%%add_to DroneIn3D\n",
    "\n",
    "# Exercise 1.2\n",
    "\n",
    "def R(self): \n",
    "    R_x = np.array([[1,     0,                            0],\n",
    "                    [0, np.cos(self.phi), -np.sin(self.phi)],\n",
    "                    [0, np.sin(self.phi), np.cos(self.phi)]])\n",
    "    R_y = np.array([[np.cos(self.theta), 0, np.sin(self.theta)],\n",
    "                    [0,                  1,                  0],\n",
    "                    [-np.sin(self.theta), 0, np.cos(self.theta)]])\n",
    "    R_z = np.array([[np.cos(self.psi), -np.sin(self.psi), 0],\n",
    "                    [np.sin(self.psi), np.cos(self.psi),  0],\n",
    "                    [0,                0,                 1]])\n",
    "    \n",
    "    return np.dot(R_z, np.dot(R_y,R_x))"
   ]
  },
  {
   "cell_type": "code",
   "execution_count": 10,
   "metadata": {},
   "outputs": [
    {
     "name": "stdout",
     "output_type": "stream",
     "text": [
      "Tests pass - exercise 1.2\n"
     ]
    }
   ],
   "source": [
    "testing.test_exercise_1_2(DroneIn3D)"
   ]
  },
  {
   "cell_type": "markdown",
   "metadata": {},
   "source": [
    "### 1.3 Calculate Linear accelerations\n",
    "\n",
    "The linear accelerations along the $x$, $y$ and $z$ axes can be represented in matrix form where $g$ is an acceleration due to gravity which is directed along the $z$ axis. The $F$ is a total force generated by all four propellers and is directed upward in the body frame. We need to transform the force in the body frame into the inertial frame (world frame) by the rotation matrix R and divide the result by m to get the acceleration vector. \n",
    "\n",
    "$$\n",
    "\\begin{pmatrix} \\ddot{x} \\\\ \\ddot{y} \\\\ \\ddot{z}\\end{pmatrix}  = \\begin{pmatrix} 0 \\\\ 0 \\\\ g\\end{pmatrix} + \\frac{1}{m}R \\begin{pmatrix} 0 \\\\ 0 \\\\ -F_{total} \\end{pmatrix} \n",
    "$$\n",
    "\n",
    "where $R = R(\\psi) \\times R(\\theta) \\times R(\\phi)$"
   ]
  },
  {
   "cell_type": "code",
   "execution_count": 11,
   "metadata": {},
   "outputs": [],
   "source": [
    "%%add_to DroneIn3D\n",
    "\n",
    "# Exercise 1.3\n",
    "\n",
    "def linear_acceleration(self):\n",
    "    \n",
    "    # TODO replace with your own implementation\n",
    "    #   This function should return a length 3 np.array\n",
    "    #   with a_x, a_y, and a_z\n",
    "    g_vec = np.array([0,0,self.g])\n",
    "    F_vec = np.array([0,0,-self.f_total])\n",
    "    return g_vec + (np.dot(self.R(), F_vec)/self.m)\n",
    "    "
   ]
  },
  {
   "cell_type": "code",
   "execution_count": 12,
   "metadata": {},
   "outputs": [
    {
     "name": "stdout",
     "output_type": "stream",
     "text": [
      "Tests pass - exercise 1.3\n"
     ]
    }
   ],
   "source": [
    "testing.test_exercise_1_3(DroneIn3D)"
   ]
  },
  {
   "cell_type": "markdown",
   "metadata": {},
   "source": [
    "Exercise 1 ends here! At this point you should press \"Next\" and continue with the lesson.\n",
    "\n",
    "------"
   ]
  },
  {
   "cell_type": "markdown",
   "metadata": {},
   "source": [
    "## Exercise 2\n",
    "### 2.1 Get $\\dot{\\omega}$  ( which is just  $\\dot{p}$, $\\dot{q}$, $\\dot{r}$)\n",
    "Let's recall that the general form of Euler's equations is:\n",
    "\n",
    "$\n",
    "\\mathbf{M = I \\dot{\\omega} + \\omega \\times (I\\omega)} \n",
    "$\n",
    "\n",
    "The angular acceleration in body frame can be calculated using the following equation. The expanded version is provided below as well. Where $p$ is a rate of roll in the body frame, $q$ is a rate of pitch in body frame and $r$ is the rate of yaw. All of these are measured in radians per second\n",
    "\n",
    "$$\n",
    "I\\begin{pmatrix} \\dot{p} \\\\ \\dot{q} \\\\ \\dot{r} \\end{pmatrix} =\\begin{pmatrix} \\tau_x  \\\\ \\tau_y  \\\\ \\tau_z  \\end{pmatrix} - \\begin{pmatrix} p \\\\ q \\\\ r \\end{pmatrix} \\times I \\begin{pmatrix} p \\\\ q \\\\ r \\end{pmatrix}\n",
    "$$\n",
    "\n",
    "\n",
    "$$\n",
    "I_x \\dot{p} =  \\tau_x - (I_z-I_y) r q \\\\\n",
    "I_y \\dot{q} =  \\tau_y - (I_x-I_z) p r \\\\\n",
    "I_z \\dot{r} =  \\tau_z - (I_y-I_x) q p \\\\ \n",
    "$$\n",
    "\n",
    "Later in `advance_state` you will use $\\dot{p}$, for example, to update $p$:"
   ]
  },
  {
   "cell_type": "code",
   "execution_count": 13,
   "metadata": {},
   "outputs": [],
   "source": [
    "%%add_to DroneIn3D\n",
    "\n",
    "def get_omega_dot(self):\n",
    "    M = np.array([self.tau_x, self.tau_y, self.tau_z])\n",
    "    omega = np.array([self.p, self.q, self.r])\n",
    "    I = np.array([[self.i_x,0,0],[0,self.i_y,0],[0,0,self.i_z]])\n",
    "    right_eq = M - np.cross(omega, np.dot(I, omega))\n",
    "    \n",
    "    return np.linalg.solve(I, right_eq)\n",
    "    \n",
    "    "
   ]
  },
  {
   "cell_type": "code",
   "execution_count": 14,
   "metadata": {},
   "outputs": [
    {
     "name": "stdout",
     "output_type": "stream",
     "text": [
      "Tests pass - exercise 2.1\n"
     ]
    }
   ],
   "source": [
    "testing.test_exercise_2_1(DroneIn3D)"
   ]
  },
  {
   "cell_type": "markdown",
   "metadata": {},
   "source": [
    "Exercise 2 ends here! At this point you should press \"Next\" and continue with the lesson.\n",
    "\n",
    "----"
   ]
  },
  {
   "cell_type": "markdown",
   "metadata": {},
   "source": [
    "## Exercise 3\n",
    "### 3.1 Getting the rate of change of the Euler angles\n",
    "\n",
    "Instantaneous turn rate in the body frame to an instantaneous change in the Euler angles (world frame) is done with the matrix multiplication derived in the lesson. \n",
    "$$\n",
    "\\begin{pmatrix} \\dot{\\phi} \\\\ \\dot{\\theta} \\\\ \\dot{\\psi}\\end{pmatrix} = \\begin{pmatrix} 1 & \\sin{\\phi}\\tan{\\theta} & \\cos{\\phi}\\tan{\\theta} \\\\ 0 & \\cos{\\phi} & -\\sin{\\phi} \\\\ 0 & \\sin{\\phi}\\sec{\\theta} & \\cos{\\phi}\\sec{\\theta} \\end{pmatrix} \\times \\begin{pmatrix} p \\\\ q \\\\ r \\end{pmatrix}\n",
    "$$\n",
    "\n",
    "where $\\sec{\\theta} = \\frac{1}{\\cos{\\theta}}$"
   ]
  },
  {
   "cell_type": "code",
   "execution_count": 15,
   "metadata": {},
   "outputs": [],
   "source": [
    "%%add_to DroneIn3D\n",
    "\n",
    "def get_euler_derivatives(self):\n",
    "    \n",
    "    body_rates = np.array([self.p, self.q, self.r])\n",
    "    matrix = np.array([[1, sin(self.phi)*tan(self.theta), cos(self.phi)*tan(self.theta)],\n",
    "                       [0,                 cos(self.phi),                 -sin(self.phi)],\n",
    "                       [0, sin(self.phi)/cos(self.theta), cos(self.phi)/cos(self.theta)]])\n",
    "    \n",
    "    return np.dot(matrix,body_rates)"
   ]
  },
  {
   "cell_type": "code",
   "execution_count": 16,
   "metadata": {},
   "outputs": [
    {
     "name": "stdout",
     "output_type": "stream",
     "text": [
      "Tests pass - exercise 3.1\n"
     ]
    }
   ],
   "source": [
    "testing.test_exercise_3_1(DroneIn3D)"
   ]
  },
  {
   "cell_type": "markdown",
   "metadata": {},
   "source": [
    "### 3.2 Advance state function\n",
    "The new state vector can be calculated for $dt$ time advance by knowing all the parameters describing its change. \n",
    "State vector $X = [x,y,z,\\phi,\\theta,\\psi,\\dot{x},\\dot{y},\\dot{z},p,q,r]$, where $\\dot{X} = [\\dot{x},\\dot{y},\\dot{z},\\dot{\\phi},\\dot{\\theta},\\dot{\\psi},\\ddot{x},\\ddot{y},\\ddot{z},\\dot{p},\\dot{q},\\dot{r}]$\n",
    "\n",
    "Note that you will need to use the following methods to advance the state of the drone: `linear_acceleration`, `get_euler_derivatives`, and `get_omega_dot`."
   ]
  },
  {
   "cell_type": "code",
   "execution_count": 17,
   "metadata": {},
   "outputs": [],
   "source": [
    "%%add_to DroneIn3D\n",
    "\n",
    "def advance_state(self, dt):\n",
    "\n",
    "    phi_dot, theta_dot, psi_dot = self.get_euler_derivatives()\n",
    "    x_dot_dot, y_dot_dot, z_dot_dot = self.linear_acceleration()\n",
    "    p_dot, q_dot, r_dot = self.get_omega_dot()\n",
    "    X_dot = np.array([self.x_dot, self.y_dot, self.z_dot,\n",
    "                      phi_dot, theta_dot, psi_dot,\n",
    "                      x_dot_dot, y_dot_dot, z_dot_dot,\n",
    "                      p_dot, q_dot, r_dot])\n",
    "    \n",
    "    self.X = self.X + (np.multiply(dt, X_dot))"
   ]
  },
  {
   "cell_type": "code",
   "execution_count": 18,
   "metadata": {},
   "outputs": [
    {
     "name": "stdout",
     "output_type": "stream",
     "text": [
      "Tests pass - exercise 3.2\n"
     ]
    }
   ],
   "source": [
    "testing.test_exercise_3_2(DroneIn3D)"
   ]
  },
  {
   "cell_type": "markdown",
   "metadata": {},
   "source": [
    "Exercise 3 ends here! At this point you should press \"Next\" and continue with the lesson.\n",
    "\n",
    "-----\n",
    "\n",
    "-----\n",
    "\n",
    "-----"
   ]
  },
  {
   "cell_type": "markdown",
   "metadata": {},
   "source": [
    "# 3D controller\n",
    "Next, we will implement the controller for the drone which will be able to control it in the 3D environment. \n",
    "From lesson, you are already familiar with the architecture of the controller. It consists of altitude controller, position controller, and attitude controller. \n",
    "\n",
    "<img src=\"control1_mod.png\" width=\"800\">\n",
    "The attitude controller breaks down into smaller controllers responsible for roll-pitch, yaw, and body rate. \n",
    "<img src=\"control2.png\" width=\"600\">\n",
    "Parameters which will be required to create the controller are:\n",
    " - Altitude controller: $k_{p-z}$, $k_{d-z}$\n",
    " - Position (lateral) controller: $k_{p-x}$, $k_{d-x}$, $k_{p-y}$, $k_{d-y}$\n",
    " - Roll-Pitch controller: $k_{p-roll}$, $k_{p-pitch}$\n",
    " - Yaw controller: $k_{p-yaw}$\n",
    " - Body rate controller: $k_{p-p}$, $k_{p-q}$, $k_{p-r}$\n",
    " \n",
    "Based on input parameters we also can calculate $\\delta$ and $\\omega_n$ for altitude $z$ and lateral controls $x$ and $y$."
   ]
  },
  {
   "cell_type": "code",
   "execution_count": 19,
   "metadata": {},
   "outputs": [],
   "source": [
    "class Controller(UDACITYController):\n",
    "    \n",
    "    def __init__(self,\n",
    "                z_k_p=1.0,\n",
    "                z_k_d=1.0,\n",
    "                x_k_p=1.0,\n",
    "                x_k_d=1.0,\n",
    "                y_k_p=1.0,\n",
    "                y_k_d=1.0,\n",
    "                k_p_roll=1.0,\n",
    "                k_p_pitch=1.0,\n",
    "                k_p_yaw=1.0,\n",
    "                k_p_p=1.0,\n",
    "                k_p_q=1.0,\n",
    "                k_p_r=1.0):\n",
    "        \n",
    "        \n",
    "        self.z_k_p = z_k_p\n",
    "        self.z_k_d = z_k_d\n",
    "        self.x_k_p = x_k_p\n",
    "        self.x_k_d = x_k_d\n",
    "        self.y_k_p = y_k_p\n",
    "        self.y_k_d = y_k_d\n",
    "        self.k_p_roll = k_p_roll\n",
    "        self.k_p_pitch = k_p_pitch\n",
    "        self.k_p_yaw = k_p_yaw\n",
    "        self.k_p_p = k_p_p\n",
    "        self.k_p_q = k_p_q\n",
    "        self.k_p_r = k_p_r\n",
    "        \n",
    "        print('x: delta = %5.3f'%(x_k_d/2/math.sqrt(x_k_p)), ' omega_n = %5.3f'%(math.sqrt(x_k_p)))\n",
    "        print('y: delta = %5.3f'%(y_k_d/2/math.sqrt(y_k_p)), ' omega_n = %5.3f'%(math.sqrt(y_k_p)))\n",
    "        print('z: delta = %5.3f'%(z_k_d/2/math.sqrt(z_k_p)), ' omega_n = %5.3f'%(math.sqrt(z_k_p)))\n",
    "        \n",
    "        self.g= 9.81\n",
    "    "
   ]
  },
  {
   "cell_type": "markdown",
   "metadata": {},
   "source": [
    "## Exercise 4\n",
    "Note that we are using a slightly different control architecture than what is discussed in the lesson (and what you will implement in the final project).\n",
    "\n",
    "For now, the job of the lateral controller is to generate commanded values for the rotation matrix elements $\\mathbf{R_{13}}$ (also referred to as $b^x$) and $\\mathbf{R_{23}}$ (also referred to as $b^y$).\n",
    "\n",
    "### 4.1 Lateral controller \n",
    "The lateral controller will use a PD controller to command target values for elements of the drone's rotation matrix. The drone generates lateral acceleration by changing the body orientation which results in non-zero thrust in the desired direction. This will translate into the commanded rotation matrix elements $b^x_c$ and $b^y_c$. The control equations have the following form:\n",
    "\n",
    "$$\n",
    "\\begin{align}\n",
    "\\ddot{x}_{\\text{command}} &=  c b^x_c \\\\\n",
    "\\ddot{x}_{\\text{command}} &=  k^x_p(x_t-x_a) + k_d^x(\\dot{x}_t - \\dot{x}_a)+ \\ddot{x}_t \\\\\n",
    "b^x_c &= \\ddot{x}_{\\text{command}}/c\n",
    "\\end{align}\n",
    "$$\n",
    "\n",
    "for the $y$ direction the control equations will have the same form as above."
   ]
  },
  {
   "cell_type": "code",
   "execution_count": 24,
   "metadata": {},
   "outputs": [],
   "source": [
    "%%add_to Controller\n",
    "\n",
    "# Exercise 4.1\n",
    "\n",
    "def lateral_controller(self,\n",
    "                      x_target,\n",
    "                      x_dot_target,\n",
    "                      x_dot_dot_target,\n",
    "                      x_actual,\n",
    "                      x_dot_actual,\n",
    "                      y_target,\n",
    "                      y_dot_target,\n",
    "                      y_dot_dot_target,\n",
    "                      y_actual,\n",
    "                      y_dot_actual,\n",
    "                      c):\n",
    "    \n",
    "    # TODO replace with your own implementation\n",
    "    # return b_x_c, b_y_c\n",
    "    x_dot_dot_c = self.x_k_p * (x_target-x_actual) + \\\n",
    "                  self.x_k_d * (x_dot_target - x_dot_actual) + \\\n",
    "                  x_dot_dot_target\n",
    "    b_x_c = x_dot_dot_c / c \n",
    "    y_dot_dot_c = self.y_k_p * (y_target-y_actual) + \\\n",
    "                  self.y_k_d * (y_dot_target - y_dot_actual) + \\\n",
    "                  y_dot_dot_target\n",
    "    b_y_c = y_dot_dot_c / c \n",
    "    return b_x_c, b_y_c"
   ]
  },
  {
   "cell_type": "code",
   "execution_count": 25,
   "metadata": {},
   "outputs": [
    {
     "name": "stdout",
     "output_type": "stream",
     "text": [
      "x: delta = 0.593  omega_n = 1.095\n",
      "y: delta = 0.634  omega_n = 1.183\n",
      "z: delta = 0.550  omega_n = 1.000\n",
      "x: delta = 0.593  omega_n = 1.095\n",
      "y: delta = 0.634  omega_n = 1.183\n",
      "z: delta = 0.550  omega_n = 1.000\n",
      "Tests pass - exercise 4.1\n"
     ]
    }
   ],
   "source": [
    "testing.test_exercise_4_1(Controller)"
   ]
  },
  {
   "cell_type": "markdown",
   "metadata": {},
   "source": [
    "### 4.2 Roll-Pitch controller\n",
    "\n",
    "The roll-pitch controller is a P controller responsible for commanding the roll and pitch rates ($p_c$ and $q_c$) in the body frame.  First, it sets the desired rate of change of the given matrix elements using a P controller. \n",
    "\n",
    "**Note** - subscript c means \"commanded\" and a means \"actual\"\n",
    "\n",
    "$\\dot{b}^x_c  = k_p(b^x_c - b^x_a)$\n",
    "\n",
    "$\\dot{b}^y_c  = k_p(b^y_c - b^y_a)$\n",
    "\n",
    "where $b^x_a = R_{13}$ and $b^y_a = R_{23}$. The given values can be converted into the angular velocities into the body frame by the next matrix multiplication. \n",
    "\n",
    "$$\n",
    "\\begin{pmatrix} p_c \\\\ q_c \\\\ \\end{pmatrix}  = \\frac{1}{R_{33}}\\begin{pmatrix} R_{21} & -R_{11} \\\\ R_{22} & -R_{12} \\end{pmatrix} \\times \\begin{pmatrix} \\dot{b}^x_c \\\\ \\dot{b}^y_c  \\end{pmatrix} \n",
    "$$\n"
   ]
  },
  {
   "cell_type": "code",
   "execution_count": null,
   "metadata": {},
   "outputs": [],
   "source": [
    "%%add_to Controller\n",
    "\n",
    "# Exercise 4.2\n",
    "\n",
    "def roll_pitch_controller(self,\n",
    "                          b_x_c_target,\n",
    "                          b_y_c_target,\n",
    "                          rot_mat):\n",
    "    \n",
    "    b_x_a = rot_mat[]\n",
    "    return p_c, q_c"
   ]
  },
  {
   "cell_type": "code",
   "execution_count": null,
   "metadata": {},
   "outputs": [],
   "source": [
    "testing.test_exercise_4_2(Controller)"
   ]
  },
  {
   "cell_type": "markdown",
   "metadata": {},
   "source": [
    "Exercise 4 ends here! At this point you should press \"Next\" and continue with the lesson. \n",
    "\n",
    "------"
   ]
  },
  {
   "cell_type": "markdown",
   "metadata": {},
   "source": [
    "## Exercise 5\n",
    "\n",
    "### 5.1 Body rate controller\n",
    "The commanded roll, pitch, and yaw are collected by the body rate controller, and they are translated into the desired rotational accelerations along the axis in the body frame. \n",
    "\n",
    "$p_{\\text{error}} = p_c - p$\n",
    "\n",
    "$\\bar{u}_p= k_{p-p} p_{\\text{error}}$\n",
    "\n",
    "$q_{\\text{error}} = q_c - q$\n",
    "\n",
    "$\\bar{u}_q= k_{p-q} q_{\\text{error}}$\n",
    "\n",
    "$r_{\\text{error}} = r_c - r$\n",
    "\n",
    "$\\bar{u}_r= k_{p-r} r_{\\text{error}}$\n"
   ]
  },
  {
   "cell_type": "code",
   "execution_count": null,
   "metadata": {},
   "outputs": [],
   "source": [
    "%%add_to Controller\n",
    "\n",
    "# Exercise 5.1 \n",
    "\n",
    "def body_rate_controller(self,\n",
    "                         p_c,\n",
    "                         q_c,\n",
    "                         r_c,\n",
    "                         p_actual,\n",
    "                         q_actual,\n",
    "                         r_actual):\n",
    "    # TODO replace with your own implementation\n",
    "    # return u_bar_p, u_bar_q, u_bar_r\n",
    "    return super(Controller, self).body_rate_controller(p_c,\n",
    "                                                         q_c,\n",
    "                                                         r_c,\n",
    "                                                         p_actual,\n",
    "                                                         q_actual,\n",
    "                                                         r_actual)"
   ]
  },
  {
   "cell_type": "code",
   "execution_count": null,
   "metadata": {},
   "outputs": [],
   "source": [
    "testing.test_exercise_5_1(Controller)"
   ]
  },
  {
   "cell_type": "markdown",
   "metadata": {},
   "source": [
    "### 5.2 Yaw controller\n",
    "\n",
    "Control over yaw is decoupled from the other directions. A P controller is used to control the drone's yaw.\n",
    "\n",
    "$r_c = k_p (\\psi_t - \\psi_a)$"
   ]
  },
  {
   "cell_type": "code",
   "execution_count": null,
   "metadata": {},
   "outputs": [],
   "source": [
    "%%add_to Controller\n",
    "\n",
    "# Exercise 5.2\n",
    "\n",
    "def yaw_controller(self,\n",
    "                   psi_target,\n",
    "                   psi_actual):\n",
    "    \n",
    "    # TODO replace with your own implementation\n",
    "    # return r_c\n",
    "    \n",
    "    return super(Controller, self).yaw_controller(psi_target,\n",
    "                                                  psi_actual)"
   ]
  },
  {
   "cell_type": "code",
   "execution_count": null,
   "metadata": {},
   "outputs": [],
   "source": [
    "testing.test_exercise_5_2(Controller)"
   ]
  },
  {
   "cell_type": "markdown",
   "metadata": {},
   "source": [
    "### 5.3 Altitude Controller\n",
    "\n",
    "Linear acceleration can be expressed by the next linear equation\n",
    "$$\n",
    "\\begin{pmatrix} \\ddot{x} \\\\ \\ddot{y} \\\\ \\ddot{z}\\end{pmatrix}  = \\begin{pmatrix} 0 \\\\ 0 \\\\ g\\end{pmatrix} + R \\begin{pmatrix} 0 \\\\ 0 \\\\ c \\end{pmatrix} \n",
    "$$\n",
    "\n",
    "where $R = R(\\psi) \\times R(\\theta) \\times R(\\phi)$. The individual linear acceleration has the form of \n",
    "\n",
    "$$\n",
    "\\begin{align}\n",
    "\\ddot{x} &= c b^x \\\\ \n",
    "\\ddot{y} &= c b^y \\\\ \n",
    "\\ddot{z} &= c b^z +g\n",
    "\\end{align}\n",
    "$$ \n",
    "where $b^x = R_{13}$, $b^y= R_{23}$ and $b^z = R_{33}$ are the elements of the last column of the rotation matrix. \n",
    "\n",
    "We are controlling the vertical acceleration: \n",
    "\n",
    "$$\\bar{u}_1 = \\ddot{z} = c b^z +g$$ \n",
    "\n",
    "Therefore \n",
    "\n",
    "$$c = (\\bar{u}_1-g)/b^z$$  \n",
    "\n",
    "\n",
    "In this exercise a PD controller is used for the altitude which results in: \n",
    "\n",
    "$$\\bar{u}_1 = k_{p-z}(z_{t} - z_{a}) + k_{d-z}(\\dot{z}_{t} - \\dot{z}_{a}) + \\ddot{z}_t$$\n"
   ]
  },
  {
   "cell_type": "code",
   "execution_count": null,
   "metadata": {},
   "outputs": [],
   "source": [
    "%%add_to Controller\n",
    "\n",
    "# Exercise 5.3\n",
    "\n",
    "def altitude_controller(self,\n",
    "                       z_target,\n",
    "                       z_dot_target,\n",
    "                       z_dot_dot_target,\n",
    "                       z_actual,\n",
    "                       z_dot_actual,\n",
    "                       rot_mat):\n",
    "    \n",
    "    # TODO replace with your own implementation\n",
    "    # return c\n",
    "    \n",
    "    return super(Controller, self).altitude_controller(z_target,\n",
    "                                                       z_dot_target,\n",
    "                                                       z_dot_dot_target,\n",
    "                                                       z_actual,\n",
    "                                                       z_dot_actual,\n",
    "                                                       rot_mat)"
   ]
  },
  {
   "cell_type": "code",
   "execution_count": null,
   "metadata": {},
   "outputs": [],
   "source": [
    "testing.test_exercise_5_3(Controller)"
   ]
  },
  {
   "cell_type": "markdown",
   "metadata": {},
   "source": [
    "### Attitude controller (provided)\n",
    "\n",
    "For the purposes of this lesson, the attitude controller consists of the roll-pitch controller, yaw controller, and body rate controller. We've provided this code for you (but you should read through it)."
   ]
  },
  {
   "cell_type": "code",
   "execution_count": null,
   "metadata": {},
   "outputs": [],
   "source": [
    "%%add_to Controller\n",
    "\n",
    "def attitude_controller(self,\n",
    "                       b_x_c_target,\n",
    "                       b_y_c_target,\n",
    "                       psi_target,\n",
    "                       psi_actual,\n",
    "                       p_actual,\n",
    "                       q_actual,\n",
    "                       r_actual,\n",
    "                       rot_mat):\n",
    "\n",
    "    p_c, q_c = self.roll_pitch_controller(b_x_c_target,\n",
    "                                          b_y_c_target,\n",
    "                                          rot_mat)\n",
    "    \n",
    "    r_c = self.yaw_controller(psi_target, \n",
    "                              psi_actual)\n",
    "    \n",
    "    u_bar_p, u_bar_q, u_bar_r = self.body_rate_controller(\n",
    "        p_c,\n",
    "        q_c,\n",
    "        r_c,\n",
    "        p_actual,\n",
    "        q_actual,\n",
    "        r_actual)\n",
    "\n",
    "    return u_bar_p, u_bar_q, u_bar_r"
   ]
  },
  {
   "cell_type": "markdown",
   "metadata": {},
   "source": [
    "# Flight planning \n",
    "\n",
    "In order to test the developed drone dynamics and the controller, we will execute simple three-dimensional flight with changing yaw angle. \n",
    "\n",
    "_Keep in mind that the desired flight path needs to have an analytical form (differentiable for the entirety of the path)._\n",
    "\n",
    "The selected test path is a figure 8 in three dimensions with yaw that keeps the drone always facing along the motion direction. \n",
    "\n",
    "$$\n",
    "\\begin{align}\n",
    "x &= \\sin{\\omega_x t} \\\\\n",
    "y &= \\cos{\\omega_y t} \\\\\n",
    "z &= \\cos{\\omega_z t} \\\\\n",
    "\\end{align}\n",
    "$$\n",
    "$\\omega_z = \\omega_y = \\omega_x/2$."
   ]
  },
  {
   "cell_type": "code",
   "execution_count": null,
   "metadata": {},
   "outputs": [],
   "source": [
    "total_time = 20.0\n",
    "dt = 0.01\n",
    "\n",
    "t=np.linspace(0.0,total_time,int(total_time/dt))\n",
    "\n",
    "omega_x = 0.8\n",
    "omega_y = 0.4\n",
    "omega_z = 0.4\n",
    "\n",
    "a_x = 1.0 \n",
    "a_y = 1.0\n",
    "a_z = 1.0\n",
    "\n",
    "x_path= a_x * np.sin(omega_x * t) \n",
    "x_dot_path= a_x * omega_x * np.cos(omega_x * t)\n",
    "x_dot_dot_path= -a_x * omega_x**2 * np.sin(omega_x * t)\n",
    "\n",
    "y_path= a_y * np.cos(omega_y * t)\n",
    "y_dot_path= -a_y * omega_y * np.sin(omega_y * t)\n",
    "y_dot_dot_path= -a_y * omega_y**2 * np.cos(omega_y * t)\n",
    "\n",
    "z_path= a_z * np.cos(omega_z * t)\n",
    "z_dot_path= -a_z * omega_z * np.sin(omega_z * t)\n",
    "z_dot_dot_path= - a_z * omega_z**2 * np.cos(omega_z * t)\n",
    "\n",
    "psi_path= np.arctan2(y_dot_path,x_dot_path)\n",
    "\n",
    "fig = plt.figure()\n",
    "ax = fig.gca(projection='3d')\n",
    "ax.plot(x_path, y_path, z_path)\n",
    "plt.title('Flight path').set_fontsize(20)\n",
    "ax.set_xlabel('$x$ [$m$]').set_fontsize(20)\n",
    "ax.set_ylabel('$y$ [$m$]').set_fontsize(20)\n",
    "ax.set_zlabel('$z$ [$m$]').set_fontsize(20)\n",
    "plt.legend(['Planned path'],fontsize = 14)\n",
    "plt.figure(figsize=(10,10))\n",
    "plt.show()"
   ]
  },
  {
   "cell_type": "markdown",
   "metadata": {},
   "source": [
    "### Plotting the drone's headings"
   ]
  },
  {
   "cell_type": "code",
   "execution_count": null,
   "metadata": {},
   "outputs": [],
   "source": [
    "fig = plt.figure()\n",
    "ax = fig.gca(projection='3d')\n",
    "\n",
    "u = np.cos(psi_path)\n",
    "v = np.sin(psi_path)\n",
    "w = np.zeros(psi_path.shape)\n",
    "for i in range(0,z_path.shape[0],20):\n",
    "    ax.quiver(x_path[i], y_path[i], z_path[i], u[i], v[i], w[i], length=0.2, normalize=True,color='green')\n",
    "\n",
    "plt.title('Flight path').set_fontsize(20)\n",
    "ax.set_xlabel('$x$ [$m$]').set_fontsize(20)\n",
    "ax.set_ylabel('$y$ [$m$]').set_fontsize(20)\n",
    "ax.set_zlabel('$z$ [$m$]').set_fontsize(20)\n",
    "plt.legend(['Planned yaw',],fontsize = 14)\n",
    "\n",
    "plt.show()"
   ]
  },
  {
   "cell_type": "markdown",
   "metadata": {},
   "source": [
    "# Executing the flight\n",
    "\n",
    "In this section, we will set up the entire system and will connect the drone object with the controller object. Next, execute the flight and compare the desired path with the executed one. "
   ]
  },
  {
   "cell_type": "code",
   "execution_count": null,
   "metadata": {},
   "outputs": [],
   "source": [
    "# how fast the inner loop (Attitude controller) performs calculations \n",
    "# relative to the outer loops (altitude and position controllers).\n",
    "inner_loop_relative_to_outer_loop = 10\n",
    "\n",
    "# creating the drone object\n",
    "drone = DroneIn3D()\n",
    " \n",
    "# creating the control system object \n",
    "\n",
    "control_system = Controller(z_k_p=2.0, \n",
    "                            z_k_d=1.0, \n",
    "                            x_k_p=6.0,\n",
    "                            x_k_d=4.0,\n",
    "                            y_k_p=6.0,\n",
    "                            y_k_d=4.0,\n",
    "                            k_p_roll=8.0,\n",
    "                            k_p_pitch=8.0,\n",
    "                            k_p_yaw=8.0,\n",
    "                            k_p_p=20.0,\n",
    "                            k_p_q=20.0,\n",
    "                            k_p_r=20.0)\n",
    "\n",
    "\n",
    "\n",
    "# declaring the initial state of the drone with zero\n",
    "# height and zero velocity \n",
    "\n",
    "drone.X = np.array([x_path[0],\n",
    "                               y_path[0],\n",
    "                               z_path[0],\n",
    "                               0.0,\n",
    "                               0.0,\n",
    "                               psi_path[0],\n",
    "                               x_dot_path[0],\n",
    "                               y_dot_path[0],\n",
    "                               z_dot_path[0],\n",
    "                               0.0,\n",
    "                               0.0,\n",
    "                               0.0])\n",
    "\n",
    "# arrays for recording the state history, \n",
    "# propeller angular velocities and linear accelerations\n",
    "drone_state_history = drone.X\n",
    "omega_history = drone.omega\n",
    "accelerations = drone.linear_acceleration()\n",
    "accelerations_history= accelerations\n",
    "angular_vel_history = drone.get_euler_derivatives()\n",
    "\n",
    "# executing the flight\n",
    "for i in range(0,z_path.shape[0]):\n",
    "    \n",
    "    rot_mat = drone.R()\n",
    "\n",
    "    c = control_system.altitude_controller(z_path[i],\n",
    "                                           z_dot_path[i],\n",
    "                                           z_dot_dot_path[i],\n",
    "                                           drone.X[2],\n",
    "                                           drone.X[8],\n",
    "                                           rot_mat)\n",
    "    \n",
    "    b_x_c, b_y_c = control_system.lateral_controller(x_path[i],\n",
    "                                                     x_dot_path[i],\n",
    "                                                     x_dot_dot_path[i],\n",
    "                                                     drone.X[0],\n",
    "                                                     drone.X[6],\n",
    "                                                     y_path[i],\n",
    "                                                     y_dot_path[i],\n",
    "                                                     y_dot_dot_path[i],\n",
    "                                                     drone.X[1],\n",
    "                                                     drone.X[7],\n",
    "                                                     c) \n",
    "    \n",
    "    for _ in range(inner_loop_relative_to_outer_loop):\n",
    "        \n",
    "        rot_mat = drone.R()\n",
    "        \n",
    "        angular_vel = drone.get_euler_derivatives()\n",
    "        \n",
    "        u_bar_p, u_bar_q, u_bar_r = control_system.attitude_controller(\n",
    "            b_x_c,\n",
    "            b_y_c,\n",
    "            psi_path[i],\n",
    "            drone.psi,\n",
    "            drone.X[9],\n",
    "            drone.X[10],\n",
    "            drone.X[11],\n",
    "            rot_mat)\n",
    "        \n",
    "        drone.set_propeller_angular_velocities(c, u_bar_p, u_bar_q, u_bar_r)\n",
    "        \n",
    "        drone_state = drone.advance_state(dt/inner_loop_relative_to_outer_loop)\n",
    "        \n",
    "    # generating a history of the state history, propeller angular velocities and linear accelerations\n",
    "    drone_state_history = np.vstack((drone_state_history, drone_state))\n",
    "    \n",
    "    omega_history=np.vstack((omega_history,drone.omega))\n",
    "    accelerations = drone.linear_acceleration()\n",
    "    accelerations_history= np.vstack((accelerations_history,accelerations))\n",
    "    angular_vel_history = np.vstack((angular_vel_history,drone.get_euler_derivatives()))\n",
    "    \n",
    "\n",
    "\n",
    "fig = plt.figure()\n",
    "ax = fig.gca(projection='3d')\n",
    "ax.plot(x_path, y_path, z_path,linestyle='-',marker='.',color='red')\n",
    "ax.plot(drone_state_history[:,0],\n",
    "         drone_state_history[:,1],\n",
    "         drone_state_history[:,2],\n",
    "         linestyle='-',color='blue')\n",
    "\n",
    "plt.title('Flight path').set_fontsize(20)\n",
    "ax.set_xlabel('$x$ [$m$]').set_fontsize(20)\n",
    "ax.set_ylabel('$y$ [$m$]').set_fontsize(20)\n",
    "ax.set_zlabel('$z$ [$m$]').set_fontsize(20)\n",
    "plt.legend(['Planned path','Executed path'],fontsize = 14)\n",
    "\n",
    "ax.set_xlim(-1, 1)\n",
    "ax.set_ylim(-1, 1)\n",
    "ax.set_zlim(-1, 1)\n",
    "\n",
    "plt.show()\n"
   ]
  },
  {
   "cell_type": "markdown",
   "metadata": {},
   "source": [
    "# Flight path comparison \n",
    "\n",
    "Comparing the desired heading and the actual heading (Yaw angle)."
   ]
  },
  {
   "cell_type": "code",
   "execution_count": null,
   "metadata": {},
   "outputs": [],
   "source": [
    "fig = plt.figure()\n",
    "ax = fig.gca(projection='3d')\n",
    "\n",
    "u = np.cos(psi_path)\n",
    "v = np.sin(psi_path)\n",
    "w = np.zeros(psi_path.shape)\n",
    "\n",
    "drone_u = np.cos(drone_state_history[:,5])\n",
    "drone_v = np.sin(drone_state_history[:,5])\n",
    "drone_w = np.zeros(psi_path.shape)\n",
    "\n",
    "for i in range(0,z_path.shape[0],20):\n",
    "    ax.quiver(x_path[i], y_path[i], z_path[i], u[i], v[i], w[i], length=0.2, normalize=True,color='red')\n",
    "    ax.quiver(drone_state_history[i,0], \n",
    "              drone_state_history[i,1], \n",
    "              drone_state_history[i,2], \n",
    "              drone_u[i], drone_v[i], drone_w[i], \n",
    "              length=0.2, normalize=True,color='blue')\n",
    "ax.set_ylim(-1, 1)\n",
    "ax.set_zlim(-1, 1)\n",
    "plt.title('Flight path').set_fontsize(20)\n",
    "ax.set_xlabel('$x$ [$m$]').set_fontsize(20)\n",
    "ax.set_ylabel('$y$ [$m$]').set_fontsize(20)\n",
    "ax.set_zlabel('$z$ [$m$]').set_fontsize(20)\n",
    "plt.legend(['Planned yaw','Executed yaw'],fontsize = 14)\n",
    "\n",
    "plt.show()"
   ]
  },
  {
   "cell_type": "markdown",
   "metadata": {},
   "source": [
    "Calculating the error in position $\\epsilon^2(t) = \\left(x_t(t)-x_a(t)\\right)^2 + \\left(y_t(t)-y_a(t)\\right)^2+ \\left(z_t(t)-z_a(t)\\right)^2$."
   ]
  },
  {
   "cell_type": "code",
   "execution_count": null,
   "metadata": {},
   "outputs": [],
   "source": [
    "err= np.sqrt((x_path-drone_state_history[:-1,0])**2 \n",
    "             +(y_path-drone_state_history[:-1,1])**2 \n",
    "             +(y_path-drone_state_history[:-1,2])**2)\n",
    "\n",
    "\n",
    "plt.plot(t,err)\n",
    "plt.title('Error in flight position').set_fontsize(20)\n",
    "plt.xlabel('$t$ [$s$]').set_fontsize(20)\n",
    "plt.ylabel('$e$ [$m$]').set_fontsize(20)\n",
    "plt.show()"
   ]
  },
  {
   "cell_type": "markdown",
   "metadata": {},
   "source": [
    "Plotting the angular velocities of the propellers in time. "
   ]
  },
  {
   "cell_type": "code",
   "execution_count": null,
   "metadata": {},
   "outputs": [],
   "source": [
    "plt.plot(t,-omega_history[:-1,0],color='blue')\n",
    "plt.plot(t,omega_history[:-1,1],color='red')\n",
    "plt.plot(t,-omega_history[:-1,2],color='green')\n",
    "plt.plot(t,omega_history[:-1,3],color='black')\n",
    "\n",
    "plt.title('Angular velocities').set_fontsize(20)\n",
    "plt.xlabel('$t$ [$s$]').set_fontsize(20)\n",
    "plt.ylabel('$\\omega$ [$rad/s$]').set_fontsize(20)\n",
    "plt.legend(['P 1','P 2','P 3','P 4' ],fontsize = 14)\n",
    "\n",
    "plt.grid()\n",
    "plt.show()"
   ]
  },
  {
   "cell_type": "markdown",
   "metadata": {},
   "source": [
    "Plotting the Yaw angle of the drone in time. "
   ]
  },
  {
   "cell_type": "code",
   "execution_count": null,
   "metadata": {},
   "outputs": [],
   "source": [
    "plt.plot(t,psi_path,marker='.')\n",
    "plt.plot(t,drone_state_history[:-1,5])\n",
    "plt.title('Yaw angle').set_fontsize(20)\n",
    "plt.xlabel('$t$ [$s$]').set_fontsize(20)\n",
    "plt.ylabel('$\\psi$ [$rad$]').set_fontsize(20)\n",
    "plt.legend(['Planned yaw','Executed yaw'],fontsize = 14)\n",
    "plt.show()"
   ]
  },
  {
   "cell_type": "markdown",
   "metadata": {},
   "source": [
    "[Solution](/notebooks/solution.py)"
   ]
  },
  {
   "cell_type": "code",
   "execution_count": null,
   "metadata": {},
   "outputs": [],
   "source": []
  }
 ],
 "metadata": {
  "kernelspec": {
   "display_name": "Python 3",
   "language": "python",
   "name": "python3"
  },
  "language_info": {
   "codemirror_mode": {
    "name": "ipython",
    "version": 3
   },
   "file_extension": ".py",
   "mimetype": "text/x-python",
   "name": "python",
   "nbconvert_exporter": "python",
   "pygments_lexer": "ipython3",
   "version": "3.6.3"
  }
 },
 "nbformat": 4,
 "nbformat_minor": 2
}
