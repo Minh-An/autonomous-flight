{
 "cells": [
  {
   "cell_type": "code",
   "execution_count": null,
   "metadata": {},
   "outputs": [],
   "source": [
    "%matplotlib inline \n",
    "%config InlineBackend.figure_format = 'retina'\n",
    "\n",
    "%load_ext autoreload\n",
    "%autoreload 2\n",
    "\n",
    "import numpy as np \n",
    "import matplotlib.pyplot as plt\n",
    "import matplotlib.pylab as pylab\n",
    "from simplified_monorotor import Monorotor\n",
    "import plotting\n",
    "import testing\n",
    "import trajectories\n",
    "\n",
    "pylab.rcParams['figure.figsize'] = 10,10"
   ]
  },
  {
   "cell_type": "markdown",
   "metadata": {
    "collapsed": true
   },
   "source": [
    "# Feedforward control\n",
    "\n",
    "The feedforward term captures the acceleration of the target path and adds to the $\\bar{u}_1$ calculated by PD controller. \n",
    "\n",
    "$$\n",
    "\\ddot{z} = \\bar{u}_1= k_p(z_t-z)+k_d(z_t-z)+\\ddot{z}\n",
    "$$ "
   ]
  },
  {
   "cell_type": "markdown",
   "metadata": {},
   "source": [
    "#### TODO - Implement PD controller WITH feed forward acceleration\n",
    "\n",
    "Modify `thrust_control` to incorporate the feedforward term into the PD Controller math.\n",
    "\n",
    "$$\n",
    "\\begin{align}\n",
    "e &= z_{\\text{target}} - z_{\\text{actual}} \\\\\n",
    "\\dot{e} &= \\dot{z}_{\\text{target}} - \\dot{z}_{\\text{actual}} \\\\\n",
    "\\bar{u}_1 &= k_p e + k_d \\dot{e} + \\ddot{z}_{\\text{ff}} \\\\\n",
    "u_1 &= m(g - \\bar{u}_1)\n",
    "\\end{align}\n",
    "$$"
   ]
  },
  {
   "cell_type": "code",
   "execution_count": null,
   "metadata": {},
   "outputs": [],
   "source": [
    "class PDController:\n",
    "    \n",
    "    def __init__(self, k_p, k_d, m):\n",
    "        self.k_p = k_p\n",
    "        self.k_d = k_d\n",
    "        self.vehicle_mass = m\n",
    "        self.g = 9.81\n",
    "    \n",
    "    def thrust_control(self,\n",
    "                z_target, \n",
    "                z_actual, \n",
    "                z_dot_target, \n",
    "                z_dot_actual,\n",
    "                z_dot_dot_ff=0.0):\n",
    "        #\n",
    "        # TODO \n",
    "        #   modify the PD control code to incorporate\n",
    "        #   the feedforward term.\n",
    "        \n",
    "        err = z_target - z_actual\n",
    "        err_dot = z_dot_target - z_dot_actual\n",
    "        u_bar = self.k_p * err + self.k_d * err_dot \n",
    "        u = self.vehicle_mass * (self.g - u_bar) \n",
    "        \n",
    "        return u\n",
    "    \n",
    "testing.pd_controller_test(PDController, feed_forward=True)"
   ]
  },
  {
   "cell_type": "markdown",
   "metadata": {},
   "source": [
    "#### TODO 2 - Compare trajectories with and without a feedforward term\n",
    "\n",
    "The code below generates plots of $z$ vs $t$ for two drones. One uses FF and the other doesn't.\n",
    "\n",
    "Run the code and compare the two trajectories. What happens if you increase the oscillation frequency to 10? What happens if you decrease it to 2?\n",
    "\n",
    "You should notice a **lag** in the system response: the trajectory without the feedforward term should lag behind the desired trajectory in time. This effect diminishes as the oscillation frequency decreases."
   ]
  },
  {
   "cell_type": "code",
   "execution_count": null,
   "metadata": {},
   "outputs": [],
   "source": [
    "# This code simulates TWO drones. One uses the feed forward\n",
    "# acceleration and the other doesn't. Note the difference in\n",
    "# trajectories.\n",
    "\n",
    "MASS_ERROR = 1.0\n",
    "K_P = 20.0\n",
    "K_D = 8.0\n",
    "\n",
    "AMPLITUDE = 0.5\n",
    "OSCILLATION_FREQUENCY = 5\n",
    "\n",
    "PERIOD = 2 * np.pi / OSCILLATION_FREQUENCY\n",
    "\n",
    "# preparation (TWO drones to compare)\n",
    "drone = Monorotor()\n",
    "ff_drone = Monorotor()\n",
    "perceived_mass = drone.m * MASS_ERROR\n",
    "\n",
    "# instantiate TWO controllers\n",
    "controller    = PDController(K_P, K_D, perceived_mass)\n",
    "ff_controller = PDController(K_P, K_D, perceived_mass)\n",
    "\n",
    "# get trajectories\n",
    "t, z_path, z_dot_path, z_dot_dot_path = trajectories.cosine(AMPLITUDE, \n",
    "                                                            PERIOD,\n",
    "                                                           duration=6.0)\n",
    "dt = t[1] - t[0]\n",
    "# run simulation\n",
    "history = []\n",
    "ff_history = []\n",
    "for z_target, z_dot_target, z_dot_dot_ff in zip(z_path, \n",
    "                                                z_dot_path, \n",
    "                                                z_dot_dot_path):\n",
    "    z_actual = drone.z\n",
    "    z_dot_actual = drone.z_dot\n",
    "    \n",
    "    ff_z_actual = ff_drone.z\n",
    "    ff_z_dot_actual = ff_drone.z_dot\n",
    "    \n",
    "    u_ff = controller.thrust_control(z_target, ff_z_actual, \n",
    "                                  z_dot_target, ff_z_dot_actual,\n",
    "                                  z_dot_dot_ff)\n",
    "    u = controller.thrust_control(z_target, z_actual, \n",
    "                                  z_dot_target, z_dot_actual)\n",
    "    \n",
    "    drone.thrust = u\n",
    "    ff_drone.thrust = u_ff\n",
    "    \n",
    "    drone.advance_state(dt)\n",
    "    ff_drone.advance_state(dt)\n",
    "    \n",
    "    history.append(drone.X)\n",
    "    ff_history.append(ff_drone.X)\n",
    "    \n",
    "# generate plots\n",
    "z_actual = [h[0] for h in history]\n",
    "z_ff_actual = [h[0] for h in ff_history]\n",
    "plotting.compare_planned_to_actual(z_actual, z_path, t, \n",
    "                                   z_ff_actual)   "
   ]
  },
  {
   "cell_type": "markdown",
   "metadata": {},
   "source": [
    "[Solution](/notebooks/PD%20with%20FF%20Solution.ipynb)"
   ]
  }
 ],
 "metadata": {
  "kernelspec": {
   "display_name": "Python 3",
   "language": "python",
   "name": "python3"
  },
  "language_info": {
   "codemirror_mode": {
    "name": "ipython",
    "version": 3
   },
   "file_extension": ".py",
   "mimetype": "text/x-python",
   "name": "python",
   "nbconvert_exporter": "python",
   "pygments_lexer": "ipython3",
   "version": "3.6.3"
  }
 },
 "nbformat": 4,
 "nbformat_minor": 2
}
