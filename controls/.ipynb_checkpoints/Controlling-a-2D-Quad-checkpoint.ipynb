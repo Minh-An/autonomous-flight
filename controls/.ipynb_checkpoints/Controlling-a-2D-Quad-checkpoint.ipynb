{
 "cells": [
  {
   "cell_type": "code",
   "execution_count": null,
   "metadata": {},
   "outputs": [],
   "source": [
    "%matplotlib inline \n",
    "%config InlineBackend.figure_format = 'retina'\n",
    "\n",
    "import numpy as np \n",
    "import math\n",
    "import matplotlib.pyplot as plt\n",
    "import matplotlib.pylab as pylab\n",
    "import jdc\n",
    "from ExerciseAnswers import Answers\n",
    "\n",
    "pylab.rcParams['figure.figsize'] = 10, 10"
   ]
  },
  {
   "cell_type": "markdown",
   "metadata": {},
   "source": [
    "In this exercise you will implement two new methods. These could be difficult OR if you use your existing code effectively they could be pretty straightforward.\n",
    "\n",
    "First you will implement `advance_state` for the controlled 2D drone. \n",
    "\n",
    "Then you will implement `set_rotors_angular_velocities` **for the 1D case!** At the end of this notebook we will try to follow a sinusoidally oscillating vertical trajectory."
   ]
  },
  {
   "cell_type": "code",
   "execution_count": null,
   "metadata": {},
   "outputs": [],
   "source": [
    "class Drone2D:\n",
    "    \n",
    "    def __init__(self,\n",
    "                 k_f = 0.1, # value of the thrust coefficient\n",
    "                 I_x = 0.1, # moment of inertia around the x-axis\n",
    "                 m = 1.0,   # mass of the vehicle \n",
    "                 l = 0.5,   # distance between the center of \n",
    "                            #   mass and the propeller axis\n",
    "                ):\n",
    "        self.k_f = k_f\n",
    "        self.I_x = I_x\n",
    "        self.l = l \n",
    "        self.m = m\n",
    "        self.omega_1 = 0.0\n",
    "        self.omega_2 = 0.0\n",
    "        self.g = 9.81\n",
    "        \n",
    "        # z, y, phi, z_dot, y_dot, phi_dot\n",
    "        self.X = np.array([0.0,0.0,0.0,0.0,0.0,0.0])\n",
    "        \n",
    "    def advance_state_uncontrolled(self,dt):\n",
    "        \"\"\"Advances the state of the drone by dt seconds. \n",
    "        Note that this method assumes zero rotational speed \n",
    "        for both propellers.\"\"\"\n",
    "        \n",
    "        X_dot = np.array([\n",
    "            self.X[3], \n",
    "            self.X[4], \n",
    "            self.X[5], \n",
    "            self.g, \n",
    "            0.0, \n",
    "            0.0])\n",
    "        \n",
    "        # Change in state will be \n",
    "        self.X = self.X + X_dot * dt\n",
    "        return self.X\n",
    "    \n",
    "    def get_thrust_and_moment(self):\n",
    "        \"\"\"Helper function which calculates and returns the \n",
    "        collective thrust and the moment about the X axis\"\"\"\n",
    "        f1 = self.k_f * self.omega_1 ** 2\n",
    "        f2 = self.k_f * self.omega_2 ** 2\n",
    "        \n",
    "        # c is often used to indicate \"collective\" thrust\n",
    "        c = f1 + f2\n",
    "        M_x = (f1 - f2) * self.l\n",
    "        return c, M_x\n",
    "\n",
    "    @property\n",
    "    def z_dot_dot(self):\n",
    "        \"\"\"Calculates vertical (z) acceleration of drone.\"\"\"\n",
    "        c, M_x = self.get_thrust_and_moment()\n",
    "        phi = self.X[2]\n",
    "        a_z = self.g - c * math.cos(phi) / self.m\n",
    "        return a_z\n",
    "\n",
    "    @property    \n",
    "    def y_dot_dot(self):\n",
    "        \"\"\"Calculates lateral (y) acceleration of drone.\"\"\"\n",
    "        c, M_x = self.get_thrust_and_moment()\n",
    "        phi = self.X[2]\n",
    "        a_y = c * math.sin(phi) / self.m\n",
    "        return a_y\n",
    "    \n",
    "    @property\n",
    "    def phi_dot_dot(self):        \n",
    "        c, M_x = self.get_thrust_and_moment()\n",
    "        angular_acc = M_x / self.I_x\n",
    "        return angular_acc\n",
    "    \n",
    "    ############################\n",
    "    # BEGIN TODOS ##############\n",
    "    \n",
    "    def advance_state(self, dt): \n",
    "        \"\"\"\n",
    "        Advances the state of the drone forward by dt seconds.\n",
    "        \"\"\"\n",
    "        \n",
    "        X_dot = np.array([self.X[3],self.X[4],self.X[5], self.z_dot_dot, self.y_dot_dot, self.phi_dot_dot])\n",
    "        \n",
    "        return self.X + \n",
    "    \n",
    "    def set_rotors_angular_velocities(self,linear_acc):\n",
    "        \"\"\"\n",
    "        Sets self.omega_1 and self.omega_2 to realize the desired\n",
    "        linear_acc. Note that this is for vertical motion ONLY. It\n",
    "        is assumed that rotational acceleration and phi is zero\n",
    "        \"\"\"\n",
    "        \n",
    "        # TODO\n",
    "\n",
    "        return self.omega_1, self.omega_2"
   ]
  },
  {
   "cell_type": "markdown",
   "metadata": {},
   "source": [
    "### Testing `advance_state` and `set_rotors`"
   ]
  },
  {
   "cell_type": "code",
   "execution_count": null,
   "metadata": {},
   "outputs": [],
   "source": [
    "# Start by generating a target trajectory and \n",
    "# target vertical acceleration\n",
    "total_time = 3.0\n",
    "dt = 0.002\n",
    "t = np.linspace(0.0,total_time,int(total_time/dt))\n",
    "\n",
    "z_path= 0.5*np.cos(2*t)-0.5\n",
    "z_dot_dot_path= -2.0*np.cos(2*t)"
   ]
  },
  {
   "cell_type": "code",
   "execution_count": null,
   "metadata": {},
   "outputs": [],
   "source": [
    "# Try to follow the trajectory. \n",
    "# Store the state history as we go.\n",
    "\n",
    "drone = Drone2D()\n",
    "\n",
    "drone_state_history = drone.X\n",
    "\n",
    "for i in range(t.shape[0]-1):\n",
    "    \n",
    "    # setting the propeller velocities \n",
    "    drone.set_rotors_angular_velocities(z_dot_dot_path[i])\n",
    "    \n",
    "    # calculating the new state vector \n",
    "    drone_state = drone.advance_state(dt)\n",
    "    \n",
    "    # generate a history of vertical positions for drone\n",
    "    drone_state_history = np.vstack((drone_state_history, drone_state))"
   ]
  },
  {
   "cell_type": "markdown",
   "metadata": {},
   "source": [
    "Compare the planned path to the one that has been executed!"
   ]
  },
  {
   "cell_type": "code",
   "execution_count": null,
   "metadata": {},
   "outputs": [],
   "source": [
    "plt.plot(t,z_path,linestyle='-',marker='o',color='red')\n",
    "plt.plot(t,drone_state_history[:,0],linestyle='-',color='blue')\n",
    "plt.grid()\n",
    "plt.title('Change in height').set_fontsize(20)\n",
    "plt.xlabel('$t$ [sec]').set_fontsize(20)\n",
    "plt.ylabel('$z-z_0$ [$m$]').set_fontsize(20)\n",
    "plt.xticks(fontsize = 14)\n",
    "plt.yticks(fontsize = 14)\n",
    "plt.legend(['planned path','executed path'],fontsize = 18)\n",
    "plt.show()"
   ]
  },
  {
   "cell_type": "markdown",
   "metadata": {},
   "source": [
    "[Solution](/notebooks/5.%20Controlling%20a%202D%20Quad%20SOLUTION.ipynb)"
   ]
  },
  {
   "cell_type": "code",
   "execution_count": null,
   "metadata": {},
   "outputs": [],
   "source": []
  }
 ],
 "metadata": {
  "kernelspec": {
   "display_name": "Python 3",
   "language": "python",
   "name": "python3"
  },
  "language_info": {
   "codemirror_mode": {
    "name": "ipython",
    "version": 3
   },
   "file_extension": ".py",
   "mimetype": "text/x-python",
   "name": "python",
   "nbconvert_exporter": "python",
   "pygments_lexer": "ipython3",
   "version": "3.6.3"
  }
 },
 "nbformat": 4,
 "nbformat_minor": 2
}
