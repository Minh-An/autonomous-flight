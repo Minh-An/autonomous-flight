{
 "cells": [
  {
   "cell_type": "code",
   "execution_count": 1,
   "metadata": {},
   "outputs": [],
   "source": [
    "%matplotlib inline \n",
    "%config InlineBackend.figure_format = 'retina'\n",
    "\n",
    "%load_ext autoreload\n",
    "%autoreload 2\n",
    "\n",
    "import numpy as np \n",
    "import matplotlib.pyplot as plt\n",
    "import matplotlib.pylab as pylab\n",
    "from simplified_monorotor import Monorotor\n",
    "import plotting\n",
    "import testing\n",
    "import trajectories\n",
    "\n",
    "pylab.rcParams['figure.figsize'] = 10,10"
   ]
  },
  {
   "cell_type": "markdown",
   "metadata": {},
   "source": [
    "**NOTE** - we are just going to be importing the `Monorotor` class defined in the previous notebook.\n",
    "\n",
    "If you want to inspect that code then you can:\n",
    "\n",
    "1. Click the Jupyter icon in the top left corner of the notebook. This will take you to a navigation page showing all the files in this workspace.\n",
    "\n",
    "2. Open `simplified_monorotor.py` and inspect the class defined there.\n",
    "\n",
    "3. You can also open `controllers.py` if you want to see the `OpenLoopController` from earlier. This file contains reference solutions to all the controllers we will be working with in this lesson. Try not to peek at the solutions for the later controllers!"
   ]
  },
  {
   "cell_type": "markdown",
   "metadata": {
    "collapsed": true
   },
   "source": [
    "---\n",
    "\n",
    "# P controller \n",
    "\n",
    "\n",
    "#### TODO - Implement P controller\n",
    "\n",
    "Implement the P Controller math in `thrust_control`:\n",
    "\n",
    "$$\\begin{align*}\n",
    "e &= z_{\\text{target}} - z\n",
    "\\\\\n",
    "\\bar{u} &= k_p e\n",
    "\\\\\n",
    "u &= m(g - \\bar{u})\n",
    "\\end{align*}$$"
   ]
  },
  {
   "cell_type": "code",
   "execution_count": null,
   "metadata": {},
   "outputs": [],
   "source": [
    "class PController:\n",
    "    \n",
    "    def __init__(self, k_p, m):\n",
    "        self.k_p = k_p \n",
    "        self.vehicle_mass = m   \n",
    "        self.g = 9.81\n",
    "    \n",
    "    def thrust_control(self, z_target, z_actual):\n",
    "        \n",
    "        error = z_target - z_actual\n",
    "        \n",
    "        \n",
    "        pass\n",
    "    \n",
    "testing.p_controller_test(PController)"
   ]
  },
  {
   "cell_type": "markdown",
   "metadata": {},
   "source": [
    "#### TODO 2 - Explore p controller trajectories\n",
    "Once you see \"Tests pass\", your PController should be working! The code below attempts to fly the vehicle up to $z=-1$ from its start position at $z=0$ (this is also called a \"step function\" change in position).\n",
    "\n",
    "Now, try playing around with the code below. Answer the following questions for yourself:\n",
    "\n",
    "1. What do \"p controlled\" trajectories generally look like (when trying to follow a step function change in position)?\n",
    "\n",
    "2. How do changes to K_P influence the resulting trajectory?\n",
    "\n",
    "3. How robust is this controller to changes in `MASS_ERROR`? Try changing the value to 1.5 and observing the result. Compare this to the open loop plot when this parameter was just 1.01."
   ]
  },
  {
   "cell_type": "code",
   "execution_count": null,
   "metadata": {},
   "outputs": [],
   "source": [
    "MASS_ERROR = 1.01\n",
    "K_P = 2.0\n",
    "\n",
    "# preparation\n",
    "drone = Monorotor()\n",
    "perceived_mass = drone.m * MASS_ERROR\n",
    "controller = PController(K_P, perceived_mass)\n",
    "\n",
    "# generate trajectory\n",
    "total_time = 10.0\n",
    "dt = 0.001\n",
    "t=np.linspace(0.0,total_time,int(total_time/dt))\n",
    "z_path= -np.ones(t.shape[0])\n",
    "\n",
    "# run simulation\n",
    "history = []\n",
    "for z_target in z_path:\n",
    "    z_actual = drone.z\n",
    "    u = controller.thrust_control(z_target, z_actual)\n",
    "    drone.thrust = u\n",
    "    drone.advance_state(dt)\n",
    "    history.append(drone.X)\n",
    "    \n",
    "# generate plots\n",
    "z_actual = [h[0] for h in history]\n",
    "plotting.compare_planned_to_actual(z_actual, z_path, t)    "
   ]
  },
  {
   "cell_type": "markdown",
   "metadata": {},
   "source": [
    "[Solution](/notebooks/P%20Controller%20Solution.ipynb)"
   ]
  }
 ],
 "metadata": {
  "kernelspec": {
   "display_name": "Python 3",
   "language": "python",
   "name": "python3"
  },
  "language_info": {
   "codemirror_mode": {
    "name": "ipython",
    "version": 3
   },
   "file_extension": ".py",
   "mimetype": "text/x-python",
   "name": "python",
   "nbconvert_exporter": "python",
   "pygments_lexer": "ipython3",
   "version": "3.6.3"
  }
 },
 "nbformat": 4,
 "nbformat_minor": 2
}
