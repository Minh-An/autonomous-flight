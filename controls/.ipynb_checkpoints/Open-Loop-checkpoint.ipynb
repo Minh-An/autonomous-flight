{
 "cells": [
  {
   "cell_type": "code",
   "execution_count": 2,
   "metadata": {},
   "outputs": [
    {
     "name": "stdout",
     "output_type": "stream",
     "text": [
      "The autoreload extension is already loaded. To reload it, use:\n",
      "  %reload_ext autoreload\n"
     ]
    }
   ],
   "source": [
    "# Run this cell and all subsequent cells as you encounter \n",
    "# them by pressing Control+Enter or Shift+Enter simultaneously\n",
    "\n",
    "%matplotlib inline \n",
    "%config InlineBackend.figure_format = 'retina'\n",
    "\n",
    "%load_ext autoreload\n",
    "%autoreload 2\n",
    "\n",
    "import numpy as np \n",
    "import matplotlib.pyplot as plt\n",
    "import matplotlib.pylab as pylab\n",
    "from simplified_monorotor import Monorotor\n",
    "import plotting\n",
    "import testing\n",
    "import trajectories\n",
    "\n",
    "pylab.rcParams['figure.figsize'] = 10,10"
   ]
  },
  {
   "cell_type": "markdown",
   "metadata": {},
   "source": [
    "## Monorotor Review\n",
    "In this lesson, we will design a controller for a monorotor that moves only in the vertical direction.\n",
    "\n",
    "We want to focus on controls concepts, so we will be hiding or ignoring some of the details from the last lesson. Most importantly:\n",
    "\n",
    "1. **Ignoring yaw** - this will let us focus on $z$ motion.\n",
    "2. **Ignoring propellers** - we will set the `thrust` property directly instead of worrying about the rotational rates that generate that thrust.\n",
    "\n",
    "The `Monorotor` class we will be working with is shown below.\n",
    "\n",
    "#### TODO - Read through `Monorotor` class.\n",
    "You will be controlling this vehicle throughout this lesson so it's worth understanding how it works. Pay attention to the simplifications noted above."
   ]
  },
  {
   "cell_type": "code",
   "execution_count": null,
   "metadata": {},
   "outputs": [],
   "source": [
    "class Monorotor:\n",
    "    \n",
    "    def __init__(self, m=1.0):\n",
    "        self.m = m\n",
    "        self.g = 9.81\n",
    "        \n",
    "        # note that we're no longer thinking of rotation rates.\n",
    "        # We are thinking directly in terms of thrust.\n",
    "        self.thrust = 0.0\n",
    "        \n",
    "        # z, z_dot\n",
    "        self.X = np.array([0.0,0.0])\n",
    "      \n",
    "    @property\n",
    "    def z(self): \n",
    "        return self.X[0]\n",
    "    \n",
    "    @property\n",
    "    def z_dot(self):\n",
    "        return self.X[1]\n",
    "    \n",
    "    @property\n",
    "    def z_dot_dot(self): \n",
    "        f_net = self.m * self.g - self.thrust\n",
    "        return f_net / self.m\n",
    "    \n",
    "    def advance_state(self, dt):\n",
    "        X_dot =np.array([\n",
    "            self.z_dot, \n",
    "            self.z_dot_dot])\n",
    "        \n",
    "        self.X = self.X + X_dot * dt\n",
    "        return self.X"
   ]
  },
  {
   "cell_type": "markdown",
   "metadata": {},
   "source": [
    "## Open loop controller\n",
    "\n",
    "This code implements an \"open loop controller\" for a monorotor.\n",
    "\n",
    "Notice that the controller **only** needs to know the mass of the vehicle and the initial state (assumed to be $z=0$ and $\\dot{z}=0$). \n",
    "\n",
    "The `thrust_control` function is then called at each timestep. All that this function needs to know is where the drone should be (`target_z`) and when it needs to be there (`dt`)!\n",
    "\n",
    "In theory, this should work... right?\n",
    "\n",
    "#### TODO 1 - Review `OpenLoopController`\n",
    "In particular, read through the `thrust_control` method to make sure you understand how it works. "
   ]
  },
  {
   "cell_type": "code",
   "execution_count": null,
   "metadata": {},
   "outputs": [],
   "source": [
    "class OpenLoopController:\n",
    "    \n",
    "    def __init__(self, vehicle_mass, initial_state=np.array([0,0])): \n",
    "        self.vehicle_mass  = vehicle_mass \n",
    "        \n",
    "        # vehicle_state is the controller's BELIEF about the state\n",
    "        # of the vehicle it is controlling. It doesn't know the \n",
    "        # TRUE state.\n",
    "        self.vehicle_state = initial_state \n",
    "        self.g = 9.81\n",
    "    \n",
    "    def thrust_control(self, target_z, dt):\n",
    "        \"\"\"\n",
    "        Returns a thrust which will be commanded to \n",
    "        the vehicle. This thrust should cause the vehicle\n",
    "        to be at target_z in dt seconds.\n",
    "        \n",
    "        The controller's internal model of the vehicle_state\n",
    "        is also updated in this method.\n",
    "        \"\"\"\n",
    "        # 1. find target velocity needed to get to target_z\n",
    "        current_z, current_z_dot = self.vehicle_state\n",
    "        delta_z = target_z - current_z\n",
    "        target_z_dot = delta_z / dt\n",
    "        \n",
    "        # 2. find target acceleration needed\n",
    "        delta_z_dot = target_z_dot - current_z_dot\n",
    "        target_z_dot_dot = delta_z_dot / dt\n",
    "        \n",
    "        # 3. find target NET force\n",
    "        target_f_net = target_z_dot_dot * self.vehicle_mass\n",
    "        \n",
    "        # 4. find target thrust. Recall this equation:\n",
    "        #    F_net = mg - thrust\n",
    "        thrust = self.vehicle_mass * self.g - target_f_net\n",
    "        \n",
    "        # 5. update controller's internal belief of state\n",
    "        self.vehicle_state += np.array([delta_z, delta_z_dot])\n",
    "        \n",
    "        return thrust \n"
   ]
  },
  {
   "cell_type": "markdown",
   "metadata": {},
   "source": [
    "## Simulating Open Loop Control\n",
    "We will try to follow the following trajectory for 5.0 seconds:\n",
    "\n",
    "$$z(t) = 0.5\\cos(2t)-0.5$$"
   ]
  },
  {
   "cell_type": "code",
   "execution_count": null,
   "metadata": {},
   "outputs": [],
   "source": [
    "# generate and visualize the target trajectory\n",
    "\n",
    "total_time = 5.0\n",
    "t = np.linspace(0.0,total_time,1000)\n",
    "dt = t[1] - t[0]\n",
    "z_path= 0.5*np.cos(2*t)-0.5\n",
    "\n",
    "plt.figure(figsize=(5,5))\n",
    "plt.ylabel(\"z (meters)\")\n",
    "plt.xlabel(\"time (seconds)\")\n",
    "plt.gca().invert_yaxis()\n",
    "plt.plot(t,z_path)\n",
    "plt.show()"
   ]
  },
  {
   "cell_type": "markdown",
   "metadata": {},
   "source": [
    "#### TODO 2 - Read through simulation code\n",
    "Read through sections 1 and 2 of the code below. \n",
    "\n",
    "In section 1, note how `perceived_mass` is calculated and used. \n",
    "\n",
    "In section 2, note how the simulation actually works:\n",
    "\n",
    "1. The controller commands a `thrust` based on the `target_z`.\n",
    "2. This drone's thrust is set to this value."
   ]
  },
  {
   "cell_type": "code",
   "execution_count": null,
   "metadata": {},
   "outputs": [],
   "source": [
    "# 1. Preparation for simulation\n",
    "\n",
    "MASS_ERROR = 1.01\n",
    "\n",
    "drone = Monorotor()\n",
    "drone_start_state = drone.X\n",
    "drone_mass = drone.m\n",
    "\n",
    "# The mass that the controller believes is not necessarily the\n",
    "# true mass of the drone. This reflects the real world more accurately.\n",
    "perceived_mass = drone_mass * MASS_ERROR\n",
    "controller = OpenLoopController(perceived_mass, drone_start_state)\n",
    "\n",
    "# 2. Run the simulation\n",
    "drone_state_history = []\n",
    "for target_z in z_path:\n",
    "    drone_state_history.append(drone.X)\n",
    "    thrust = controller.thrust_control(target_z, dt)\n",
    "    drone.thrust = thrust\n",
    "    drone.advance_state(dt)\n",
    "\n",
    "# 3. Generate plots\n",
    "z_actual = [h[0] for h in drone_state_history] \n",
    "plotting.compare_planned_to_actual(z_actual, z_path, t)"
   ]
  },
  {
   "cell_type": "markdown",
   "metadata": {},
   "source": [
    "#### TODO 2 - Modify `MASS_ERROR`\n",
    "Play around with different values for this parameter. Try 1.0, 1.01, etc... \n",
    "\n",
    "Note the effect this has on the resulting trajectory! \n",
    "\n",
    "What does this tell you about the feasibility of \"open loop\" control?"
   ]
  }
 ],
 "metadata": {
  "kernelspec": {
   "display_name": "Python 3",
   "language": "python",
   "name": "python3"
  },
  "language_info": {
   "codemirror_mode": {
    "name": "ipython",
    "version": 3
   },
   "file_extension": ".py",
   "mimetype": "text/x-python",
   "name": "python",
   "nbconvert_exporter": "python",
   "pygments_lexer": "ipython3",
   "version": "3.6.3"
  }
 },
 "nbformat": 4,
 "nbformat_minor": 2
}
