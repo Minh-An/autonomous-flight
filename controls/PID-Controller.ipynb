{
 "cells": [
  {
   "cell_type": "code",
   "execution_count": null,
   "metadata": {},
   "outputs": [],
   "source": [
    "%matplotlib inline \n",
    "%config InlineBackend.figure_format = 'retina'\n",
    "\n",
    "%load_ext autoreload\n",
    "%autoreload 2\n",
    "\n",
    "import numpy as np \n",
    "import matplotlib.pyplot as plt\n",
    "import matplotlib.pylab as pylab\n",
    "from simplified_monorotor import Monorotor\n",
    "import plotting\n",
    "import testing\n",
    "import trajectories\n",
    "\n",
    "pylab.rcParams['figure.figsize'] = 10,10"
   ]
  },
  {
   "cell_type": "markdown",
   "metadata": {
    "collapsed": true
   },
   "source": [
    "# PID controller\n",
    "\n",
    "#### TODO - implement PID controller\n",
    "\n",
    "Implement the PD Controller math in `thrust_control`:\n",
    "\n",
    "$$\n",
    "\\begin{align}\n",
    "e &= z_{\\text{target}} - z_{\\text{actual}} \\\\\n",
    "\\dot{e} &= \\dot{z}_{\\text{target}} - \\dot{z}_{\\text{actual}} \\\\\n",
    "\\bar{u}_1 &= k_p e + k_d \\dot{e} + k_i\\int_0^te(t')dt' +\\ddot{z}_{\\text{ff}} \\\\\n",
    "u_1 &= m(g - \\bar{u}_1)\n",
    "\\end{align}\n",
    "$$\n",
    "\n",
    "> **Note**: we've introduced `integrated_error` and set it to 0.0 at initialization. We also now need to know how much time `dt` has elapsed between successive calls to `thrust_control` as this influences the integrated error."
   ]
  },
  {
   "cell_type": "code",
   "execution_count": null,
   "metadata": {},
   "outputs": [],
   "source": [
    "class PIDController:\n",
    "    \n",
    "    def __init__(self, k_p, k_d, k_i, m):\n",
    "        self.k_p = k_p\n",
    "        self.k_d = k_d\n",
    "        self.k_i = k_i\n",
    "        self.vehicle_mass = m\n",
    "        self.g = 9.81\n",
    "        self.integrated_error = 0.0\n",
    "        \n",
    "    def thrust_control(self,\n",
    "                z_target, \n",
    "                z_actual, \n",
    "                z_dot_target, \n",
    "                z_dot_actual,\n",
    "                dt=0.1,\n",
    "                z_dot_dot_ff=0.0):\n",
    "        #\n",
    "        # TODO\n",
    "        #   implement a PID controller according to the math\n",
    "        #   shown above. Remember that the integral accumulates\n",
    "        #   error by adding \"rectangles\" of error with area\n",
    "        #   equal to err * dt\n",
    "        #\n",
    "        #   don't forget to return a thrust command\n",
    "        #\n",
    "    \n",
    "        return u\n",
    "    \n",
    "testing.pid_controller_test(PIDController)"
   ]
  },
  {
   "cell_type": "markdown",
   "metadata": {},
   "source": [
    "#### TODO 2 - Adjust gains\n",
    "Run the simulation code below with `K_I = 0.0` to remind yourself what a PD controller does when there's a large mass_error (remember, a PID controller with zero integral gain is just a PD controller).\n",
    "\n",
    "Then slowly increase `K_I` and rerun the cell. Note what happens to the error.\n",
    "\n",
    "_Hint_: higher values of K_i help reduce the bias faster."
   ]
  },
  {
   "cell_type": "code",
   "execution_count": null,
   "metadata": {},
   "outputs": [],
   "source": [
    "MASS_ERROR = 1.5\n",
    "K_P = 20.0\n",
    "K_D = 10.0\n",
    "K_I = 0.0 # TODO - increase to 0.5, 1, 2, etc...\n",
    "\n",
    "# preparation \n",
    "drone = Monorotor()\n",
    "perceived_mass = drone.m * MASS_ERROR\n",
    "controller    = PIDController(K_P, K_D, K_I, perceived_mass)\n",
    "\n",
    "t, z_path, z_dot_path = trajectories.step(duration=10.0)\n",
    "\n",
    "dt = t[1] - t[0]\n",
    "\n",
    "# run simulation\n",
    "history = []\n",
    "for z_target, z_dot_target in zip(z_path, z_dot_path):\n",
    "    z_actual = drone.z\n",
    "    z_dot_actual = drone.z_dot\n",
    "\n",
    "    u = controller.thrust_control(z_target, z_actual, \n",
    "                                  z_dot_target, z_dot_actual,\n",
    "                                  dt)\n",
    "    \n",
    "    drone.thrust = u\n",
    "    drone.advance_state(dt)\n",
    "    history.append(drone.X)\n",
    "    \n",
    "# generate plots\n",
    "z_actual = [h[0] for h in history]\n",
    "plotting.compare_planned_to_actual(z_actual, z_path, t)   "
   ]
  },
  {
   "cell_type": "markdown",
   "metadata": {},
   "source": [
    "Hopefully you were able to adjust K_P, K_D, and K_I so that the drone gets to the target altitude (even with a large mass error) pretty quickly.\n",
    "\n",
    "If so, congratulations! You now understand PID control!"
   ]
  },
  {
   "cell_type": "markdown",
   "metadata": {},
   "source": [
    "[Solution](/notebooks/PID%20Controller%20Solution.ipynb)"
   ]
  }
 ],
 "metadata": {
  "kernelspec": {
   "display_name": "Python 3",
   "language": "python",
   "name": "python3"
  },
  "language_info": {
   "codemirror_mode": {
    "name": "ipython",
    "version": 3
   },
   "file_extension": ".py",
   "mimetype": "text/x-python",
   "name": "python",
   "nbconvert_exporter": "python",
   "pygments_lexer": "ipython3",
   "version": "3.7.3"
  }
 },
 "nbformat": 4,
 "nbformat_minor": 2
}
