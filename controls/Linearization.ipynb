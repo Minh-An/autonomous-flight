{
 "cells": [
  {
   "cell_type": "code",
   "execution_count": null,
   "metadata": {},
   "outputs": [],
   "source": [
    "import numpy as np\n",
    "from matplotlib import pyplot as plt"
   ]
  },
  {
   "cell_type": "markdown",
   "metadata": {},
   "source": [
    "## Linearization Exploration\n",
    "\n",
    "The goal of this notebook is to make some of the math you just saw more concrete by tying it to real code. \n",
    "\n",
    "Explore the functions defined here and then play around with linearizing various functions and zooming in on the operating point."
   ]
  },
  {
   "cell_type": "markdown",
   "metadata": {},
   "source": [
    "$$f_\\text{lin}(x) = f(x_\\text{op}) + f'(x)|_{x=x_{op}}(x-x_0)$$"
   ]
  },
  {
   "cell_type": "markdown",
   "metadata": {},
   "source": [
    "#### TODO 1 - explore the code\n",
    "Go through the 3 functions below and try to understand how they work. Make an effort to connect the code in the `linearize` function to the equation shown above."
   ]
  },
  {
   "cell_type": "code",
   "execution_count": null,
   "metadata": {},
   "outputs": [],
   "source": [
    "def linearize(function, operating_point):\n",
    "    \"\"\"\n",
    "    Returns a linearized version of the function that will\n",
    "    be valid within some window around the operating point.\n",
    "    \"\"\"\n",
    "    f_at_op = function(operating_point)\n",
    "    slope_at_op = get_function_slope_at_point(function, operating_point)\n",
    "    \n",
    "    def linearized(x):\n",
    "        return f_at_op + slope_at_op * (x - operating_point)\n",
    "    \n",
    "    return linearized"
   ]
  },
  {
   "cell_type": "code",
   "execution_count": null,
   "metadata": {},
   "outputs": [],
   "source": [
    "def get_function_slope_at_point(f, x):\n",
    "    \"\"\"\n",
    "    Calculates the slope of a function f at the value x.\n",
    "    \"\"\"\n",
    "    dx = 0.00001\n",
    "    vertical_change = f(x+dx) - f(x-dx)\n",
    "    horizontal_change = 2*dx\n",
    "    return vertical_change / horizontal_change"
   ]
  },
  {
   "cell_type": "code",
   "execution_count": null,
   "metadata": {},
   "outputs": [],
   "source": [
    "def plot_compare(f1, f2, centered_at=0.0, zoom=1.0):\n",
    "    \"\"\"\n",
    "    Compares the graphs of two functions. Increase zoom \n",
    "    to zoom in.\n",
    "    \"\"\"\n",
    "    window_width = 8 / zoom\n",
    "    left = centered_at - window_width/2\n",
    "    right =centered_at + window_width/2\n",
    "    t = np.linspace(left, right, 1000)\n",
    "    plt.plot(t, f1(t))\n",
    "    plt.plot(t, f2(t))\n",
    "    plt.axis('equal')\n",
    "    plt.scatter([centered_at], [f1(centered_at)])\n",
    "    plt.legend([\"$f(x)$\", \"$f_{lin}(x)$\"])\n",
    "    plt.show()\n",
    "    \n",
    "    print(\"Comparing\", f1.__name__, \"to its linear approximation\")\n",
    "    print(\"at x =\", centered_at, \"from\", left, \"to\", right)\n",
    "    print(\"Increase the zoom to see a better approximation\")"
   ]
  },
  {
   "cell_type": "markdown",
   "metadata": {},
   "source": [
    "#### TODO 2 - Play around with some functions!\n",
    "Running the cells below will show various functions and their linear approximations.\n",
    "\n",
    "Adjust the `zoom` parameter in each cell to zoom in. How much zoom is required before each function is closely matched by it's linear approximation?"
   ]
  },
  {
   "cell_type": "code",
   "execution_count": null,
   "metadata": {},
   "outputs": [],
   "source": [
    "f    = np.sin\n",
    "op   = 0.0 \n",
    "zoom = 1.0\n",
    "\n",
    "f_lin = linearize(f, op)\n",
    "plot_compare(f, f_lin, centered_at=op, zoom=zoom)"
   ]
  },
  {
   "cell_type": "code",
   "execution_count": null,
   "metadata": {},
   "outputs": [],
   "source": [
    "f    = np.cos\n",
    "op   = 0.0\n",
    "zoom = 1.0\n",
    "\n",
    "f_lin = linearize(f, op)\n",
    "plot_compare(f, f_lin, centered_at=op, zoom=zoom)"
   ]
  },
  {
   "cell_type": "code",
   "execution_count": null,
   "metadata": {},
   "outputs": [],
   "source": [
    "def x_square(n): \n",
    "    return n * n\n",
    "\n",
    "f    = x_square\n",
    "op   = 1.0\n",
    "zoom = 1.0\n",
    "\n",
    "f_lin = linearize(f, op)\n",
    "plot_compare(f, f_lin, centered_at=op, zoom=zoom)"
   ]
  },
  {
   "cell_type": "code",
   "execution_count": null,
   "metadata": {},
   "outputs": [],
   "source": [
    "def polynomial(x):\n",
    "    return -2 + 4*x - 2*x**2 - x**3\n",
    "\n",
    "f    = polynomial\n",
    "op   = 0.5\n",
    "zoom = 1.0\n",
    "\n",
    "f_lin = linearize(f, op)\n",
    "plot_compare(f, f_lin, centered_at=op, zoom=zoom)"
   ]
  }
 ],
 "metadata": {
  "kernelspec": {
   "display_name": "Python 3",
   "language": "python",
   "name": "python3"
  },
  "language_info": {
   "codemirror_mode": {
    "name": "ipython",
    "version": 3
   },
   "file_extension": ".py",
   "mimetype": "text/x-python",
   "name": "python",
   "nbconvert_exporter": "python",
   "pygments_lexer": "ipython3",
   "version": "3.6.3"
  }
 },
 "nbformat": 4,
 "nbformat_minor": 2
}
