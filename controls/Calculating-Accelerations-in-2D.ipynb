{
 "cells": [
  {
   "cell_type": "code",
   "execution_count": 1,
   "metadata": {},
   "outputs": [
    {
     "ename": "ModuleNotFoundError",
     "evalue": "No module named 'jdc'",
     "output_type": "error",
     "traceback": [
      "\u001b[0;31m---------------------------------------------------------------------------\u001b[0m",
      "\u001b[0;31mModuleNotFoundError\u001b[0m                       Traceback (most recent call last)",
      "\u001b[0;32m<ipython-input-1-9ec7616b8754>\u001b[0m in \u001b[0;36m<module>\u001b[0;34m\u001b[0m\n\u001b[1;32m      6\u001b[0m \u001b[0;32mimport\u001b[0m \u001b[0mmatplotlib\u001b[0m\u001b[0;34m.\u001b[0m\u001b[0mpyplot\u001b[0m \u001b[0;32mas\u001b[0m \u001b[0mplt\u001b[0m\u001b[0;34m\u001b[0m\u001b[0m\n\u001b[1;32m      7\u001b[0m \u001b[0;32mimport\u001b[0m \u001b[0mmatplotlib\u001b[0m\u001b[0;34m.\u001b[0m\u001b[0mpylab\u001b[0m \u001b[0;32mas\u001b[0m \u001b[0mpylab\u001b[0m\u001b[0;34m\u001b[0m\u001b[0m\n\u001b[0;32m----> 8\u001b[0;31m \u001b[0;32mimport\u001b[0m \u001b[0mjdc\u001b[0m\u001b[0;34m\u001b[0m\u001b[0m\n\u001b[0m\u001b[1;32m      9\u001b[0m \u001b[0;32mfrom\u001b[0m \u001b[0mExerciseAnswers\u001b[0m \u001b[0;32mimport\u001b[0m \u001b[0mAnswers\u001b[0m\u001b[0;34m\u001b[0m\u001b[0m\n\u001b[1;32m     10\u001b[0m \u001b[0;34m\u001b[0m\u001b[0m\n",
      "\u001b[0;31mModuleNotFoundError\u001b[0m: No module named 'jdc'"
     ]
    }
   ],
   "source": [
    "%matplotlib inline \n",
    "%config InlineBackend.figure_format = 'retina'\n",
    "\n",
    "import numpy as np \n",
    "import math\n",
    "import matplotlib.pyplot as plt\n",
    "import matplotlib.pylab as pylab\n",
    "import jdc\n",
    "from ExerciseAnswers import Answers\n",
    "\n",
    "pylab.rcParams['figure.figsize'] = 10, 10"
   ]
  },
  {
   "cell_type": "markdown",
   "metadata": {},
   "source": [
    "In this exercise you will implement three more methods in the `Drone2D` class: `z_dot_dot(self)`, `y_dot_dot(self)`, and `phi_dot_dot(self)`"
   ]
  },
  {
   "cell_type": "markdown",
   "metadata": {},
   "source": [
    "Also, consider the following equations which we have seen in the previous videos:\n",
    "\n",
    "$$ c = F_1 + F_2 $$\n",
    "$$\\ddot{z} = g - \\cos(\\phi) \\frac{c}{m}$$\n",
    "\n",
    "$$c = F_1 + F_2$$\n",
    "$$\\ddot{y} = \\sin(\\phi) \\frac{c}{m}$$\n",
    "\n",
    "$$M_x = L(F_1 - F_2)$$\n",
    "$$\\ddot{\\phi} = \\frac{M_x}{I_x}$$\n"
   ]
  },
  {
   "cell_type": "code",
   "execution_count": 14,
   "metadata": {},
   "outputs": [],
   "source": [
    "class Drone2D:\n",
    "    \n",
    "    def __init__(self,\n",
    "                 k_f = 0.1, # value of the thrust coefficient\n",
    "                 I_x = 0.1, # moment of inertia around the x-axis\n",
    "                 m = 1.0,   # mass of the vehicle \n",
    "                 l = 0.5,   # distance between the center of \n",
    "                            #   mass and the propeller axis\n",
    "                ):\n",
    "        \n",
    "        self.k_f = k_f\n",
    "        self.I_x = I_x\n",
    "        self.l = l \n",
    "        self.m = m\n",
    "        \n",
    "        self.omega_1 = 0.0\n",
    "        self.omega_2 = 0.0\n",
    "        self.g = 9.81\n",
    "        \n",
    "        # z, y, phi, z_dot, y_dot, phi_dot\n",
    "        self.X = np.array([0.0,0.0,0.0,0.0,0.0,0.0])\n",
    "        \n",
    "    def advance_state_uncontrolled(self,dt):\n",
    "        \"\"\"Advances the state of the drone by dt seconds. \n",
    "        Note that this method assumes zero rotational speed \n",
    "        for both propellers.\"\"\"\n",
    "        \n",
    "        X_dot = np.array([\n",
    "            self.X[3], \n",
    "            self.X[4], \n",
    "            self.X[5], \n",
    "            self.g, \n",
    "            0.0, \n",
    "            0.0])\n",
    "        # Change in state will be \n",
    "        self.X = self.X + X_dot * dt\n",
    "        return self.X\n",
    "    \n",
    "    # NOTE - this is a new helper function which you may find useful\n",
    "    def get_thrust_and_moment(self):\n",
    "        \"\"\"Helper function which calculates and returns the \n",
    "        collective thrust and the moment about the X axis\"\"\"\n",
    "\n",
    "        f1 = self.k_f * self.omega_1 ** 2\n",
    "        f2 = self.k_f * self.omega_2 ** 2\n",
    "        \n",
    "        # c is often used to indicate \"collective\" thrust\n",
    "        c = f1 + f2\n",
    "        \n",
    "        M_x = (f1 - f2) * self.l\n",
    "        return c, M_x\n",
    "    \n",
    "    ##################################\n",
    "    # BEGIN TODOS ####################\n",
    "    \n",
    "    @property\n",
    "    def z_dot_dot(self):\n",
    "        \"\"\"Calculates vertical (z) acceleration of drone.\"\"\"\n",
    "        \n",
    "        c, _ = self.get_thrust_and_moment()\n",
    "        F_z = c * np.cos(self.X[2])\n",
    "        \n",
    "        return self.g - F_z/self.m\n",
    "\n",
    "    @property    \n",
    "    def y_dot_dot(self):\n",
    "        \"\"\"Calculates lateral (y) acceleration of drone.\"\"\"\n",
    "        \n",
    "        c, _ = self.get_thrust_and_moment()\n",
    "        F_y = c * np.sin(self.X[2])\n",
    "        \n",
    "        return F_y/self.m\n",
    "    \n",
    "    @property\n",
    "    def phi_dot_dot(self):\n",
    "        \n",
    "        _, M_x = self.get_thrust_and_moment()\n",
    "        \n",
    "        return M_x/self.I_x"
   ]
  },
  {
   "cell_type": "code",
   "execution_count": 15,
   "metadata": {},
   "outputs": [
    {
     "name": "stdout",
     "output_type": "stream",
     "text": [
      "z_dot_dot works\n",
      "y_dot_dot works\n",
      "phi_dot_dot works\n"
     ]
    }
   ],
   "source": [
    "# TESTING CODE\n",
    "# \n",
    "# run this cell to see how if your functions are working.\n",
    "\n",
    "def equal_floats(num1, num2):\n",
    "    return abs(num1 - num2) < 0.00001\n",
    " \n",
    "drone = Drone2D(m=1.0, I_x=1.5, k_f=1.0)\n",
    "drone.omega_1 = 1.0 \n",
    "drone.omega_2 = 2.0\n",
    "\n",
    "# tilt the test drone to 30 degrees\n",
    "drone.X[2] = math.pi / 6\n",
    "\n",
    "# test z_dot_dot\n",
    "if equal_floats(drone.z_dot_dot, 5.47987):\n",
    "    print(\"z_dot_dot works\")\n",
    "else:\n",
    "    print(\"  ERROR in z_dot_dot\")\n",
    "\n",
    "# test y_dot_dot\n",
    "if equal_floats(drone.y_dot_dot, 2.50):\n",
    "    print(\"y_dot_dot works\")\n",
    "else:\n",
    "    print(\"  ERROR in y_dot_dot\")\n",
    "    \n",
    "# test y_dot_dot\n",
    "if equal_floats(drone.phi_dot_dot, -1):\n",
    "    print(\"phi_dot_dot works\")\n",
    "else:\n",
    "    print(\"  ERROR in phi_dot_dot\")"
   ]
  },
  {
   "cell_type": "markdown",
   "metadata": {},
   "source": [
    "[Solution](/notebooks/4.%20Calculating%20Accelerations%20in%202D%20SOLUTION.ipynb)"
   ]
  },
  {
   "cell_type": "code",
   "execution_count": null,
   "metadata": {},
   "outputs": [],
   "source": []
  },
  {
   "cell_type": "code",
   "execution_count": null,
   "metadata": {},
   "outputs": [],
   "source": []
  },
  {
   "cell_type": "code",
   "execution_count": null,
   "metadata": {},
   "outputs": [],
   "source": []
  },
  {
   "cell_type": "code",
   "execution_count": null,
   "metadata": {},
   "outputs": [],
   "source": []
  },
  {
   "cell_type": "code",
   "execution_count": null,
   "metadata": {},
   "outputs": [],
   "source": []
  }
 ],
 "metadata": {
  "kernelspec": {
   "display_name": "Python 3",
   "language": "python",
   "name": "python3"
  },
  "language_info": {
   "codemirror_mode": {
    "name": "ipython",
    "version": 3
   },
   "file_extension": ".py",
   "mimetype": "text/x-python",
   "name": "python",
   "nbconvert_exporter": "python",
   "pygments_lexer": "ipython3",
   "version": "3.6.3"
  }
 },
 "nbformat": 4,
 "nbformat_minor": 2
}
