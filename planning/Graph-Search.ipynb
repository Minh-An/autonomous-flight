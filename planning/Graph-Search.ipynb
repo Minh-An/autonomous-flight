{
 "cells": [
  {
   "cell_type": "markdown",
   "metadata": {},
   "source": [
    "## Finding Your Way In The City (Graph Edition)\n",
    "In this notebook your attention will shift from grids to graphs. At least for search ... \n",
    "\n",
    "Using Voronoi graphs and the medial axis transform we can find paths which maximize safety from obstacles. In addition, graph representation allows further optimizations and more succinct queries."
   ]
  },
  {
   "cell_type": "code",
   "execution_count": 2,
   "metadata": {},
   "outputs": [
    {
     "name": "stdout",
     "output_type": "stream",
     "text": [
      "Collecting networkx==2.1\n",
      "\u001b[?25l  Downloading https://files.pythonhosted.org/packages/11/42/f951cc6838a4dff6ce57211c4d7f8444809ccbe2134179950301e5c4c83c/networkx-2.1.zip (1.6MB)\n",
      "\u001b[K     |████████████████████████████████| 1.6MB 939kB/s eta 0:00:01\n",
      "\u001b[?25hCollecting decorator>=4.1.0 (from networkx==2.1)\n",
      "  Downloading https://files.pythonhosted.org/packages/8f/b7/f329cfdc75f3d28d12c65980e4469e2fa373f1953f5df6e370e84ea2e875/decorator-4.4.1-py2.py3-none-any.whl\n",
      "Building wheels for collected packages: networkx\n",
      "  Building wheel for networkx (setup.py) ... \u001b[?25ldone\n",
      "\u001b[?25h  Created wheel for networkx: filename=networkx-2.1-py2.py3-none-any.whl size=1447766 sha256=668c5c67b01bc86b352f110655a3e1d54b600384884d250a5ccab38683d4a094\n",
      "  Stored in directory: /Users/minhan/Library/Caches/pip/wheels/44/c0/34/6f98693a554301bdb405f8d65d95bbcd3e50180cbfdd98a94e\n",
      "Successfully built networkx\n",
      "Installing collected packages: decorator, networkx\n",
      "Successfully installed decorator-4.4.1 networkx-2.1\n"
     ]
    }
   ],
   "source": [
    "# OK this might look a little ugly but...\n",
    "# need to import the latest version of networkx\n",
    "# This occassionally fails, so if the next cell \n",
    "# doesn't show that you're using networkx 2.1\n",
    "# please \"restart and clear output\" from \"Kernel\" menu\n",
    "# above and try again.\n",
    "import sys\n",
    "!{sys.executable} -m pip install -I networkx==2.1\n",
    "# import pkg_resources\n",
    "# pkg_resources.require(\"networkx==2.1\")"
   ]
  },
  {
   "cell_type": "code",
   "execution_count": 3,
   "metadata": {},
   "outputs": [
    {
     "data": {
      "text/plain": [
       "'2.1'"
      ]
     },
     "execution_count": 3,
     "metadata": {},
     "output_type": "execute_result"
    }
   ],
   "source": [
    "import networkx as nx\n",
    "nx.__version__"
   ]
  },
  {
   "cell_type": "code",
   "execution_count": 1,
   "metadata": {},
   "outputs": [],
   "source": [
    "import numpy as np\n",
    "import matplotlib.pyplot as plt\n",
    "from grid import create_grid_and_edges\n",
    "import numpy.linalg as LA\n",
    "%matplotlib inline "
   ]
  },
  {
   "cell_type": "code",
   "execution_count": null,
   "metadata": {},
   "outputs": [],
   "source": [
    "plt.rcParams['figure.figsize'] = 12, 12"
   ]
  },
  {
   "cell_type": "code",
   "execution_count": null,
   "metadata": {},
   "outputs": [],
   "source": [
    "# This is the same obstacle data from the previous lesson.\n",
    "filename = 'colliders.csv'\n",
    "data = np.loadtxt(filename, delimiter=',', dtype='Float64', skiprows=2)\n",
    "print(data)"
   ]
  },
  {
   "cell_type": "markdown",
   "metadata": {},
   "source": [
    "Starting and goal positions in *(north, east)*."
   ]
  },
  {
   "cell_type": "code",
   "execution_count": null,
   "metadata": {},
   "outputs": [],
   "source": [
    "start_ne = (25,  100)\n",
    "goal_ne = (750., 370.)"
   ]
  },
  {
   "cell_type": "code",
   "execution_count": null,
   "metadata": {},
   "outputs": [],
   "source": [
    "# Static drone altitude (metres)\n",
    "drone_altitude = 5\n",
    "safety_distance = 3"
   ]
  },
  {
   "cell_type": "code",
   "execution_count": null,
   "metadata": {},
   "outputs": [],
   "source": [
    "# This is now the routine using Voronoi\n",
    "grid, edges = create_grid_and_edges(data, drone_altitude, safety_distance)\n",
    "print(len(edges))"
   ]
  },
  {
   "cell_type": "markdown",
   "metadata": {},
   "source": [
    "Plot the edges on top of the grid along with start and goal locations."
   ]
  },
  {
   "cell_type": "code",
   "execution_count": null,
   "metadata": {},
   "outputs": [],
   "source": [
    "# equivalent to\n",
    "# plt.imshow(np.flip(grid, 0))\n",
    "plt.imshow(grid, origin='lower', cmap='Greys') \n",
    "\n",
    "for e in edges:\n",
    "    p1 = e[0]\n",
    "    p2 = e[1]\n",
    "    plt.plot([p1[1], p2[1]], [p1[0], p2[0]], 'b-')\n",
    "\n",
    "    \n",
    "plt.plot(start_ne[1], start_ne[0], 'rx')\n",
    "plt.plot(goal_ne[1], goal_ne[0], 'rx')\n",
    "\n",
    "plt.xlabel('EAST')\n",
    "plt.ylabel('NORTH')\n",
    "plt.show()"
   ]
  },
  {
   "cell_type": "markdown",
   "metadata": {},
   "source": [
    "We now have a graph, well at least visually. The next step is to use the [`networkx`](https://networkx.github.io) to create the graph. **NetworkX** is a popular library handling anything and everything related to graph data structures and algorithms.\n",
    "\n",
    "**NOTE:** In the initial import above it was imported with the `nx` alias.\n",
    "\n",
    "You're encouraged to read the documentation but here's a super quick tour:\n",
    "\n",
    "1. Create a graph:\n",
    "\n",
    "```\n",
    "G = nx.Graph()\n",
    "```\n",
    "\n",
    "2. Add an edge:\n",
    "\n",
    "```\n",
    "p1 = (10, 2.2)\n",
    "p2 = (50, 40)\n",
    "G = nx.add_edge(p1, p2)\n",
    "```\n",
    "\n",
    "3 Add an edge with a weight:\n",
    "\n",
    "```\n",
    "p1 = (10, 2.2)\n",
    "p2 = (50, 40)\n",
    "dist = LA.norm(np.array(p2) - np.array(p1))\n",
    "G = nx.add_edge(p1, p2, weight=dist)\n",
    "```"
   ]
  },
  {
   "cell_type": "code",
   "execution_count": null,
   "metadata": {},
   "outputs": [],
   "source": [
    "# TODO: create the graph with the weight of the edges\n",
    "# set to the Euclidean distance between the points\n"
   ]
  },
  {
   "cell_type": "markdown",
   "metadata": {},
   "source": [
    "You need a method to search the graph, and you'll adapt A* in order to do this. The notable differences being the actions are now the outgoing edges and the cost of an action is that weight of that edge."
   ]
  },
  {
   "cell_type": "code",
   "execution_count": 1,
   "metadata": {},
   "outputs": [],
   "source": [
    "from queue import PriorityQueue\n",
    "\n",
    "def heuristic(n1, n2):\n",
    "    #TODO: define a heuristic\n",
    "    return 0\n",
    "\n",
    "###### THIS IS YOUR OLD GRID-BASED A* IMPLEMENTATION #######\n",
    "###### With a few minor modifications it can work with graphs! ####\n",
    "#TODO: modify A* to work with a graph\n",
    "def a_star(grid, h, start, goal):\n",
    "\n",
    "    path = []\n",
    "    path_cost = 0\n",
    "    queue = PriorityQueue()\n",
    "    queue.put((0, start))\n",
    "    visited = set(start)\n",
    "\n",
    "    branch = {}\n",
    "    found = False\n",
    "    \n",
    "    while not queue.empty():\n",
    "        item = queue.get()\n",
    "        current_node = item[1]\n",
    "        if current_node == start:\n",
    "            current_cost = 0.0\n",
    "        else:              \n",
    "            current_cost = branch[current_node][0]\n",
    "            \n",
    "        if current_node == goal:        \n",
    "            print('Found a path.')\n",
    "            found = True\n",
    "            break\n",
    "        else:\n",
    "            for action in valid_actions(grid, current_node):\n",
    "                # get the tuple representation\n",
    "                da = action.delta\n",
    "                next_node = (current_node[0] + da[0], current_node[1] + da[1])\n",
    "                branch_cost = current_cost + action.cost\n",
    "                queue_cost = branch_cost + h(next_node, goal)\n",
    "                \n",
    "                if next_node not in visited:                \n",
    "                    visited.add(next_node)               \n",
    "                    branch[next_node] = (branch_cost, current_node, action)\n",
    "                    queue.put((queue_cost, next_node))\n",
    "             \n",
    "    if found:\n",
    "        # retrace steps\n",
    "        n = goal\n",
    "        path_cost = branch[n][0]\n",
    "        path.append(goal)\n",
    "        while branch[n][1] != start:\n",
    "            path.append(branch[n][1])\n",
    "            n = branch[n][1]\n",
    "        path.append(branch[n][1])\n",
    "    else:\n",
    "        print('**********************')\n",
    "        print('Failed to find a path!')\n",
    "        print('**********************') \n",
    "    return path[::-1], path_cost\n"
   ]
  },
  {
   "cell_type": "markdown",
   "metadata": {},
   "source": [
    "### Solution\n",
    "\n",
    "This solution consists of two parts:\n",
    "\n",
    "1. Find the closest point in the graph to our current location, same thing for the goal location.\n",
    "2. Compute the path from the two points in the graph using the A* algorithm.\n",
    "3. Feel free to use any of the path pruning techniques to make the path even smaller! \n",
    "4. Plot it up to see the results!"
   ]
  },
  {
   "cell_type": "markdown",
   "metadata": {},
   "source": [
    "### TODO: Write your solution!"
   ]
  },
  {
   "cell_type": "markdown",
   "metadata": {},
   "source": [
    "[our solution](/notebooks/Graph-Search-Solution.ipynb)"
   ]
  },
  {
   "cell_type": "code",
   "execution_count": null,
   "metadata": {},
   "outputs": [],
   "source": []
  }
 ],
 "metadata": {
  "kernelspec": {
   "display_name": "Python 3",
   "language": "python",
   "name": "python3"
  },
  "language_info": {
   "codemirror_mode": {
    "name": "ipython",
    "version": 3
   },
   "file_extension": ".py",
   "mimetype": "text/x-python",
   "name": "python",
   "nbconvert_exporter": "python",
   "pygments_lexer": "ipython3",
   "version": "3.6.3"
  }
 },
 "nbformat": 4,
 "nbformat_minor": 2
}
