{
 "cells": [
  {
   "cell_type": "markdown",
   "metadata": {},
   "source": [
    "# 2D EKF\n",
    "\n",
    "In this exercise, we will show that you only need to replace the matrixes to accommodate the two-dimensional nature of the flight and rest of the estimation code stays the same. \n",
    "As an example let us consider a drone which is constrained in the vertical direction thus $z=const$ and it can only move in the horizontal direction by changing the roll angle. \n",
    "<img src=\"EKF2D.png\" width=\"500\" height=\"500\">\n",
    "Contrary to the one-dimensional case the flight in two dimensions require more involved mathematics.\n",
    "The state vector has the next form $X=[\\phi,\\dot{y},y]^T$ The control input for the drone is the roll angle $\\phi$. **Note:** that in past we has the control input which characterized the thrust - $\\bar{u}_1$ and torque $\\bar{u}_2 \\sim \\ddot{\\phi}$. But we will use the simplified controls as the goal is to show the estimation procedure and not to get lost in the complexity of the controller mathematics. \n"
   ]
  },
  {
   "cell_type": "code",
   "execution_count": null,
   "metadata": {
    "collapsed": true
   },
   "outputs": [],
   "source": [
    "%matplotlib inline \n",
    "%config InlineBackend.figure_format = 'retina'\n",
    "\n",
    "import numpy as np \n",
    "from math import sin, cos\n",
    "import matplotlib.pyplot as plt\n",
    "import matplotlib.pylab as pylab\n",
    "import jdc\n",
    "from ipywidgets import interactive\n",
    "from scipy.stats import multivariate_normal\n",
    "\n",
    "import time \n",
    "\n",
    "pylab.rcParams['figure.figsize'] = 10, 10"
   ]
  },
  {
   "cell_type": "code",
   "execution_count": null,
   "metadata": {
    "collapsed": true
   },
   "outputs": [],
   "source": [
    "pylab.rcParams['figure.figsize'] = 10, 10"
   ]
  },
  {
   "cell_type": "markdown",
   "metadata": {},
   "source": [
    "# EKF \n",
    "To perform the predict and update steps for the 2D EKF we need to know the mean and the standard deviation for measurement and motion. The measurement error is related to the fact of how good is our measuring tool, and the motion error is associated with the drone of how well does it execute the given command.\n",
    "\n",
    "### Transition model and predict step\n",
    "During the flight, we directly set the roll angle  $u_t=[\\phi]$.\n",
    "Thus the value of $g(x_t,u_t,\\Delta t)$, which represents transition function will have the next form for the given state $x_t$, control input of $u_t$ and time step $\\Delta t$.\n",
    "$$\n",
    "g(x_t,u_t,\\Delta t)=\\begin{bmatrix} u_{t,\\phi} \\\\ \\dot{y} - \\sin{(\\phi)}dt \\\\ y+\\dot{y} dt   \\end{bmatrix}\n",
    "$$\n",
    "\n",
    "Thus the derivative will be represented by the given equation:\n",
    "$$\n",
    "g'(x_t,u_t,\\Delta t)=\\begin{bmatrix} 0 & 0 & 0 \\\\ -\\cos{(\\phi)} dt & 1 & 0 \\\\ 0 & dt & 1   \\end{bmatrix}\n",
    "$$\n",
    "Please note that we are assuming for simplicity that we are having the thrust value of 1. \n",
    "Also, the drone is confined in the vertical direction and only can move along the horizontal $y$ axis. \n",
    "This will result that acceleration in the horizontal direction has the next form $\\ddot{y}=\\sin{(\\phi)}$.\n",
    "\n",
    "### Predict \n",
    "Now that we have implemented the proper expressions for $g$ and $g'$ we can perform the predicting step. Please note that the given step is exactly like the one that you already implemented for one-dimensional case."
   ]
  },
  {
   "cell_type": "code",
   "execution_count": null,
   "metadata": {
    "collapsed": true
   },
   "outputs": [],
   "source": [
    "class EKF:\n",
    "    def __init__(self,\n",
    "                 motion_error,             # Motion noise\n",
    "                 angle_sigma,              # Angle sigma\n",
    "                 velocity_sigma,           # Velocity uncertainty\n",
    "                 position_sigma,           # Position uncertainty\n",
    "                 dt                        # dt time between samples \n",
    "                ):\n",
    "        \n",
    "        # Sensor measurement covariance\n",
    "        self.r_t = np.array([[motion_error**2]])\n",
    "        \n",
    "        # Motion model noise for angle, velocity and position\n",
    "        self.q_t = np.array([[angle_sigma**2,0.0,0.0],\n",
    "                             [0.0,velocity_sigma**2,0.0],\n",
    "                             [0.0,0.0,position_sigma**2]]) \n",
    "        \n",
    "        self.dt = dt\n",
    "        \n",
    "        self.mu = np.array([0])\n",
    "        self.sigma = np.array([0])\n",
    "        \n",
    "        self.mu_bar = self.mu\n",
    "        self.sigma_bar = self.sigma\n",
    "        \n",
    "    def initial_values(self,mu_0, sigma_0):\n",
    "        self.mu= mu_0\n",
    "        self.sigma = sigma_0\n",
    "        \n",
    "\n",
    "    def g(self, \n",
    "          u       # The new input\n",
    "         ):\n",
    "        '''\n",
    "        Calculates g matrix for transition model \n",
    "        '''\n",
    "\n",
    "        current_phi, current_y_dot, current_y = self.mu\n",
    "\n",
    "        # TODO: return the g matrix \n",
    "        new_phi = None\n",
    "        new_y_dot = None\n",
    "        new_y = None\n",
    "\n",
    "        g = None\n",
    "\n",
    "        return g\n",
    "\n",
    "    def g_prime(self):\n",
    "        '''\n",
    "        Calculates the g prime matrix\n",
    "        '''\n",
    "        current_phi = self.mu[0]\n",
    "\n",
    "        # TODO: return the derivative of the g matrix \n",
    "        g_prime = None\n",
    "\n",
    "        return g_prime\n",
    "\n",
    "\n",
    "    def predict(self, u):\n",
    "\n",
    "        previous_covariance = self.sigma\n",
    "        mu_bar = self.g(u)\n",
    "        G_now  = self.g_prime()\n",
    "        sigma_bar = np.matmul(G_now,np.matmul(previous_covariance,np.transpose(G_now))) + self.r_t\n",
    "\n",
    "        self.mu_bar  = mu_bar \n",
    "        self.sigma_bar = sigma_bar\n",
    "\n",
    "        return mu_bar, sigma_bar\n"
   ]
  },
  {
   "cell_type": "markdown",
   "metadata": {},
   "source": [
    "# Testing the Predict function\n",
    "The state vector has the next form \n",
    "$$\n",
    "X = \\begin{bmatrix} \\phi\\\\ \\dot{y} \\\\ y \\end{bmatrix}\n",
    "$$\n",
    "\n",
    "First, we will declare the initial condition and then execute the prediction and you will be able to see that the prediction for 2D is no different from the 1D that you already have seen. "
   ]
  },
  {
   "cell_type": "code",
   "execution_count": null,
   "metadata": {
    "collapsed": true
   },
   "outputs": [],
   "source": [
    "y = 1.0                         # Initial position\n",
    "y_dot = 1.0                     # Initial velocity\n",
    "phi = 0.1                       # Initial roll angle\n",
    "\n",
    "dt = 1.0                        # The time difference between measures\n",
    "motion_error = 0.1              # Motion error \n",
    "angle_error = 0.1               # Angle uncertainty \n",
    "velocity_sigma = 0.1            # Velocity uncertainty\n",
    "position_sigma = 0.1            # Position uncertainty\n",
    "\n",
    "mu_0 = np.array([[phi],[y_dot],[y]]) \n",
    "sigma_0 = np.matmul(np.identity(3), np.array([angle_error,velocity_sigma,position_sigma]))\n",
    "\n",
    "u = np.array([phi]) \n"
   ]
  },
  {
   "cell_type": "markdown",
   "metadata": {},
   "source": [
    "Initializing the object and predicting the next state. "
   ]
  },
  {
   "cell_type": "code",
   "execution_count": null,
   "metadata": {
    "collapsed": true
   },
   "outputs": [],
   "source": [
    "# Initialize the object\n",
    "MYEKF=EKF(motion_error,angle_error,velocity_sigma,position_sigma,dt)\n",
    "\n",
    "# Input the initial values \n",
    "MYEKF.initial_values(mu_0, sigma_0)\n",
    "\n",
    "# Call the predict function\n",
    "mu_bar, sigma_bar = MYEKF.predict(u)\n",
    "\n",
    "print('mu_bar = \\n',mu_bar)\n",
    "print('sigma_bar = \\n', sigma_bar)"
   ]
  },
  {
   "cell_type": "markdown",
   "metadata": {},
   "source": [
    "Plotting the initial and predicted configuration spaces. "
   ]
  },
  {
   "cell_type": "code",
   "execution_count": null,
   "metadata": {
    "collapsed": true
   },
   "outputs": [],
   "source": [
    "from StateSpaceDisplayFor2D import state_space_display_predict"
   ]
  },
  {
   "cell_type": "code",
   "execution_count": null,
   "metadata": {
    "collapsed": true
   },
   "outputs": [],
   "source": [
    "state_space_display_predict(y,y_dot,mu_0,sigma_0,mu_bar,sigma_bar)"
   ]
  },
  {
   "cell_type": "markdown",
   "metadata": {
    "collapsed": true
   },
   "source": [
    "# Update step\n",
    "\n",
    "The given step is similar to the one that you already implemented in the one-dimensional case the only difference is that in two dimensions you have different $h$ and $h'$ matrixes. \n",
    "\n",
    "$$\n",
    "h= \\frac{y_{wall}-y}{\\cos{(\\phi)}}\n",
    "$$\n",
    "\n",
    "$$\n",
    "h'= \\begin{bmatrix} \\frac{(y_{wall}-y)\\sin{(\\phi)}}{\\cos^2{(\\phi)}} & 0 & \\frac{-1}{\\cos{(\\phi)}} \\end{bmatrix}\n",
    "$$\n",
    "\n",
    "we assume that $y_{wall} =0$."
   ]
  },
  {
   "cell_type": "code",
   "execution_count": null,
   "metadata": {
    "collapsed": true
   },
   "outputs": [],
   "source": [
    "%%add_to EKF\n",
    "\n",
    "def h_prime(self,mu_bar):\n",
    "    \n",
    "    predicted_phi, predicted_y_dot, predicted_y = mu_bar\n",
    "    # TODO: Calculate the derivative of the h matrix\n",
    "    return None\n",
    "\n",
    "def h(self,mu_bar):\n",
    "    \n",
    "    predicted_phi, predicted_y_dot, predicted_y = mu_bar\n",
    "    # TODO: Calculate the h matrix \n",
    "    return None\n",
    "\n",
    "def update(self, z):\n",
    "    \n",
    "    H = self.h_prime(self.mu_bar)\n",
    "    S = np.matmul(np.matmul(H,self.sigma_bar),np.transpose(H)) + self.q_t     \n",
    "    K = np.matmul(np.matmul(self.sigma_bar,np.transpose(H)),np.linalg.inv(S))\n",
    "\n",
    "    mu = self.mu_bar + np.matmul(K,(-z-self.h(self.mu_bar)))\n",
    "    sigma = np.matmul((np.identity(3) - np.matmul(K,H)),self.sigma_bar)\n",
    "    \n",
    "    self.mu=mu\n",
    "    self.sigma=sigma\n",
    "    \n",
    "    return mu, sigma\n",
    "    "
   ]
  },
  {
   "cell_type": "markdown",
   "metadata": {
    "collapsed": true
   },
   "source": [
    "# The measuring results \n",
    "\n",
    "We will update the estimated position based on the measured value. "
   ]
  },
  {
   "cell_type": "code",
   "execution_count": null,
   "metadata": {
    "collapsed": true
   },
   "outputs": [],
   "source": [
    "measure =2.05 \n",
    "\n",
    "mu_updated, sigma_updated = MYEKF.update(measure)\n",
    "print('updated mean = \\n', mu_updated)\n",
    "print('updated sigma = \\n', sigma_updated)"
   ]
  },
  {
   "cell_type": "markdown",
   "metadata": {},
   "source": [
    "### Plotting the update \n"
   ]
  },
  {
   "cell_type": "code",
   "execution_count": null,
   "metadata": {
    "collapsed": true
   },
   "outputs": [],
   "source": [
    "from StateSpaceDisplayFor2D import state_space_display_updated"
   ]
  },
  {
   "cell_type": "code",
   "execution_count": null,
   "metadata": {
    "collapsed": true
   },
   "outputs": [],
   "source": [
    "state_space_display_updated(y,y_dot,mu_0,sigma_0,mu_bar,sigma_bar,mu_updated,sigma_updated)"
   ]
  },
  {
   "cell_type": "markdown",
   "metadata": {
    "collapsed": true
   },
   "source": [
    "# EKF with PID "
   ]
  },
  {
   "cell_type": "code",
   "execution_count": null,
   "metadata": {
    "collapsed": true
   },
   "outputs": [],
   "source": [
    "from PIDcontroller import PIDController_with_ff\n",
    "from PathGeneration import flight_path\n",
    "total_time = 10.0\n",
    "dt = 0.01\n",
    "\n",
    "t, z_path, z_dot_path, z_dot_dot_path =  flight_path(total_time, dt,'constant' )"
   ]
  },
  {
   "cell_type": "markdown",
   "metadata": {},
   "source": [
    "Introducing the simple IMU unit which simulates the measurement noise."
   ]
  },
  {
   "cell_type": "code",
   "execution_count": null,
   "metadata": {
    "collapsed": true
   },
   "outputs": [],
   "source": [
    "class IMU:\n",
    "    def __init__(self):\n",
    "        pass\n",
    "        \n",
    "    def measure(self,z,sigma=0.001):\n",
    "        return z + np.random.normal(0.0, sigma)"
   ]
  },
  {
   "cell_type": "markdown",
   "metadata": {},
   "source": [
    "Creating a simple drone object which captures the dynamics of the 2D drone. "
   ]
  },
  {
   "cell_type": "code",
   "execution_count": null,
   "metadata": {
    "collapsed": true
   },
   "outputs": [],
   "source": [
    "class Drone:\n",
    "    def __init__(self,\n",
    "                phi,\n",
    "                y_dot,\n",
    "                y):\n",
    "        \n",
    "        self.X = np.array([phi,y_dot,y])\n",
    "        \n",
    "        \n",
    "    def advance_state(self, phi_new, dt): \n",
    "        self.X = np.array([phi_new, self.X[1]-np.sin(phi_new)*dt, self.X[2]+self.X[1]*dt])\n",
    "        \n",
    "        return self.X "
   ]
  },
  {
   "cell_type": "markdown",
   "metadata": {},
   "source": [
    "### Comparing the executed paths based on different control inputs \n",
    "We will compare the position of the drone when controller only relied on the direct measurements of the distance to the case when controller received the estimated position from the EKF filter. "
   ]
  },
  {
   "cell_type": "code",
   "execution_count": null,
   "metadata": {
    "collapsed": true
   },
   "outputs": [],
   "source": [
    "from DronewithPIDControllerEKF2D import DronewithPIDEKF"
   ]
  },
  {
   "cell_type": "code",
   "execution_count": null,
   "metadata": {
    "collapsed": true
   },
   "outputs": [],
   "source": [
    "FlyingDrone = DronewithPIDEKF(z_path, z_dot_path, z_dot_dot_path, t, dt,IMU,Drone,EKF)"
   ]
  },
  {
   "cell_type": "code",
   "execution_count": null,
   "metadata": {
    "collapsed": true
   },
   "outputs": [],
   "source": [
    "interactive_plot = interactive(FlyingDrone.PID_controler_with_EKF, \n",
    "                               angle_error = (0.0, 0.01, 0.001),\n",
    "                               position_sigma = (0.0, 0.05, 0.001),\n",
    "                               motion_sigma = (0.0, 0.05, 0.001))\n",
    "output = interactive_plot.children[-1]\n",
    "output.layout.height = '800px'\n",
    "interactive_plot"
   ]
  },
  {
   "cell_type": "markdown",
   "metadata": {},
   "source": [
    "This section will allow you to test the different PID controller parameters and compare flight path when using the direct measurement and the EKF estimated value to control the drone. "
   ]
  },
  {
   "cell_type": "code",
   "execution_count": null,
   "metadata": {
    "collapsed": true
   },
   "outputs": [],
   "source": [
    "from DronewithPIDControllerEKF2D import DronewithPIDKFKnobs"
   ]
  },
  {
   "cell_type": "code",
   "execution_count": null,
   "metadata": {
    "collapsed": true
   },
   "outputs": [],
   "source": [
    "FlyingDroneKnobs = DronewithPIDKFKnobs(z_path, z_dot_path, z_dot_dot_path, t, dt,IMU,Drone,EKF)"
   ]
  },
  {
   "cell_type": "code",
   "execution_count": null,
   "metadata": {
    "collapsed": true
   },
   "outputs": [],
   "source": [
    "interactive_plot = interactive(FlyingDroneKnobs.PID_controler_with_KF_knobs,\n",
    "                               k_p=(5.0, 35.0, 1),\n",
    "                               k_d=(0.0,10,0.5), \n",
    "                               k_i=(0.0,10,0.5), \n",
    "                               angle_error = (0.0, 0.1, 0.001),\n",
    "                               position_sigma = (0.0, 0.1, 0.001),\n",
    "                               motion_sigma = (0.0, 0.1, 0.001))\n",
    "\n",
    "output = interactive_plot.children[-1]\n",
    "output.layout.height = '800px'\n",
    "interactive_plot"
   ]
  },
  {
   "cell_type": "code",
   "execution_count": null,
   "metadata": {
    "collapsed": true
   },
   "outputs": [],
   "source": []
  },
  {
   "cell_type": "code",
   "execution_count": null,
   "metadata": {
    "collapsed": true
   },
   "outputs": [],
   "source": []
  }
 ],
 "metadata": {
  "kernelspec": {
   "display_name": "Python 3",
   "language": "python",
   "name": "python3"
  },
  "language_info": {
   "codemirror_mode": {
    "name": "ipython",
    "version": 3
   },
   "file_extension": ".py",
   "mimetype": "text/x-python",
   "name": "python",
   "nbconvert_exporter": "python",
   "pygments_lexer": "ipython3",
   "version": "3.6.3"
  }
 },
 "nbformat": 4,
 "nbformat_minor": 2
}
