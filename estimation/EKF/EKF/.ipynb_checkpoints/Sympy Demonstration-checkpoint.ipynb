{
 "cells": [
  {
   "cell_type": "code",
   "execution_count": 3,
   "metadata": {},
   "outputs": [],
   "source": [
    "import sympy\n",
    "sympy.init_printing(use_latex=True)"
   ]
  },
  {
   "cell_type": "markdown",
   "metadata": {},
   "source": [
    "If you ever don't feel like taking derivatives, you can use a Python library called `sympy` to do the dirty work.\n",
    "\n",
    "When we have a $g$ function like this:\n",
    "\n",
    "$$\n",
    "g = \\begin{bmatrix}\n",
    "u_{\\phi} \\\\\n",
    "\\dot{y} - \\sin(\\phi) \\Delta t \\\\\n",
    "y + \\dot{y} \\Delta t\n",
    "\\end{bmatrix}\n",
    "$$\n",
    "\n",
    "and a state vector like this:\n",
    "\n",
    "$$\n",
    "x = \\begin{bmatrix}\n",
    "\\phi \\\\\n",
    "\\dot{y} \\\\\n",
    "y\n",
    "\\end{bmatrix}\n",
    "$$\n",
    "\n",
    "(Note that I'm writing $\\phi$ here instead of $x_{\\phi}$. Like wise with $\\dot{y}$ and $y$)\n",
    "\n",
    "we can use sympy to calculate $g'$ as follows:"
   ]
  },
  {
   "cell_type": "code",
   "execution_count": 6,
   "metadata": {},
   "outputs": [
    {
     "data": {
      "text/latex": [
       "$$\\left[\\begin{matrix}0 & 0 & 0\\\\- dt \\cos{\\left (\\phi \\right )} & 1 & 0\\\\0 & dt & 1\\end{matrix}\\right]$$"
      ],
      "text/plain": [
       "⎡    0       0   0⎤\n",
       "⎢                 ⎥\n",
       "⎢-dt⋅cos(φ)  1   0⎥\n",
       "⎢                 ⎥\n",
       "⎣    0       dt  1⎦"
      ]
     },
     "execution_count": 6,
     "metadata": {},
     "output_type": "execute_result"
    }
   ],
   "source": [
    "# 1. define sympy symbols\n",
    "u_phi, phi, y_dot, y, dt = sympy.symbols(\n",
    "'u_phi, phi, y_dot, y, dt')\n",
    "\n",
    "# 2. define the state variable\n",
    "x = sympy.Matrix([\n",
    "    phi, \n",
    "    y_dot, \n",
    "    y])\n",
    "\n",
    "# 3. define state transition function\n",
    "g = sympy.Matrix([\n",
    "    u_phi,\n",
    "    y_dot - sympy.sin(phi) * dt,\n",
    "    y + y_dot * dt\n",
    "])\n",
    "\n",
    "# 4. take jacobian of g with respect to x\n",
    "g.jacobian(x)"
   ]
  },
  {
   "cell_type": "markdown",
   "metadata": {},
   "source": [
    "You'd still need to implement this matrix in code, but at least the derivatives have been taken care of!"
   ]
  }
 ],
 "metadata": {
  "kernelspec": {
   "display_name": "Python 3",
   "language": "python",
   "name": "python3"
  },
  "language_info": {
   "codemirror_mode": {
    "name": "ipython",
    "version": 3
   },
   "file_extension": ".py",
   "mimetype": "text/x-python",
   "name": "python",
   "nbconvert_exporter": "python",
   "pygments_lexer": "ipython3",
   "version": "3.6.3"
  }
 },
 "nbformat": 4,
 "nbformat_minor": 2
}
