{
 "cells": [
  {
   "cell_type": "markdown",
   "metadata": {},
   "source": [
    "# Controlling With Noisy Measurements\n",
    "\n",
    "In this exercise, we'll control the coaxial drone using measurements obtained by an altitude sensor. \n",
    "We will follow conventional notation and have $x_t$ represent the true state of the drone at time t, $z_t$ the measurement (of altitude) made at time t, and $\\hat{x}_t$ the estimate of the true state at time t."
   ]
  },
  {
   "cell_type": "code",
   "execution_count": 12,
   "metadata": {},
   "outputs": [],
   "source": [
    "%matplotlib inline \n",
    "%config InlineBackend.figure_format = 'retina'\n",
    "\n",
    "import numpy as np \n",
    "import math\n",
    "import matplotlib.pyplot as plt\n",
    "import matplotlib.pylab as pylab\n",
    "import jdc\n",
    "from ipywidgets import interactive\n",
    "from CoaxialDrone import CoaxialCopter\n",
    "from PIDcontroller import PIDController_with_ff\n",
    "from PathGeneration import flight_path\n",
    "from DronewithPIDControllerParameters import DronewithPID\n",
    "\n",
    "pylab.rcParams['figure.figsize'] = 10, 10"
   ]
  },
  {
   "cell_type": "markdown",
   "metadata": {},
   "source": [
    "The sensor used by the quadrotor estimates the altitude with a weighted average defined as:\n",
    "\n",
    "$$\n",
    "\\hat{x}_{t} = \\alpha \\hat{x}_{t-1} + (1-\\alpha)z_t\n",
    "$$"
   ]
  },
  {
   "cell_type": "code",
   "execution_count": 13,
   "metadata": {},
   "outputs": [],
   "source": [
    "class Sensor:\n",
    "    def __init__(self,\n",
    "                 x_hat,            # State estimate\n",
    "                 alpha             # Alpha value used in averaging\n",
    "                ):\n",
    "        '''\n",
    "        Initialize the Sensor object with initial altitude estimation and the alpha value for the exponential averaging. \n",
    "        '''\n",
    "        self.x_hat = x_hat         \n",
    "        self.alpha = alpha         \n",
    "        \n",
    "    def measure(self, \n",
    "                x_t,               # Drone's true state\n",
    "                sigma = 0.01       # Gaussian's variance\n",
    "               ):\n",
    "        '''\n",
    "        We simulate a realistic altitude measurement by adding Gaussian noise to the true measurement.\n",
    "        '''\n",
    "        self.z_t = x_t + np.random.normal(0.0, sigma)\n",
    "        return self.z_t\n",
    "\n",
    "\n",
    "    def estimate(self, z_t):\n",
    "        '''\n",
    "        We then estimate the drone's altitude using the weighted average method.\n",
    "        '''\n",
    "        self.x_hat = self.alpha * self.x_hat + (1 - self.alpha) * z_t\n",
    "        return self.x_hat"
   ]
  },
  {
   "cell_type": "markdown",
   "metadata": {},
   "source": [
    "At $t=0$ our drone's position is $z=0$ and its velocity is $\\dot{z}=0$. At this exact time, we ask it to change it's position by 1 meter in the negative direction. It's desired altitude will be $z=-1$. "
   ]
  },
  {
   "cell_type": "code",
   "execution_count": 14,
   "metadata": {},
   "outputs": [],
   "source": [
    "total_time = 10.0   # Total Flight time \n",
    "dt = 0.01           # A time interval between measurements \n",
    "\n",
    "t, z_path, z_dot_path, z_dot_dot_path =  flight_path(total_time, dt,'constant' )"
   ]
  },
  {
   "cell_type": "markdown",
   "metadata": {},
   "source": [
    "Now let's compare three different estimates: \n",
    "\n",
    "- One that is actually impossible to obtain - that's the drone's true state.\n",
    "- One where we use the sensor measurements as our estimated altitude.\n",
    "- One where we use the recursive average of the sensor measurements as our estimated altitude.\n",
    "\n",
    "We will make the comparison by looking at the path executed by the drone in each case.\n",
    "\n",
    "First, let's see what the path looks like for the perfect state estimate, and compare that to an estimate which uses the measured values directly."
   ]
  },
  {
   "cell_type": "code",
   "execution_count": 15,
   "metadata": {},
   "outputs": [],
   "source": [
    "FlyingDrone = DronewithPID(z_path, z_dot_path, z_dot_dot_path, t, dt, Sensor)"
   ]
  },
  {
   "cell_type": "code",
   "execution_count": 16,
   "metadata": {},
   "outputs": [
    {
     "data": {
      "application/vnd.jupyter.widget-view+json": {
       "model_id": "026dcb380f564497846b50e57312915b",
       "version_major": 2,
       "version_minor": 0
      },
      "text/plain": [
       "interactive(children=(FloatSlider(value=20.0, description='k_p', max=35.0, min=5.0, step=1.0), FloatSlider(val…"
      ]
     },
     "metadata": {},
     "output_type": "display_data"
    }
   ],
   "source": [
    "interactive_plot = interactive(FlyingDrone.PID_controller_with_measured_values, \n",
    "                               k_p=(5.0, 35.0, 1),\n",
    "                               k_d=(0.0, 10, 0.5), \n",
    "                               k_i=(0.0, 10, 0.5), \n",
    "                               mass_err =(0.7, 1.31, 0.01),\n",
    "                               sigma=(0.0, 0.1, 0.001))\n",
    "output = interactive_plot.children[-1]\n",
    "output.layout.height = '800px'\n",
    "interactive_plot"
   ]
  },
  {
   "cell_type": "markdown",
   "metadata": {},
   "source": [
    "In this section, we will use the estimated value of the altitude based on the averaging to control the drone instead of relying only on the last measurement value."
   ]
  },
  {
   "cell_type": "code",
   "execution_count": 17,
   "metadata": {},
   "outputs": [
    {
     "data": {
      "application/vnd.jupyter.widget-view+json": {
       "model_id": "303dcd2f2ecf40b4b8b2ec21e4d79cc1",
       "version_major": 2,
       "version_minor": 0
      },
      "text/plain": [
       "interactive(children=(FloatSlider(value=20.0, description='k_p', max=35.0, min=5.0, step=1.0), FloatSlider(val…"
      ]
     },
     "metadata": {},
     "output_type": "display_data"
    }
   ],
   "source": [
    "interactive_plot = interactive(FlyingDrone.PID_controller_with_estimated_values, \n",
    "                               k_p=(5.0, 35.0, 1),\n",
    "                               k_d=(0.0, 10, 0.5), \n",
    "                               k_i=(0.0, 10, 0.5), \n",
    "                               mass_err =(0.7, 1.31, 0.01),\n",
    "                               sigma = (0.0, 0.1, 0.001),\n",
    "                               alpha = (0.51, 0.99, 0.01))\n",
    "output = interactive_plot.children[-1]\n",
    "output.layout.height = '800px'\n",
    "interactive_plot"
   ]
  },
  {
   "cell_type": "markdown",
   "metadata": {},
   "source": [
    "# Questions:\n",
    "---\n",
    "* Is the magnitude of the steady-state error higher or lower when using the weighted average compared to the using the measured values directly?\n",
    "* Does the drone converge at the desired altitude quicker or slower when using the weighted averaging for altitude estimation compared to using the direct altitude measurement?\n",
    "---"
   ]
  },
  {
   "cell_type": "code",
   "execution_count": null,
   "metadata": {},
   "outputs": [],
   "source": []
  }
 ],
 "metadata": {
  "kernelspec": {
   "display_name": "Python 3",
   "language": "python",
   "name": "python3"
  },
  "language_info": {
   "codemirror_mode": {
    "name": "ipython",
    "version": 3
   },
   "file_extension": ".py",
   "mimetype": "text/x-python",
   "name": "python",
   "nbconvert_exporter": "python",
   "pygments_lexer": "ipython3",
   "version": "3.7.4"
  }
 },
 "nbformat": 4,
 "nbformat_minor": 2
}
