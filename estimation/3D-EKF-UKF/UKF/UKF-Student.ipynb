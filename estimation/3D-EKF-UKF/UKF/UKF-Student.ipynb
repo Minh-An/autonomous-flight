{
 "cells": [
  {
   "cell_type": "markdown",
   "metadata": {},
   "source": [
    "# UKF\n",
    "\n",
    "In this exercise, you will become familiar with the UKF method which is a robust tool for estimating the value of the measured quantity. Later in the exercise, you will apply it to estimate the position of the one-dimensional quadcopter which can move only in the vertical axis. \n",
    "\n",
    "Next, you will create the class that will have all of the functions needed to perform the localization of the object in the one-dimensional environment. \n",
    "\n",
    "Since the drone can only move in the vertical direction, the state function will be the vertical position and velocity $X=(\\dot{z},z)$. The control input for the drone is the vertical acceleration $u = \\ddot{z}$. We also need to define the measurement noise. "
   ]
  },
  {
   "cell_type": "code",
   "execution_count": null,
   "metadata": {},
   "outputs": [],
   "source": [
    "!tar cvf "
   ]
  },
  {
   "cell_type": "code",
   "execution_count": null,
   "metadata": {
    "collapsed": true
   },
   "outputs": [],
   "source": [
    "%matplotlib inline \n",
    "%config InlineBackend.figure_format = 'retina'\n",
    "\n",
    "import numpy as np \n",
    "import math\n",
    "import matplotlib.pyplot as plt\n",
    "import matplotlib.pylab as pylab\n",
    "import jdc\n",
    "from ipywidgets import interactive\n",
    "from scipy.stats import multivariate_normal\n",
    "from scipy.linalg import sqrtm\n",
    "\n",
    "pylab.rcParams['figure.figsize'] = 10, 10"
   ]
  },
  {
   "cell_type": "code",
   "execution_count": null,
   "metadata": {
    "collapsed": true
   },
   "outputs": [],
   "source": [
    "pylab.rcParams['figure.figsize'] = 10, 10"
   ]
  },
  {
   "cell_type": "markdown",
   "metadata": {},
   "source": [
    "# UKF "
   ]
  },
  {
   "cell_type": "markdown",
   "metadata": {},
   "source": [
    "As a reminder, here are the constants used by the UKF.\n",
    "\n",
    "* $N$ represents the configuration space's dimension, and in this case it is equal to 2. \n",
    "\n",
    "* $\\lambda$ is a scaling parameter. $\\lambda = \\alpha^2 (N+k)-N$\n",
    "\n",
    "* $\\gamma$ describes how far from the mean we would like to select the sigma points along the eigenvectors. $\\gamma =\\sqrt{N+\\lambda}$\n",
    "\n",
    "* $\\alpha$ determines the spread of the sigma points and it set as $1$.\n",
    "\n",
    "* $k$ is the secondary scaling parameter which is set to $3-N$.\n",
    "\n",
    "* Finally $\\beta$ is set to 2, as we assume that the distribution is Gaussian in nature. "
   ]
  },
  {
   "cell_type": "code",
   "execution_count": null,
   "metadata": {
    "collapsed": true
   },
   "outputs": [],
   "source": [
    "class UKF:\n",
    "    \n",
    "    def __init__(self,\n",
    "                 sensor_sigma,             # Motion noise\n",
    "                 velocity_sigma,           # Velocity uncertainty\n",
    "                 position_sigma,           # Velocity uncertainty\n",
    "                 dt                        # dt time between samples \n",
    "                ):\n",
    "        \n",
    "        # Sensor measurement covariance\n",
    "        self.r_t = np.array([[sensor_sigma**2]])\n",
    "        \n",
    "        # Motion model noise for velocity and position\n",
    "        self.q_t = np.array([[velocity_sigma**2,0.0],\n",
    "                             [0.0,position_sigma**2]]) \n",
    "        \n",
    "        self.dt = dt\n",
    "        \n",
    "        self.mu = np.array([[0.0],\n",
    "                            [0.0]])\n",
    "        \n",
    "        self.sigma = np.array([[0.0, 0.0],\n",
    "                               [0.0, 0.0]])\n",
    "        \n",
    "        self.mu_bar = self.mu\n",
    "        self.sigma_bar = self.sigma\n",
    "        \n",
    "        self.n = self.q_t.shape[0] \n",
    "        self.sigma_points = np.zeros((self.n, 2*self.n+1)) \n",
    "        \n",
    "        # Creating the contestants \n",
    "        self.alpha = 1.0\n",
    "        self.betta = 2.0\n",
    "        self.k = 3.0 - self.n\n",
    "        \n",
    "        self.lam = self.alpha**2 * (self.n + self.k) - self.n\n",
    "        self.gamma = np.sqrt(self.n + self.lam)\n",
    "        \n",
    "        self.x_bar = self.sigma_points\n",
    "\n",
    "\n",
    "    def initial_values(self,mu_0, sigma_0):\n",
    "        self.mu = mu_0\n",
    "        self.sigma = sigma_0\n",
    "    "
   ]
  },
  {
   "cell_type": "markdown",
   "metadata": {},
   "source": [
    "Declaring the initial values and initializing the object. "
   ]
  },
  {
   "cell_type": "code",
   "execution_count": null,
   "metadata": {
    "collapsed": true
   },
   "outputs": [],
   "source": [
    "z = 2.0                         # Initial position\n",
    "v = 1.0                         # Initial velocity\n",
    "dt = 1.0                        # The time difference between measurements\n",
    "motion_error = 0.01             # Sensor sigma\n",
    "velocity_sigma = 0.01           # Velocity uncertainty\n",
    "position_sigma = 0.01           # Position uncertainty\n",
    "\n",
    "\n",
    "mu_0 = np.array([[v],\n",
    "                 [z]]) \n",
    "\n",
    "cov_0 = np.array([[velocity_sigma**2, 0.0],\n",
    "                    [0.0, position_sigma**2]])\n",
    "\n",
    "u = np.array([0.0])     # no command is given \\ddot{z} = 0 \n",
    "\n",
    "MYUKF=UKF(motion_error, velocity_sigma, position_sigma, dt)\n",
    "\n",
    "MYUKF.initial_values(mu_0, cov_0)"
   ]
  },
  {
   "cell_type": "markdown",
   "metadata": {},
   "source": [
    "### Compute Sigma points \n",
    "\n",
    "In this step, we will select the sigma points. We will do so by taking the mean and covariance matrix and returning the selected points.\n",
    "$$\n",
    "X_{i,t} = \\Bigg \\{ \\begin{array}{l l} =x_t & i=0 \\\\=x_t+\\gamma S_i & i=1,...,N \\\\=x_t-\\gamma S_{i-N} & i=N+1,...,2N \\end{array}\n",
    "$$\n",
    "$S_i$ is the $i^{th}$ column of $S=\\sqrt{\\Sigma}$\n",
    "\n",
    "\n",
    "\n",
    "### Predict\n",
    "\n",
    "From the previous 1D example, we know that the transition function has the following  form:\n",
    "\n",
    "$$\n",
    "g(x_t,u_t,\\Delta t) = \\begin{bmatrix} 1 & 0 \\\\ \\Delta t & 1 \\end{bmatrix} \\begin{bmatrix} \\dot{z}\\\\z \\end{bmatrix} + \\begin{bmatrix} \\Delta t \\\\ 0 \\end{bmatrix} \\begin{bmatrix} \\ddot{z} \\end{bmatrix}  = A_t \\mu_{t-1}+B_tu_t\n",
    "$$\n",
    "\n",
    "The partial derivative of the $g$ relative to each component:\n",
    "\n",
    "$$\n",
    "g'(x_t,u_t,\\Delta t) = \\begin{bmatrix} 1 & 0 \\\\ \\Delta t & 1   \\end{bmatrix}\n",
    "$$\n",
    "\n",
    "As $A$ and $B$ matrixes, in general, depend on external parameters. We declare them as the separate functions."
   ]
  },
  {
   "cell_type": "code",
   "execution_count": null,
   "metadata": {
    "collapsed": true
   },
   "outputs": [],
   "source": [
    "%%add_to UKF\n",
    "\n",
    "def compute_sigmas(self):\n",
    "    S = sqrtm(self.sigma)\n",
    "    # TODO: Implement the sigma points \n",
    "    self.sigma_points = None\n",
    "    \n",
    "    return self.sigma_points\n",
    "\n",
    "@property\n",
    "def a(self):\n",
    "    return np.array([[1.0, 0.0],\n",
    "                     [self.dt, 1.0]])\n",
    "\n",
    "@property\n",
    "def b(self):\n",
    "    return np.array([[self.dt],\n",
    "                     [0.0]])\n",
    "\n",
    "def g(self,u):\n",
    "    g = np.zeros((self.n, self.n+1))\n",
    "    g = np.matmul(self.a, self.sigma_points) + self.b * u\n",
    "    \n",
    "    return g\n",
    "\n",
    "def predict(self, u):\n",
    "    # TODO: Implement the prediction step\n",
    "    \n",
    "    x_bar = None\n",
    "    \n",
    "    self.x_bar = x_bar\n",
    "    return x_bar"
   ]
  },
  {
   "cell_type": "markdown",
   "metadata": {},
   "source": [
    "Predicting the next position based on the initial data"
   ]
  },
  {
   "cell_type": "code",
   "execution_count": null,
   "metadata": {
    "collapsed": true
   },
   "outputs": [],
   "source": [
    "u = 0 # no control input is given\n",
    "print(MYUKF.predict(0))"
   ]
  },
  {
   "cell_type": "markdown",
   "metadata": {},
   "source": [
    "### Update\n",
    "\n",
    "Once we select the sigma points and apply the prediction step, it is time to perform the update step. \n",
    "\n",
    "As a reminder, the weights for the mean and covariance are given below.\n",
    "\n",
    "Weights for the mean:\n",
    "\n",
    "$$\n",
    "w_i^m = \\Bigg \\{ \\begin{array}{l l} =\\frac{\\lambda}{N+\\lambda} & i=0 \\\\=\\frac{1}{2(N+\\lambda)} & i>0\\end{array}\n",
    "$$\n",
    "\n",
    "Weights for computing the covariance:\n",
    "\n",
    "$$\n",
    "w_i^c=\\Bigg \\{\\begin{array}{l l} =\\frac{\\lambda}{N+\\lambda} +(1-\\alpha^2+\\beta^2) & i=0 \\\\=\\frac{1}{2(N+\\lambda)} & i>0 \\end{array}\n",
    "$$"
   ]
  },
  {
   "cell_type": "code",
   "execution_count": null,
   "metadata": {
    "collapsed": true
   },
   "outputs": [],
   "source": [
    "%%add_to UKF\n",
    "\n",
    "@property\n",
    "def weights_mean(self):\n",
    "    \n",
    "    w_m = np.zeros((2*self.n+1, 1))\n",
    "    # TODO: Calculate the weight to calculate the mean based on the predicted sigma points\n",
    "    w_m = None \n",
    "    \n",
    "    self.w_m = w_m\n",
    "    return w_m\n",
    "\n",
    "@property\n",
    "def weights_cov(self):\n",
    "    \n",
    "    w_cov = np.zeros((2*self.n+1, 1))\n",
    "    # TODO: Calculate the weight to calculate the covariance based on the predicted sigma points\n",
    "    w_cov = None\n",
    "    \n",
    "    self.w_cov = w_cov\n",
    "    return w_cov\n",
    "\n",
    "\n",
    "def h(self,Z):\n",
    "    return np.matmul(np.array([[0.0, 1.0]]), Z) \n",
    "    \n",
    "\n",
    "def update(self,z_in):\n",
    "    \n",
    "    # TODO: Implement the update step \n",
    "    \n",
    "    self.mu = mu_t\n",
    "    self.sigma = cov_t\n",
    "    \n",
    "    return mu_t, cov_t"
   ]
  },
  {
   "cell_type": "markdown",
   "metadata": {},
   "source": [
    "Updating the estimated value based on the measurement. "
   ]
  },
  {
   "cell_type": "code",
   "execution_count": null,
   "metadata": {
    "collapsed": true
   },
   "outputs": [],
   "source": [
    "z_measured = 3.11\n",
    "print(MYUKF.update(z_measured))"
   ]
  },
  {
   "cell_type": "markdown",
   "metadata": {
    "collapsed": true
   },
   "source": [
    "### UKF + PID\n",
    "\n",
    "In this section, the drone is controlled using the altitude estimated by UKF filter."
   ]
  },
  {
   "cell_type": "code",
   "execution_count": null,
   "metadata": {
    "collapsed": true
   },
   "outputs": [],
   "source": [
    "from CoaxialDrone import CoaxialCopter\n",
    "from PIDcontroller import PIDController_with_ff\n",
    "from PathGeneration import flight_path"
   ]
  },
  {
   "cell_type": "markdown",
   "metadata": {},
   "source": [
    "First, we will generate the flight path which is constant height of 1m. "
   ]
  },
  {
   "cell_type": "code",
   "execution_count": null,
   "metadata": {
    "collapsed": true
   },
   "outputs": [],
   "source": [
    "total_time = 10.0  # Total flight time\n",
    "dt = 0.01          # Time intervale between measurements \n",
    "\n",
    "t, z_path, z_dot_path, z_dot_dot_path =  flight_path(total_time, dt,'constant' )"
   ]
  },
  {
   "cell_type": "markdown",
   "metadata": {},
   "source": [
    "###  IMU\n",
    "\n",
    "For this section, we will use a simple IMU which only adds noise to the actual altitude measurements."
   ]
  },
  {
   "cell_type": "code",
   "execution_count": null,
   "metadata": {
    "collapsed": true
   },
   "outputs": [],
   "source": [
    "class IMU:\n",
    "    def __init__(self):\n",
    "        pass\n",
    "        \n",
    "    def measure(self, z, sigma=0.001): \n",
    "        return z + np.random.normal(0.0, sigma)"
   ]
  },
  {
   "cell_type": "code",
   "execution_count": null,
   "metadata": {
    "collapsed": true
   },
   "outputs": [],
   "source": [
    "from DronewithPIDControllerUKF import DronewithPIDUKF"
   ]
  },
  {
   "cell_type": "code",
   "execution_count": null,
   "metadata": {
    "collapsed": true
   },
   "outputs": [],
   "source": [
    "sensor_error  = 0.1\n",
    "velocity_sigma = 0.1\n",
    "position_sigma = 0.1 \n",
    "MYUKF = UKF(sensor_error, velocity_sigma, position_sigma, dt)"
   ]
  },
  {
   "cell_type": "code",
   "execution_count": null,
   "metadata": {
    "collapsed": true
   },
   "outputs": [],
   "source": [
    "#Initializing the drone with PID controller and providing information of the desired flight path. \n",
    "FlyingDrone = DronewithPIDUKF(z_path, z_dot_path, z_dot_dot_path, t, dt, IMU, UKF)"
   ]
  },
  {
   "cell_type": "code",
   "execution_count": null,
   "metadata": {
    "collapsed": true
   },
   "outputs": [],
   "source": [
    "interactive_plot = interactive(FlyingDrone.PID_controler_with_KF, \n",
    "                               position_sigma = (0.0, 0.1, 0.001),\n",
    "                               motion_sigma = (0.0, 0.1, 0.001))\n",
    "output = interactive_plot.children[-1]\n",
    "output.layout.height = '800px'\n",
    "interactive_plot"
   ]
  },
  {
   "cell_type": "code",
   "execution_count": null,
   "metadata": {
    "collapsed": true
   },
   "outputs": [],
   "source": []
  }
 ],
 "metadata": {
  "kernelspec": {
   "display_name": "Python 3",
   "language": "python",
   "name": "python3"
  },
  "language_info": {
   "codemirror_mode": {
    "name": "ipython",
    "version": 3
   },
   "file_extension": ".py",
   "mimetype": "text/x-python",
   "name": "python",
   "nbconvert_exporter": "python",
   "pygments_lexer": "ipython3",
   "version": "3.6.3"
  }
 },
 "nbformat": 4,
 "nbformat_minor": 2
}
