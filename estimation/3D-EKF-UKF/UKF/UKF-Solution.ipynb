{
 "cells": [
  {
   "cell_type": "markdown",
   "metadata": {},
   "source": [
    "# UKF\n",
    "\n",
    "In this exercise, you will become familiar with the UKF method which is a robust tool for estimating the value of the measured quantity. Later in the exercise, you will apply it to estimate the position of the one-dimensional quadcopter with can move only in the vertical axis. \n",
    "\n",
    "Next, you will create the class that will have all the functions needed to perform the localization of the object in the one-dimensional environment. \n",
    "\n",
    "As mentioned For simplicity, will use a drone that can only move in the vertical direction for the given drone the state function is simply vertical position and velocity $X=(\\dot{z},z)$. The control input for the drone is the vertical acceleration $u = \\ddot{z}$. For KF we have to define the measurement error associated with the measuring the hight variable. "
   ]
  },
  {
   "cell_type": "code",
   "execution_count": 1,
   "metadata": {
    "collapsed": true
   },
   "outputs": [],
   "source": [
    "%matplotlib inline \n",
    "%config InlineBackend.figure_format = 'retina'\n",
    "\n",
    "import numpy as np \n",
    "import math\n",
    "import matplotlib.pyplot as plt\n",
    "import matplotlib.pylab as pylab\n",
    "import jdc\n",
    "from ipywidgets import interactive\n",
    "from scipy.stats import multivariate_normal\n",
    "from scipy.linalg import sqrtm\n",
    "\n",
    "pylab.rcParams['figure.figsize'] = 10, 10"
   ]
  },
  {
   "cell_type": "code",
   "execution_count": 2,
   "metadata": {
    "collapsed": true
   },
   "outputs": [],
   "source": [
    "pylab.rcParams['figure.figsize'] = 10, 10"
   ]
  },
  {
   "cell_type": "markdown",
   "metadata": {},
   "source": [
    "# UKF "
   ]
  },
  {
   "cell_type": "markdown",
   "metadata": {},
   "source": [
    "As a reminder from the theory let us list the constants used in UKF method.\n",
    "\n",
    "* $N$ represents the configuration space dimension and in this case, it is equal to 2. \n",
    "\n",
    "* $\\lambda$ is a scaling parameter. $\\lambda = \\alpha^2 (N+k)-N$\n",
    "\n",
    "* $\\gamma$ describes how far from the mean we would like to select the sigma points along the eigenvectors. $\\gamma =\\sqrt{N+\\lambda}$\n",
    "\n",
    "* $\\alpha$ determins the spread of the sigma points and it set as $1$.\n",
    "\n",
    "* $k$ is the secondary scaling parameter which is set to $3-N$.\n",
    "\n",
    "* Finally $\\beta$ is set 2 as we assume that the distribution is Gaussian in nature. "
   ]
  },
  {
   "cell_type": "code",
   "execution_count": 3,
   "metadata": {
    "collapsed": true
   },
   "outputs": [],
   "source": [
    "class UKF:\n",
    "    \n",
    "    def __init__(self,\n",
    "                 sensor_sigma,             # Motion noise\n",
    "                 velocity_sigma,           # Velocity uncertainty\n",
    "                 position_sigma,           # Velocity uncertainty\n",
    "                 dt                        # dt time between samples \n",
    "                ):\n",
    "        \n",
    "        # Sensor measurement covariance\n",
    "        self.r_t = np.array([[sensor_sigma**2]])\n",
    "        \n",
    "        # Motion model noise for velocity and position\n",
    "        self.q_t = np.array([[velocity_sigma**2,0.0],\n",
    "                             [0.0,position_sigma**2]]) \n",
    "        \n",
    "        self.dt = dt\n",
    "        \n",
    "        self.mu = np.array([[0.0],\n",
    "                            [0.0]])\n",
    "        \n",
    "        self.sigma = np.array([[0.0, 0.0],\n",
    "                               [0.0, 0.0]])\n",
    "        \n",
    "        self.mu_bar = self.mu\n",
    "        self.sigma_bar = self.sigma\n",
    "        \n",
    "        self.n = self.q_t.shape[0] \n",
    "        self.sigma_points = np.zeros((self.n, 2*self.n+1)) \n",
    "        \n",
    "        # Creating the contestants \n",
    "        self.alpha = 1.0\n",
    "        self.betta = 2.0\n",
    "        self.k = 3.0 - self.n\n",
    "        \n",
    "        self.lam = self.alpha**2 * (self.n + self.k) - self.n\n",
    "        self.gamma = np.sqrt(self.n + self.lam)\n",
    "        \n",
    "        self.x_bar = self.sigma_points\n",
    "\n",
    "\n",
    "    def initial_values(self,mu_0, sigma_0):\n",
    "        self.mu = mu_0\n",
    "        self.sigma = sigma_0\n",
    "    "
   ]
  },
  {
   "cell_type": "markdown",
   "metadata": {},
   "source": [
    "Declaring the initial values and initializing the object. "
   ]
  },
  {
   "cell_type": "code",
   "execution_count": 4,
   "metadata": {
    "collapsed": true
   },
   "outputs": [],
   "source": [
    "z = 2.0                         # Initial position\n",
    "v = 1.0                         # Initial velocity\n",
    "dt = 1.0                        # The time difference between measures\n",
    "motion_error = 0.01             # Sensor sigma\n",
    "velocity_sigma = 0.01           # Velocity uncertainty\n",
    "position_sigma = 0.01           # Position uncertainty\n",
    "\n",
    "\n",
    "mu_0 = np.array([[v],\n",
    "                 [z]]) \n",
    "\n",
    "cov_0 = np.array([[velocity_sigma**2, 0.0],\n",
    "                    [0.0, position_sigma**2]])\n",
    "\n",
    "u = np.array([0.0])     # no commant is given \\ddot{z} = 0 \n",
    "\n",
    "MYUKF=UKF(motion_error, velocity_sigma, position_sigma, dt)\n",
    "\n",
    "MYUKF.initial_values(mu_0, cov_0)"
   ]
  },
  {
   "cell_type": "markdown",
   "metadata": {},
   "source": [
    "### Compute Sigma points \n",
    "\n",
    "In this step, we will implement the compute sigma step that takes the mean and covariance matrix and returns the points selected around the mean point. \n",
    "$$\n",
    "X_{i,t} = \\Bigg \\{ \\begin{array}{l l} =x_t & i=0 \\\\=x_t+\\gamma S_i & i=1,...,N \\\\=x_t-\\gamma S_{i-N} & i=N+1,...,2N \\end{array}\n",
    "$$\n",
    "$S_i$ is the $i^{th}$ column of $S=\\sqrt{\\Sigma}$\n",
    "\n",
    "\n",
    "\n",
    "### Predict\n",
    "As a reminder from the previous 1D case we know that the transition function has the next form:\n",
    "$$\n",
    "g(x_t,u_t,\\Delta t) = \\begin{bmatrix} 1 & 0 \\\\ \\Delta t & 1 \\end{bmatrix} \\begin{bmatrix} \\dot{z}\\\\z \\end{bmatrix} + \\begin{bmatrix} \\Delta t \\\\ 0 \\end{bmatrix} \\begin{bmatrix} \\ddot{z} \\end{bmatrix}  = A_t \\mu_{t-1}+B_tu_t\n",
    "$$\n",
    "\n",
    "The partial derivative of the $g$ relative to each component:\n",
    "$$\n",
    "g'(x_t,u_t,\\Delta t) = \\begin{bmatrix} 1 & 0 \\\\ \\Delta t & 1   \\end{bmatrix}\n",
    "$$\n",
    "\n",
    "As $A$ and $B$ matrixes, in general, depend on the external parameters we declare them as the separate functions."
   ]
  },
  {
   "cell_type": "code",
   "execution_count": 5,
   "metadata": {
    "collapsed": true
   },
   "outputs": [],
   "source": [
    "%%add_to UKF\n",
    "\n",
    "def compute_sigmas(self):\n",
    "    S = sqrtm(self.sigma)\n",
    "    # TODO: Implement the sigma points \n",
    "    self.sigma_points[:, 0] = self.mu[:, 0]\n",
    "    \n",
    "    self.sigma_points[:, 1] = self.mu[:, 0]\n",
    "    self.sigma_points[:, 2] = self.mu[:, 0]\n",
    "    self.sigma_points[:, 1:3] += self.gamma * S\n",
    "    \n",
    "    self.sigma_points[:, 3] = self.mu[:, 0]\n",
    "    self.sigma_points[:, 4] = self.mu[:, 0]\n",
    "    self.sigma_points[:, 3:5] -= self.gamma * S\n",
    "    \n",
    "    return self.sigma_points\n",
    "\n",
    "@property\n",
    "def a(self):\n",
    "    return np.array([[1.0, 0.0],\n",
    "                     [self.dt, 1.0]])\n",
    "\n",
    "@property\n",
    "def b(self):\n",
    "    return np.array([[self.dt],\n",
    "                     [0.0]])\n",
    "\n",
    "def g(self,u):\n",
    "    g = np.zeros((self.n, self.n+1))\n",
    "    g = np.matmul(self.a, self.sigma_points) + self.b * u\n",
    "    \n",
    "    return g\n",
    "\n",
    "def predict(self, u):\n",
    "    # TODO: Implement the predicting step\n",
    "    self.compute_sigmas()\n",
    "    x_bar = self.g(u)\n",
    "    \n",
    "    self.x_bar = x_bar\n",
    "    return x_bar"
   ]
  },
  {
   "cell_type": "markdown",
   "metadata": {},
   "source": [
    "Predicting the next position based on the initial data"
   ]
  },
  {
   "cell_type": "code",
   "execution_count": 6,
   "metadata": {},
   "outputs": [
    {
     "name": "stdout",
     "output_type": "stream",
     "text": [
      "[[ 1.          1.01732051  1.          0.98267949  1.        ]\n",
      " [ 3.          3.01732051  3.01732051  2.98267949  2.98267949]]\n"
     ]
    }
   ],
   "source": [
    "u = 0 # no control input is given\n",
    "print(MYUKF.predict(0))"
   ]
  },
  {
   "cell_type": "markdown",
   "metadata": {},
   "source": [
    "### Update\n",
    "Ones we selected sigma points and predicted the new state of the sigma points now it is time to estimate the value based on the predicted sigma points and the measured value. \n",
    "\n",
    "As a reminder, the weights for the mean and covariance are given below.\n",
    "\n",
    "weights for the mean:\n",
    "$$\n",
    "w_i^m = \\Bigg \\{ \\begin{array}{l l} =\\frac{\\lambda}{N+\\lambda} & i=0 \\\\=\\frac{1}{2(N+\\lambda)} & i>0\\end{array}\n",
    "$$\n",
    "\n",
    "Weights for computing the covariance:\n",
    "$$\n",
    "w_i^c=\\Bigg \\{\\begin{array}{l l} =\\frac{\\lambda}{N+\\lambda} +(1-\\alpha^2+\\beta^2) & i=0 \\\\=\\frac{1}{2(N+\\lambda)} & i>0 \\end{array}\n",
    "$$"
   ]
  },
  {
   "cell_type": "code",
   "execution_count": 7,
   "metadata": {
    "collapsed": true
   },
   "outputs": [],
   "source": [
    "%%add_to UKF\n",
    "\n",
    "@property\n",
    "def weights_mean(self):\n",
    "    \n",
    "    w_m = np.zeros((2*self.n+1, 1))\n",
    "    # TODO: Calculate the weight to calculate the mean based on the predicted sigma points\n",
    "    \n",
    "    w_m[0] = self.lam/(self.n + self.lam) \n",
    "    w_m[1] = 1.0/(self.n + self.lam)/2\n",
    "    w_m[2] = 1.0/(self.n + self.lam)/2\n",
    "    w_m[3] = 1.0/(self.n + self.lam)/2\n",
    "    w_m[4] = 1.0/(self.n + self.lam)/2\n",
    "    \n",
    "    self.w_m = w_m\n",
    "    return w_m\n",
    "\n",
    "@property\n",
    "def weights_cov(self):\n",
    "    \n",
    "    w_cov = np.zeros((2*self.n+1, 1))\n",
    "    # TODO: Calculate the weight to calculate the covariance based on the predicted sigma points\n",
    "    \n",
    "    w_cov[0] = self.lam/(self.n + self.lam) + 1.0 - self.alpha**2 + self.betta\n",
    "    w_cov[1] = 1.0/(self.n + self.lam)/2\n",
    "    w_cov[2] = 1.0/(self.n + self.lam)/2\n",
    "    w_cov[3] = 1.0/(self.n + self.lam)/2\n",
    "    w_cov[4] = 1.0/(self.n + self.lam)/2\n",
    "    \n",
    "    self.w_cov = w_cov\n",
    "    return w_cov\n",
    "\n",
    "\n",
    "def h(self,Z):\n",
    "    return np.matmul(np.array([[0.0, 1.0]]), Z) \n",
    "    \n",
    "\n",
    "def update(self,z_in):\n",
    "    \n",
    "    # TODO: Implement the update step \n",
    "    mu_bar = np.matmul(self.x_bar, self.weights_mean)             # Line 8\n",
    "    cov_bar=np.matmul(self.x_bar-mu_bar,np.transpose(self.x_bar-mu_bar) * self.weights_cov) + self.q_t # Line 9\n",
    "    z = self.h(self.x_bar)                                        # Line 10\n",
    "    mu_z = np.matmul(z, self.weights_mean)                        # Line 11 \n",
    "    cov_z = np.matmul(z - mu_z, np.transpose(z - mu_z) * self.weights_cov) + self.r_t # Line 12 \n",
    "    cov_xz = np.matmul(self.x_bar - mu_bar, np.transpose(z - mu_z) * self.weights_cov)  # Line 13\n",
    "    k = np.matmul(cov_xz, np.linalg.inv(cov_z))                   # Line 14\n",
    "    \n",
    "    mu_t =  mu_bar  + k * (z_in - mu_z)                           # Line 15\n",
    "    cov_t = cov_bar - np.matmul(k, cov_z*np.transpose(k))         # Line 16\n",
    "    \n",
    "    self.mu = mu_t\n",
    "    self.sigma = cov_t\n",
    "    \n",
    "    return mu_t, cov_t"
   ]
  },
  {
   "cell_type": "markdown",
   "metadata": {},
   "source": [
    "Updating the estimated value based on the measurement. "
   ]
  },
  {
   "cell_type": "code",
   "execution_count": 8,
   "metadata": {},
   "outputs": [
    {
     "name": "stdout",
     "output_type": "stream",
     "text": [
      "(array([[ 1.03666667],\n",
      "       [ 3.07333333]]), array([[  1.66666667e-04,   3.33333333e-05],\n",
      "       [  3.33333333e-05,   1.66666667e-04]]))\n"
     ]
    }
   ],
   "source": [
    "z_measured = 3.11\n",
    "print(MYUKF.update(z_measured))"
   ]
  },
  {
   "cell_type": "markdown",
   "metadata": {
    "collapsed": true
   },
   "source": [
    "### UKF + PID\n",
    "\n",
    "In this section, the drone is controlled using the altitude estimated by UKF filter."
   ]
  },
  {
   "cell_type": "code",
   "execution_count": 9,
   "metadata": {
    "collapsed": true
   },
   "outputs": [],
   "source": [
    "from CoaxialDrone import CoaxialCopter\n",
    "from PIDcontroller import PIDController_with_ff\n",
    "from PathGeneration import flight_path"
   ]
  },
  {
   "cell_type": "markdown",
   "metadata": {},
   "source": [
    "First, we will generate the flight path which is constant height of 1m. "
   ]
  },
  {
   "cell_type": "code",
   "execution_count": 10,
   "metadata": {
    "collapsed": true
   },
   "outputs": [],
   "source": [
    "total_time = 10.0  # Total flight time\n",
    "dt = 0.01          # Time intervale between measurements \n",
    "\n",
    "t, z_path, z_dot_path, z_dot_dot_path =  flight_path(total_time, dt,'constant' )"
   ]
  },
  {
   "cell_type": "markdown",
   "metadata": {},
   "source": [
    "###  IMU\n",
    "\n",
    "For this section, we will use a simple IMU which only adds noise to the actual altitude measurements."
   ]
  },
  {
   "cell_type": "code",
   "execution_count": 11,
   "metadata": {
    "collapsed": true
   },
   "outputs": [],
   "source": [
    "class IMU:\n",
    "    def __init__(self):\n",
    "        pass\n",
    "        \n",
    "    def measure(self, z, sigma=0.001): \n",
    "        return z + np.random.normal(0.0, sigma)"
   ]
  },
  {
   "cell_type": "code",
   "execution_count": 12,
   "metadata": {
    "collapsed": true
   },
   "outputs": [],
   "source": [
    "from DronewithPIDControllerUKF import DronewithPIDUKF"
   ]
  },
  {
   "cell_type": "code",
   "execution_count": 13,
   "metadata": {
    "collapsed": true
   },
   "outputs": [],
   "source": [
    "sensor_error  = 0.1\n",
    "velocity_sigma = 0.1\n",
    "position_sigma = 0.1 \n",
    "MYUKF = UKF(sensor_error, velocity_sigma, position_sigma, dt)"
   ]
  },
  {
   "cell_type": "code",
   "execution_count": 14,
   "metadata": {
    "collapsed": true
   },
   "outputs": [],
   "source": [
    "#Initializing the drone with PID controller and providing information of the desired flight path. \n",
    "FlyingDrone = DronewithPIDUKF(z_path, z_dot_path, z_dot_dot_path, t, dt, IMU, UKF)"
   ]
  },
  {
   "cell_type": "code",
   "execution_count": 15,
   "metadata": {},
   "outputs": [
    {
     "data": {
      "application/vnd.jupyter.widget-view+json": {
       "model_id": "b7505bf6b0ae488cb170f4d0550671a2",
       "version_major": 2,
       "version_minor": 0
      },
      "text/plain": [
       "A Jupyter Widget"
      ]
     },
     "metadata": {},
     "output_type": "display_data"
    }
   ],
   "source": [
    "interactive_plot = interactive(FlyingDrone.PID_controler_with_KF, \n",
    "                               position_sigma = (0.0, 0.1, 0.001),\n",
    "                               motion_sigma = (0.0, 0.1, 0.001))\n",
    "output = interactive_plot.children[-1]\n",
    "output.layout.height = '800px'\n",
    "interactive_plot"
   ]
  },
  {
   "cell_type": "code",
   "execution_count": null,
   "metadata": {
    "collapsed": true
   },
   "outputs": [],
   "source": []
  }
 ],
 "metadata": {
  "kernelspec": {
   "display_name": "Python 3",
   "language": "python",
   "name": "python3"
  },
  "language_info": {
   "codemirror_mode": {
    "name": "ipython",
    "version": 3
   },
   "file_extension": ".py",
   "mimetype": "text/x-python",
   "name": "python",
   "nbconvert_exporter": "python",
   "pygments_lexer": "ipython3",
   "version": "3.6.3"
  }
 },
 "nbformat": 4,
 "nbformat_minor": 2
}
