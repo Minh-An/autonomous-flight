{
 "cells": [
  {
   "cell_type": "markdown",
   "metadata": {},
   "source": [
    "# Attitude estimation"
   ]
  },
  {
   "cell_type": "code",
   "execution_count": null,
   "metadata": {
    "scrolled": false
   },
   "outputs": [],
   "source": [
    "%matplotlib inline \n",
    "%config InlineBackend.figure_format = 'retina'\n",
    "\n",
    "import numpy as np \n",
    "import matplotlib.pyplot as plt\n",
    "\n",
    "from helpers import IMU, plot_compare"
   ]
  },
  {
   "cell_type": "markdown",
   "metadata": {},
   "source": [
    "In this exercise you will use measurements of the drone's attitude and body rates from the IMU to estimate the state of the drone. The state and measurements are given by:\n",
    "\n",
    "$$\n",
    "\\begin{align}\n",
    "x_t= \\begin{bmatrix} \\theta \\\\ \\phi \\end{bmatrix} && z_t =\\begin{bmatrix} \\theta \\\\ \\phi \\\\ q \\\\ p  \\end{bmatrix}\n",
    "\\end{align}\n",
    "$$\n",
    "\n",
    "For this exercise, we will assume that the drone's attitude is close to hover, allowing us to assume that the rotational rates in the body frame are the same as in the global frame. \n",
    "\n",
    "$$\n",
    "\\dot{\\theta} = q \\\\\n",
    "\\dot{\\phi} = p\n",
    "$$\n",
    "\n",
    "For larger angles, you would have to use a transformation matrix which was covered in a previous lesson.\n",
    "\n",
    "The equations which describe the attitude update are as follows:\n",
    "\n",
    "$$\n",
    "\\hat{\\theta}_t = \\frac{\\tau}{\\tau + dt}\\left( \\hat{\\theta}_{t-1} +  z_{t,\\dot{\\theta}} \\times dt\\right) + \\frac{dt}{\\tau + dt} z_{t,\\theta} \\\\ \n",
    "\\hat{\\phi}_t = \\frac{\\tau}{\\tau + dt}\\left( \\hat{\\phi}_{t-1} +  z_{t,\\dot{\\phi}} \\times dt\\right) + \\frac{dt}{\\tau + dt} z_{t,\\phi}\n",
    "$$"
   ]
  },
  {
   "cell_type": "code",
   "execution_count": null,
   "metadata": {
    "scrolled": false
   },
   "outputs": [],
   "source": [
    "class ComplementaryFilter:\n",
    "    def __init__(self,dt,tau): \n",
    "        self.dt = dt\n",
    "        self.tau = tau\n",
    "        self.estimated_theta = 0.0\n",
    "        self.estimated_phi   = 0.0\n",
    "        \n",
    "    def update(self,z):\n",
    "        \n",
    "        # TODO: \n",
    "        #  implement the estimated pitch and roll \n",
    "        \n",
    "        # self.estimated_theta = None\n",
    "        # self.estimated_phi = None \n",
    "        c1 = self.tau/(self.tau +self.dt)\n",
    "        c2 = self.dt/(self.tau +self.dt)\n",
    "        \n",
    "        est_t, est_p = self.estimated_theta, self.estimated_phi\n",
    "        \n",
    "        self.estimated_theta = c1 * (est_t + z[2]*self.dt) + c2 * z[0]\n",
    "        self.estimated_phi   = c1 * (est_p + z[3]*self.dt) + c2 * z[1]\n",
    "            \n",
    "    def make_estimates(self,measurements):\n",
    "        self.estimated_theta = 0.0\n",
    "        self.estimated_phi = 0.0\n",
    "        estimates = np.zeros((2, measurements.shape[1]))\n",
    "        for i in range(measurements.shape[1]):\n",
    "            z = measurements[:,i]\n",
    "            self.update(z)\n",
    "            est = np.array([self.estimated_theta, self.estimated_phi])\n",
    "            estimates[:,i] = est\n",
    "        return estimates"
   ]
  },
  {
   "cell_type": "code",
   "execution_count": null,
   "metadata": {},
   "outputs": [],
   "source": [
    "# drone hovers for all N measurements \n",
    "N = 2000 \n",
    "true_values = np.zeros((4, N))\n",
    "\n",
    "# simulate sensor measurements\n",
    "imu = IMU()\n",
    "measurements = imu.make_measurements(true_values)"
   ]
  },
  {
   "cell_type": "code",
   "execution_count": null,
   "metadata": {
    "scrolled": false
   },
   "outputs": [],
   "source": [
    "# Parameters for complementary filter\n",
    "# \n",
    "# TODO - try modifying TAU. \n",
    "#   What value gives you the best estimate?\n",
    "#   What do your plots look like when TAU = DT * 100?\n",
    "#   What about when TAU = DT * 1? \n",
    "\n",
    "DT  = 0.01\n",
    "TAU = DT * 1\n",
    "cf  = ComplementaryFilter(DT, TAU)\n",
    "\n",
    "# make estimates based on measurements\n",
    "estimates = cf.make_estimates(measurements)\n",
    "\n",
    "# integrating gyro directly\n",
    "integrated_ests = np.zeros((2,N))\n",
    "integrated_ests[0,:] = np.cumsum(measurements[2,:]) * DT\n",
    "integrated_ests[1,:] = np.cumsum(measurements[3,:]) * DT"
   ]
  },
  {
   "cell_type": "code",
   "execution_count": null,
   "metadata": {
    "scrolled": false
   },
   "outputs": [],
   "source": [
    "# plot pitch\n",
    "plot_compare(true_values,estimates,measurements,integrated_ests, DT, 0)"
   ]
  },
  {
   "cell_type": "code",
   "execution_count": null,
   "metadata": {
    "scrolled": false
   },
   "outputs": [],
   "source": [
    "# plot roll\n",
    "plot_compare(true_values,estimates,measurements,integrated_ests, DT, 1)"
   ]
  }
 ],
 "metadata": {
  "kernelspec": {
   "display_name": "Python 3",
   "language": "python",
   "name": "python3"
  },
  "language_info": {
   "codemirror_mode": {
    "name": "ipython",
    "version": 3
   },
   "file_extension": ".py",
   "mimetype": "text/x-python",
   "name": "python",
   "nbconvert_exporter": "python",
   "pygments_lexer": "ipython3",
   "version": "3.6.3"
  }
 },
 "nbformat": 4,
 "nbformat_minor": 2
}
