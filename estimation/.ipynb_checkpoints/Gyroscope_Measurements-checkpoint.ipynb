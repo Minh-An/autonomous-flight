{
 "cells": [
  {
   "cell_type": "markdown",
   "metadata": {},
   "source": [
    "# Gyro Measurements\n",
    "\n",
    "In the previous lesson you implemented techniques to accurately estimate a state given noisy measurements. This turns out to be incredibly useful as all sensors produce errors during measuring.\n",
    "\n",
    "Consider calculating the angular velocity solely using gyroscope measurements. Each measurement has some noise associated with it which we'll define as a Gaussian. The estimated angular velocity can expressed as:\n",
    "\n",
    "$\n",
    "\\tilde{\\omega}= \\omega +b + \\eta\n",
    "$\n",
    "\n",
    "Where $\\omega$ is the true value of the angular velocity, $b$ is a bias term associated to the gyroscope, and $\\eta = G(0,\\sigma)$ the Gaussian error with 0 mean introduced by the measurement process. Change of accumulated uncertainty over time can be described as:\n",
    "$$\n",
    "\\sigma_{t}^2 = \\sigma_{t-1}^2 + \\sigma^2 dt^2\n",
    "$$\n",
    "\n",
    "where $\\sigma_t$ is the accumulated uncertainty and $\\sigma$ is the measurement uncertainty. \n",
    "\n",
    "TODO:\n",
    "\n",
    " * Develop a function `measure_turn_rate` which takes the real omega, the bias, and the standard deviation and will return the simulated measured angular velocity. \n",
    " \n",
    " * Develop a function `calculate_attitude` which is responsible for advancing the angle measurement based on the measured angular velocity by $dt$. "
   ]
  },
  {
   "cell_type": "code",
   "execution_count": 1,
   "metadata": {},
   "outputs": [],
   "source": [
    "%matplotlib inline \n",
    "%config InlineBackend.figure_format = 'retina'\n",
    "\n",
    "import numpy as np \n",
    "import matplotlib.pyplot as plt\n",
    "import matplotlib.pylab as pylab\n",
    "import jdc\n",
    "from gyro_test import TestCode\n",
    "\n",
    "pylab.rcParams['figure.figsize'] = 10, 10"
   ]
  },
  {
   "cell_type": "code",
   "execution_count": null,
   "metadata": {},
   "outputs": [],
   "source": [
    "def measure_turn_rate(omega,          # The true value of the omega\n",
    "                      bias,           # Value of the bias term\n",
    "                      sigma_omega     # Sigma value associated with the measurement  \n",
    "                     ):\n",
    "    '''\n",
    "    The measurement of the angular velocity can be modeled as the sum of the real value, \n",
    "    bias term and the 0 mean Gaussian distribution associated with the measuring process.\n",
    "    '''\n",
    "    # TODO: Return the modeled measured value of the angular velocity.\n",
    "    omega_obs = omega + bias + np.random.normal(0, sigma_omega)    \n",
    "    return omega_obs\n",
    "\n",
    "def calculate_attitude(true_angle,                # The true value of the angular velocity\n",
    "                       measured_angle,            # Previously estimated angle by integration \n",
    "                       accumulated_sigma,         # Accumulated effective sigma due to integration \n",
    "                       omega,                     # The true omega\n",
    "                       measured_omega,            # Measured omega \n",
    "                       sigma_omega,               # The uncertainty of each measurement\n",
    "                       dt):                       # The time interval between measurements \n",
    "    '''\n",
    "    Advance the true angle, measured angle and accumulated sigma values based on the true omega, \n",
    "    measured omega, and sigma value for the angular velocity measurement Gaussian.\n",
    "\n",
    "    '''\n",
    "    # TODO: Assign the proper values to the given variables \n",
    "    true_angle = true_angle + tr\n",
    "    measured_angle =  None\n",
    "    accumulated_sigma =  None\n",
    "    \n",
    "    return true_angle, measured_angle, accumulated_sigma"
   ]
  },
  {
   "cell_type": "markdown",
   "metadata": {},
   "source": [
    "Testing the `calculate_attitude` function"
   ]
  },
  {
   "cell_type": "code",
   "execution_count": null,
   "metadata": {},
   "outputs": [],
   "source": [
    "TestCode.test_the_calculate_attitude(calculate_attitude)"
   ]
  },
  {
   "cell_type": "markdown",
   "metadata": {},
   "source": [
    "### Setup\n",
    "\n"
   ]
  },
  {
   "cell_type": "code",
   "execution_count": null,
   "metadata": {},
   "outputs": [],
   "source": [
    "omega = 0.2              # The true angular velocity [rad/sec]\n",
    "total_time = 10          # Total time of the measurements [sec]\n",
    "dt= 0.01                 # Time intervale between measurements [sec]\n",
    "sigma_omega = 0.1        # The sigma value for the Gaussian distribution associated with the measurement \n",
    "bias = -0.01             # The bias of the measurement unit \n",
    "\n",
    "# An array of time value for each measurement \n",
    "t = np.linspace(0.0,total_time,int(total_time/dt))\n",
    "\n",
    "# Initial values of the true turn angle, measured angle is initialized at 0 as well as \n",
    "# the initial value of the accumulated sigma.\n",
    "true_angle, measured_angle, accumulated_sigma = 0.0, 0.0, 0.0\n",
    "\n",
    "# Initializing the arrays for historical values for each variable \n",
    "true_angle_history = np.array([true_angle]) \n",
    "measured_angle_history = np.array([true_angle])  \n",
    "accumulated_sigma_history = np.array([accumulated_sigma])  \n",
    "measured_omega_history= np.array([omega])"
   ]
  },
  {
   "cell_type": "markdown",
   "metadata": {},
   "source": [
    "We will measure the angular velocity for each time step and generate the array of the historical data of the measured omegas, true angle, estimated angle by integration, the accumulated sigma due to multiple integrations. "
   ]
  },
  {
   "cell_type": "code",
   "execution_count": null,
   "metadata": {},
   "outputs": [],
   "source": [
    "for i in range(1, t.shape[0]):\n",
    "    # Simulating the angular velocity measurement \n",
    "    measured_omega = measure_turn_rate(omega,bias, sigma_omega)\n",
    "    \n",
    "    # Advancing the true turn angle, measured angle, and the accumulated sigma\n",
    "    # in time by new measurement values. \n",
    "    true_angle, measured_angle, accumulated_sigma = calculate_attitude(true_angle,\n",
    "                                                                       measured_angle,\n",
    "                                                                       accumulated_sigma,\n",
    "                                                                       omega, \n",
    "                                                                       measured_omega,\n",
    "                                                                       sigma_omega,\n",
    "                                                                       dt)\n",
    "    \n",
    "    # Adding the returned values to the historical array\n",
    "    measured_omega_history = np.vstack((measured_omega_history, measured_omega))\n",
    "    true_angle_history = np.vstack((true_angle_history, true_angle))\n",
    "    measured_angle_history = np.vstack((measured_angle_history, measured_angle))\n",
    "    accumulated_sigma_history = np.vstack((accumulated_sigma_history, accumulated_sigma))"
   ]
  },
  {
   "cell_type": "markdown",
   "metadata": {},
   "source": [
    "Plotting the actual object angle with the estimated angle and imposing the $\\pm 3\\sigma$ boundaries relative to the true values.\n",
    "\n",
    "As time progresses the estimated angle strays further away from the ground truth due to accumulated noise. This shows, unfortunately, we **cannot rely solely on sensors.**"
   ]
  },
  {
   "cell_type": "code",
   "execution_count": null,
   "metadata": {},
   "outputs": [],
   "source": [
    "plt.plot(t, true_angle_history, color='green')\n",
    "plt.plot(t, measured_angle_history, color='blue')\n",
    "plt.plot(t, true_angle_history+3*accumulated_sigma_history, color='red')\n",
    "plt.plot(t, true_angle_history-3*accumulated_sigma_history, color='red')\n",
    "plt.title('Angular position').set_fontsize(20)\n",
    "plt.ylabel('$\\phi$ [$rad$]').set_fontsize(20)\n",
    "plt.xlabel('$t$ [$sec$]').set_fontsize(20)\n",
    "plt.xticks(fontsize = 14)\n",
    "plt.yticks(fontsize = 14)\n",
    "plt.legend(['Actual angle','Measured angle','Actual angle $+ 3 \\sigma$','Actual angle $- 3 \\sigma$'],fontsize = 14)\n",
    "plt.show()"
   ]
  },
  {
   "cell_type": "markdown",
   "metadata": {},
   "source": [
    "[Solution](./Gyroscope_Measurements-Solution.ipynb)"
   ]
  },
  {
   "cell_type": "code",
   "execution_count": null,
   "metadata": {},
   "outputs": [],
   "source": []
  }
 ],
 "metadata": {
  "kernelspec": {
   "display_name": "Python 3",
   "language": "python",
   "name": "python3"
  },
  "language_info": {
   "codemirror_mode": {
    "name": "ipython",
    "version": 3
   },
   "file_extension": ".py",
   "mimetype": "text/x-python",
   "name": "python",
   "nbconvert_exporter": "python",
   "pygments_lexer": "ipython3",
   "version": "3.7.3"
  }
 },
 "nbformat": 4,
 "nbformat_minor": 2
}
