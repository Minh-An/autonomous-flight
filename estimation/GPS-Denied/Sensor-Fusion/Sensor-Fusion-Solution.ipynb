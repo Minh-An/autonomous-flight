{
 "cells": [
  {
   "cell_type": "markdown",
   "metadata": {},
   "source": [
    "# Sensor Fusion\n",
    "\n",
    "In this notebook you'll implement sensor functionality to refine the distribution. You'll use ground truth sensor measurements $z_t$ (k-element vector) to compute the probability the vehicle is at/near a state $x_t$:\n",
    "\n",
    "$p(x_t | z_t)$\n",
    "\n",
    "Once you have these probabilities or weights, they can be used generate new (refined) samples from the current distribution."
   ]
  },
  {
   "cell_type": "code",
   "execution_count": 2,
   "metadata": {},
   "outputs": [],
   "source": [
    "%matplotlib inline\n",
    "\n",
    "import numpy as np\n",
    "import matplotlib.pyplot as plt\n",
    "import scipy.stats as stats\n",
    "from bresenham import bresenham\n",
    "from utils import create_grid, inbounds"
   ]
  },
  {
   "cell_type": "code",
   "execution_count": 3,
   "metadata": {},
   "outputs": [],
   "source": [
    "plt.rcParams['figure.figsize'] = 14, 14"
   ]
  },
  {
   "cell_type": "markdown",
   "metadata": {},
   "source": [
    "Load map."
   ]
  },
  {
   "cell_type": "code",
   "execution_count": 4,
   "metadata": {},
   "outputs": [],
   "source": [
    "data = np.loadtxt('colliders.csv', delimiter=',', dtype='Float64', skiprows=2)\n",
    "grid, _, _ = create_grid(data)"
   ]
  },
  {
   "cell_type": "markdown",
   "metadata": {},
   "source": [
    "Implementation of Lidar sensor - `LidarSensor`, and sensor related functions."
   ]
  },
  {
   "cell_type": "code",
   "execution_count": 10,
   "metadata": {},
   "outputs": [],
   "source": [
    "class LidarSensor:\n",
    "    def __init__(self, max_range):\n",
    "        self._max_range = max_range\n",
    "        \n",
    "    @property\n",
    "    def max_range(self):\n",
    "        return self._max_range\n",
    "    \n",
    "    def _random_measure(self):\n",
    "        return np.random.randint(0, self._max_range+1)\n",
    "    \n",
    "    def _failure_measure(self):\n",
    "        return self._max_range\n",
    "    \n",
    "    def _hit_measure(self, expected_dist):\n",
    "        return np.random.normal(expected_dist)\n",
    "    \n",
    "    def measure(self, expected_dist):\n",
    "        p = np.random.rand()\n",
    "        if p <= 0.95:\n",
    "            return self._hit_measure(expected_dist)\n",
    "        elif p <= 0.98:\n",
    "            return self._random_measure()\n",
    "        return self._failure_measure()\n",
    "    \n",
    "    def lookup_prob(self, expected_dist, measured_dist):\n",
    "        norm_prob = 0.95 * stats.norm.pdf(measured_dist, loc=expected_dist)\n",
    "        random_prob = 0.03 * (1 / self._max_range)\n",
    "        failure_prob = 0\n",
    "        if measured_dist == self._max_range:\n",
    "            failure_prob = 0.02\n",
    "        return norm_prob + random_prob + failure_prob\n",
    "    \n",
    "def sense(grid, sensor, ground_truth_state, rays):\n",
    "    \"\"\"Generate a number of sensor measurements, `rays` from the ground truth\n",
    "    state `ground_truth_state`.\n",
    "    \"\"\"\n",
    "    measured_distances = []\n",
    "    dists = shoot_rays(grid, sensor, ground_truth_state, k=rays)\n",
    "    for d in dists:\n",
    "        measured_distances.append(sensor.measure(d))\n",
    "    return measured_distances\n",
    "\n",
    "def sensor_fusion(grid_map, sensor, samples, measured_distances):\n",
    "    \"\"\"Given sampled states, `samples` and ground truth sensor\n",
    "    distance measurements, `measured_distances` return the new mean\n",
    "    state and standard deviation estimates.\n",
    "    \"\"\"\n",
    "    weights = []\n",
    "    for s in samples:\n",
    "        weight = importance(grid_map, sensor, s, measured_distances)\n",
    "        weights.append(weight)\n",
    "        \n",
    "    # normalize weights\n",
    "    weights = np.array(weights)\n",
    "    weights /= np.sum(weights)\n",
    "        \n",
    "    return np.array(weights)\n",
    "\n",
    "def shoot_rays(grid_map, sensor, state, k):\n",
    "    \"\"\"\n",
    "    Shoot `k` number of rays the given state, `state`.\n",
    "    The rays will be evenly spaced.\n",
    "    \"\"\"\n",
    "    x, y, theta = state\n",
    "    expected_distances = []\n",
    "    for i, bearing in enumerate(range(k)):\n",
    "        bearing = bearing * (360 / k)\n",
    "        angle = (theta + np.radians(bearing)) % (2 * np.pi)\n",
    "        expected_dist, _ = get_distance(grid_map, sensor, x, y, angle)\n",
    "        expected_distances.append(expected_dist)\n",
    "    return expected_distances\n",
    "\n",
    "def importance(grid_map, sensor, state, measured_distances):\n",
    "    \"\"\"Returns the \"importance\" of the sampled `state` based\n",
    "    on a comparison between the `measured_distances` and the\n",
    "    distances measured from the sampled state.\n",
    "    \"\"\"\n",
    "    expected_distances = shoot_rays(grid_map, sensor, state, k=len(measured_distances))\n",
    "    weight = 1\n",
    "    \n",
    "    # TODO: calculate the importance weight given expected and measured distances\n",
    "    for (ed, md) in zip(expected_distances, measured_distances):\n",
    "        weight *= sensor.lookup_prob(ed, md)\n",
    "        \n",
    "    return weight\n",
    "\n",
    "\n",
    "def get_distance(grid_map, sensor, x, y, angle):\n",
    "    \"\"\"Uses bresenham to find the distance to the nearest\n",
    "    obstacle on the map from an observation at x, y pointed\n",
    "    in a certain angle. If no obstacle is hit the max sensor range\n",
    "    is returned.\"\"\"\n",
    "    # TODO: complete implementation\n",
    "        \n",
    "    x2 = x + sensor.max_range * np.cos(angle)\n",
    "    y2 = y + sensor.max_range * np.sin(angle)\n",
    "    \n",
    "    cells = bresenham(int(x), int(y), int(x2), int(y2))\n",
    "            \n",
    "    dist = sensor.max_range\n",
    "    loc = [x2, y2]\n",
    "    \n",
    "    for c in cells:\n",
    "        if not inbounds(grid_map, c[0], c[1]):\n",
    "            return dist, loc\n",
    "        \n",
    "        if grid_map[c[1], c[0]] == 1:\n",
    "            dist = np.linalg.norm(np.array([x, y]) - np.array([c[0], c[1]]))\n",
    "            loc = [c[0], c[1]]\n",
    "            break\n",
    "            \n",
    "    return dist, loc"
   ]
  },
  {
   "cell_type": "code",
   "execution_count": 11,
   "metadata": {},
   "outputs": [
    {
     "name": "stdout",
     "output_type": "stream",
     "text": [
      "70.71067811865476 [435, 500]\n"
     ]
    }
   ],
   "source": [
    "max_sensor_range = 100\n",
    "sensor = LidarSensor(max_sensor_range)\n",
    "\n",
    "# ground truth state\n",
    "# NOTE: shooting a lidar ray from this state should hit an obstacle at location\n",
    "# [435, 500], distance 70.7106781187\n",
    "ground_truth_state = [385, 450, np.radians(45)]\n",
    "dist, loc = get_distance(grid, sensor, ground_truth_state[0], ground_truth_state[1], \n",
    "                         ground_truth_state[2])\n",
    "print(dist, loc)"
   ]
  },
  {
   "cell_type": "markdown",
   "metadata": {},
   "source": [
    "We'll create a handful of samples to test the weight distribution. Samples most similar to the ground truth state should be assigned the highest weight values."
   ]
  },
  {
   "cell_type": "code",
   "execution_count": 12,
   "metadata": {},
   "outputs": [],
   "source": [
    "samples = np.array([\n",
    "    [400, 440, ground_truth_state[2]],\n",
    "    [820, 135, ground_truth_state[2]],\n",
    "    [720, 800, ground_truth_state[2]],\n",
    "    [160, 800, ground_truth_state[2]],\n",
    "    [400, 440, -ground_truth_state[2]],\n",
    "])"
   ]
  },
  {
   "cell_type": "code",
   "execution_count": 13,
   "metadata": {},
   "outputs": [
    {
     "data": {
      "text/plain": [
       "[<matplotlib.lines.Line2D at 0x1624dbc9808>]"
      ]
     },
     "execution_count": 13,
     "metadata": {},
     "output_type": "execute_result"
    },
    {
     "data": {
      "image/png": "[encoded data removed]",
      "text/plain": [
       "<Figure size 1008x1008 with 1 Axes>"
      ]
     },
     "metadata": {
      "needs_background": "light"
     },
     "output_type": "display_data"
    }
   ],
   "source": [
    "plt.imshow(grid, origin='lower', cmap='Greys')\n",
    "# ground truth state\n",
    "plt.plot(ground_truth_state[0], ground_truth_state[1], 'ro')\n",
    "# sample states\n",
    "plt.plot(samples[:, 0], samples[:, 1], 'bo')"
   ]
  },
  {
   "cell_type": "markdown",
   "metadata": {},
   "source": [
    "Next you'll make a number of sensor measurements from the ground truth state and compute weight probabilities. The higher the probabilities, the greater the likelihood the sample is representative of the ground truth."
   ]
  },
  {
   "cell_type": "code",
   "execution_count": 14,
   "metadata": {},
   "outputs": [
    {
     "name": "stdout",
     "output_type": "stream",
     "text": [
      "zip: <zip object at 0x0000016250A437C8>\n",
      "zip: <zip object at 0x0000016250A43488>\n",
      "zip: <zip object at 0x0000016250A43488>\n",
      "zip: <zip object at 0x0000016250A43488>\n",
      "zip: <zip object at 0x0000016250A43488>\n",
      "zip: <zip object at 0x0000016250A43A48>\n",
      "zip: <zip object at 0x0000016250A437C8>\n",
      "zip: <zip object at 0x0000016250A43CC8>\n",
      "zip: <zip object at 0x0000016250A437C8>\n",
      "zip: <zip object at 0x0000016250A43A48>\n",
      "zip: <zip object at 0x0000016250A437C8>\n",
      "zip: <zip object at 0x0000016250A43CC8>\n",
      "zip: <zip object at 0x0000016250A437C8>\n",
      "zip: <zip object at 0x0000016250A43A48>\n",
      "zip: <zip object at 0x0000016250A437C8>\n",
      "zip: <zip object at 0x0000016250A43CC8>\n",
      "zip: <zip object at 0x0000016250A437C8>\n",
      "zip: <zip object at 0x0000016250A43A48>\n",
      "zip: <zip object at 0x0000016250A437C8>\n",
      "zip: <zip object at 0x0000016250A43CC8>\n",
      "zip: <zip object at 0x0000016250A437C8>\n",
      "zip: <zip object at 0x0000016250A43A48>\n",
      "zip: <zip object at 0x0000016250A437C8>\n",
      "zip: <zip object at 0x0000016250A43CC8>\n",
      "zip: <zip object at 0x0000016250A437C8>\n",
      "zip: <zip object at 0x0000016250A43A48>\n",
      "zip: <zip object at 0x0000016250A437C8>\n",
      "zip: <zip object at 0x0000016250A43CC8>\n",
      "zip: <zip object at 0x0000016250A437C8>\n",
      "zip: <zip object at 0x0000016250A43A48>\n",
      "zip: <zip object at 0x0000016250A43CC8>\n",
      "zip: <zip object at 0x0000016250A43A48>\n",
      "zip: <zip object at 0x0000016250A43CC8>\n",
      "zip: <zip object at 0x0000016250A43A48>\n",
      "zip: <zip object at 0x0000016250A43CC8>\n",
      "zip: <zip object at 0x0000016250A43A48>\n",
      "zip: <zip object at 0x0000016250A43CC8>\n",
      "zip: <zip object at 0x0000016250A43A48>\n",
      "zip: <zip object at 0x000001624DBBA1C8>\n",
      "zip: <zip object at 0x000001624DBCF6C8>\n",
      "5\n",
      "weight value 0.9981478306693415 state [400.         440.           0.78539816]\n",
      "weight value 0.0009253444395619495 state [8.20000000e+02 1.35000000e+02 7.85398163e-01]\n",
      "weight value 0.000925344608655416 state [7.20000000e+02 8.00000000e+02 7.85398163e-01]\n",
      "weight value 7.402299590729342e-07 state [1.60000000e+02 8.00000000e+02 7.85398163e-01]\n",
      "weight value 7.400524819918634e-07 state [400.         440.          -0.78539816]\n"
     ]
    }
   ],
   "source": [
    "# TODO: take sensor measurements from the ground truth state.\n",
    "measured_distances = sense(grid, sensor, ground_truth_state, 8)\n",
    "\n",
    "# TODO: compute weights given the grid, sensor, samples and sensed distances.\n",
    "weights = sensor_fusion(grid, sensor, samples, measured_distances)\n",
    "print(len(samples))\n",
    "\n",
    "for (w, s) in zip(weights, samples):\n",
    "    print('weight value', w, 'state', s)"
   ]
  },
  {
   "cell_type": "markdown",
   "metadata": {},
   "source": [
    "The state with the largest weight value by far (> 99%) should be `[ 400., 440., 0.78539816]`."
   ]
  },
  {
   "cell_type": "code",
   "execution_count": null,
   "metadata": {},
   "outputs": [],
   "source": []
  },
  {
   "cell_type": "code",
   "execution_count": null,
   "metadata": {},
   "outputs": [],
   "source": []
  }
 ],
 "metadata": {
  "kernelspec": {
   "display_name": "Python 3",
   "language": "python",
   "name": "python3"
  },
  "language_info": {
   "codemirror_mode": {
    "name": "ipython",
    "version": 3
   },
   "file_extension": ".py",
   "mimetype": "text/x-python",
   "name": "python",
   "nbconvert_exporter": "python",
   "pygments_lexer": "ipython3",
   "version": "3.7.4"
  }
 },
 "nbformat": 4,
 "nbformat_minor": 2
}
