{
 "cells": [
  {
   "cell_type": "markdown",
   "metadata": {},
   "source": [
    "\n",
    "\n",
    "# Aerodynamics\n",
    "\n",
    "In this notebook, we will go through the basic aerodynamics equations characterizing the flight dynamics. In particular, will develop the aerodynamics forces and calculate the trim condition at which the airplane maintains the level flight. "
   ]
  },
  {
   "cell_type": "code",
   "execution_count": 1,
   "metadata": {
    "collapsed": true
   },
   "outputs": [],
   "source": [
    "%matplotlib inline \n",
    "%config InlineBackend.figure_format = 'retina'\n",
    "\n",
    "import numpy as np \n",
    "import matplotlib.pyplot as plt\n",
    "import matplotlib.pylab as pylab\n",
    "import matplotlib.image as mpimg\n",
    "import jdc\n",
    "from TestCode import TestAerodynamics\n",
    "from Cessna import AeroDynamics\n",
    "pylab.rcParams['figure.figsize'] = 10, 10"
   ]
  },
  {
   "cell_type": "markdown",
   "metadata": {},
   "source": [
    "Initially, we will load the `AeroDynamics` class which contains all the necessary parameters characterizing the airplane and physical constants similar to the density of air and gravitational constant. "
   ]
  },
  {
   "cell_type": "markdown",
   "metadata": {},
   "source": [
    "### Lift force:\n",
    "The lift coefficient depends on the angle of attack and the elevator deflection. The final lift is proportional to the lift coefficient and the dynamic pressure induced by the forward motion with the velocity of $V$. \n",
    "$$\n",
    "\\begin{align}\n",
    "C_L & = C_{L_0} + C_{L_{\\alpha}} \\alpha + C_{L_{\\delta E}}\\delta E \\\\\n",
    "L & =C_{L} \\bar{q} S \\\\\n",
    "\\bar{q} & = \\rho \\frac{V^2}{2}\n",
    "\\end{align}\n",
    "$$\n",
    "Equations: 39, 38 and 32 from model.pdf"
   ]
  },
  {
   "cell_type": "code",
   "execution_count": 2,
   "metadata": {
    "collapsed": true
   },
   "outputs": [],
   "source": [
    "%%add_to AeroDynamics\n",
    "\n",
    "def c_l(self, alpha, delta_e):\n",
    "    '''\n",
    "    Calculates the lift coefficient for the given angle of attack and the elevator deflection angle \n",
    "    Args:\n",
    "        alpha: angle of attack \n",
    "        delta_e: the deflection angle of the elevator\n",
    "\n",
    "    Returns:\n",
    "        final lift coefficient \n",
    "    '''\n",
    "    \n",
    "    # TODO: Calculate the lift coefficient based on the coefficient of lift at zero angle of attack, \n",
    "    # lift slope and the  lift control derivative regarding elevator angle.\n",
    "    \n",
    "    c_l = self.c_l_0 + self.c_l_alpha * alpha + self.c_l_delta_e * delta_e\n",
    "    \n",
    "    return c_l\n",
    "    \n",
    "def lift(self, v_a, alpha, delta_e):\n",
    "    '''\n",
    "    Calculates the lift force for the given angle of attack, the elevator deflection angle and the velocity \n",
    "    Args:\n",
    "        v_a: velocity of the airplane - true airspeed (TAS) \n",
    "        alpha: angle of attack \n",
    "        delta_e: the deflection angle of the elevator\n",
    "\n",
    "    Returns:\n",
    "        final lift force [N] \n",
    "    '''\n",
    "    \n",
    "    # TODO: calculate the dynamic pressure and the total lift based on lift coefficient \n",
    "    # which you implemented above and the dynamic pressure\n",
    "    \n",
    "    q_bar = self.rho * v_a **2 / 2\n",
    "    \n",
    "    l = self.c_l(alpha,delta_e) * q_bar * self.s\n",
    "    \n",
    "    return l "
   ]
  },
  {
   "cell_type": "markdown",
   "metadata": {},
   "source": [
    "Run the test function to see if you calculated the lift force correctly."
   ]
  },
  {
   "cell_type": "code",
   "execution_count": 3,
   "metadata": {},
   "outputs": [
    {
     "name": "stdout",
     "output_type": "stream",
     "text": [
      "Calculated lift force is 2993.65 [N].\n",
      "Test Passed\n"
     ]
    }
   ],
   "source": [
    "AD = AeroDynamics()\n",
    "alpha = 3/180*np.pi    # [rad]\n",
    "delta_e = 1/180*np.pi  # [rad]\n",
    "v_a = 35               # [m/s]\n",
    "\n",
    "lift = AD.lift(v_a, alpha, delta_e)\n",
    "print('Calculated lift force is %.2f [N].'%lift)\n",
    "\n",
    "TestAerodynamics.test_lift(lift, v_a, alpha, delta_e, \n",
    "                           AD.c_l_0, AD.c_l_alpha, AD.c_l_delta_e, AD.rho, AD.s  )"
   ]
  },
  {
   "cell_type": "markdown",
   "metadata": {},
   "source": [
    "### Drag force:\n",
    "\n",
    "Similarly, we can calculate the drag force on an airplane.\n",
    "\n",
    "$$\n",
    "\\begin{align}\n",
    "C_D & = C_{D_0} + \\epsilon C_{L_0}^2 \\\\\n",
    "D & = C_D \\bar{q} S\\\\\n",
    "\\bar{q} & = \\rho \\frac{V^2}{2}\n",
    "\\end{align}\n",
    "$$\n",
    "Equations 41,44,45,40 and 32 from model.pdf.\n"
   ]
  },
  {
   "cell_type": "code",
   "execution_count": 4,
   "metadata": {
    "collapsed": true
   },
   "outputs": [],
   "source": [
    "%%add_to AeroDynamics\n",
    "\n",
    "def c_d(self, alpha):\n",
    "    '''\n",
    "    Calculates the drag coefficient for the given angle of attack\n",
    "    Args:\n",
    "        alpha: angle of attack \n",
    "        \n",
    "    Returns:\n",
    "        final drag coefficient \n",
    "    '''\n",
    "    \n",
    "    # TODO: Calculate the drag coefficient based on the coefficient of drag at zero angle of attack, \n",
    "    # the nondimensional coefficient of induced drag factor and coefficient of lift at zero angle of attack \n",
    "    \n",
    "    c_d = self.c_d_0 + self.epsilon * self.c_l_0**2\n",
    "    \n",
    "    return c_d \n",
    "\n",
    "\n",
    "def drag(self, v_a, alpha):\n",
    "    \n",
    "    '''\n",
    "    Calculates the lift force for the given angle of attack, the elevator deflection angle and the velocity \n",
    "    Args:\n",
    "        v_a: velocity of the airplane - true airspeed (TAS) \n",
    "        alpha: angle of attack  \n",
    "\n",
    "    Returns:\n",
    "        final lift force [N] \n",
    "    '''\n",
    "    \n",
    "    # TODO: Calculate the dynamic pressure and the total lift based on lift coefficient \n",
    "    # which you implemented above and the dynamic pressure\n",
    "    \n",
    "    q_bar = self.rho * v_a **2 / 2\n",
    "    \n",
    "    d = self.c_d(alpha) * q_bar * self.s\n",
    "    \n",
    "    return d \n",
    "    "
   ]
  },
  {
   "cell_type": "markdown",
   "metadata": {},
   "source": [
    "Run the test function to see if you calculated the drag force correctly."
   ]
  },
  {
   "cell_type": "code",
   "execution_count": 5,
   "metadata": {},
   "outputs": [
    {
     "name": "stdout",
     "output_type": "stream",
     "text": [
      "Calculated drag force is 339.03 [N].\n",
      "Test Passed\n"
     ]
    }
   ],
   "source": [
    "AD = AeroDynamics()\n",
    "alpha = 3/180*np.pi # [rad]\n",
    "v_a = 35            # [m/s]\n",
    "\n",
    "drag = AD.drag(v_a, alpha)\n",
    "print('Calculated drag force is %.2f [N].'%drag)\n",
    "\n",
    "TestAerodynamics.test_drag(drag, v_a, alpha, \n",
    "                           AD.epsilon, AD.c_l_0, AD.c_l_alpha, AD.c_l_alpha_2, AD.c_d_0, AD.rho, AD.s)"
   ]
  },
  {
   "cell_type": "markdown",
   "metadata": {},
   "source": [
    "### Pitch\n",
    "The pitch moment also based on the aerodynamic coefficients derived for each aircraft. \n",
    "$$\n",
    "\\begin{align}\n",
    "C_{M} & = C_{M_0} + C_{M_{\\alpha}} \\alpha + C_{M_{\\delta E}} \\delta E \\\\\n",
    "M & =C_{M} \\bar{q} S \\bar{c}\\\\\n",
    "\\bar{q} & = \\rho \\frac{V^2}{2}\n",
    "\\end{align}\n",
    "$$\n",
    "Equations 47, 46 and 32 in model.pdf."
   ]
  },
  {
   "cell_type": "code",
   "execution_count": 6,
   "metadata": {
    "collapsed": true
   },
   "outputs": [],
   "source": [
    "%%add_to AeroDynamics\n",
    "\n",
    "def c_m(self, alpha, delta_e):\n",
    "    '''\n",
    "    Calculates the pitching moment coefficient for the given angle of attack and the elevator deflection angle \n",
    "    Args:\n",
    "        alpha: angle of attack \n",
    "        delta_e: the deflection angle of the elevator\n",
    "\n",
    "    Returns:\n",
    "        final pitching moment coefficient \n",
    "    '''\n",
    "    \n",
    "    # TODO: Calculate the pitching moment coefficient based on the coefficient of pitching moment\n",
    "    # at zero angle of attack, pitching slope and the pitching slope for the elevator  \n",
    "    \n",
    "    c_m = self.c_m_0 + self.c_m_alpha * alpha + self.c_m_delta_e * delta_e\n",
    "    \n",
    "    return c_m \n",
    "    \n",
    "\n",
    "def pitch_moment(self, v_a, alpha, delta_e):\n",
    "    '''\n",
    "    Calculates the pitching moment for the given angle of attack, the elevator deflection angle and the velocity \n",
    "    Args:\n",
    "        v_a: velocity of the airplane - true airspeed (TAS) \n",
    "        alpha: angle of attack \n",
    "        delta_e: the deflection angle of the elevator\n",
    "\n",
    "    Returns:\n",
    "        final pitching moment force [N m] \n",
    "    '''\n",
    "    \n",
    "    # TODO: Calculate the dynamic pressure and the total pitching moment based on pitching moment coefficient \n",
    "    # which you implemented above and the dynamic pressure\n",
    "    \n",
    "    q_bar = self.rho * v_a **2 / 2\n",
    "    \n",
    "    m = self.c_m(alpha, delta_e) * q_bar * self.s * self.c \n",
    "    \n",
    "    return m "
   ]
  },
  {
   "cell_type": "markdown",
   "metadata": {},
   "source": [
    "Run the test function to see if you calculated the pitching moment correctly."
   ]
  },
  {
   "cell_type": "code",
   "execution_count": 7,
   "metadata": {},
   "outputs": [
    {
     "name": "stdout",
     "output_type": "stream",
     "text": [
      "Calculated pitch moment is -219.03 [N m].\n",
      "Test Passed\n"
     ]
    }
   ],
   "source": [
    "AD = AeroDynamics()\n",
    "alpha = 3/180*np.pi    # [rad]\n",
    "delta_e = 1/180*np.pi  # [rad]\n",
    "v_a = 35               # [m/s]\n",
    "\n",
    "pm = AD.pitch_moment(v_a, alpha, delta_e)\n",
    "print('Calculated pitch moment is %.2f [N m].'%pm)\n",
    "\n",
    "TestAerodynamics.test_pitch(pm, v_a, alpha, delta_e, \n",
    "                           AD.c_m_0, AD.c_m_alpha, AD.c_m_delta_e, AD.rho, AD.s, AD.c  )"
   ]
  },
  {
   "cell_type": "markdown",
   "metadata": {},
   "source": [
    "# Trim conditions\n",
    "---\n",
    "\n",
    "When thrust of the vehicle is aligned with the centerline.\n",
    "$$\n",
    "\\begin{bmatrix} T_x \\\\ T_y \\\\T_z \\end{bmatrix} = \\begin{bmatrix} T \\cos{(\\alpha)} \\\\ 0 \\\\ - T\\sin{(\\alpha)}\\end{bmatrix}\n",
    "$$\n",
    "\n",
    "For the steady flight, the next assumptions need to be satisfied.\n",
    "$$\n",
    "D \\approx T \\\\\n",
    "L \\approx W \\\\\n",
    "\\dot{h} =0 \\\\\n",
    "\\dot{r} =V\n",
    "$$\n",
    "Trim angle of attack is given as:\n",
    "\n",
    "$$\n",
    "\\alpha_{trim} = \\frac{\\frac{2W}{\\rho V^2 S}-C_{L_0}}{C_{L_{\\alpha}}}\n",
    "$$\n",
    "\n",
    "The net pitch moment is zero. Thus trim elevator deflection is:\n",
    "$$\n",
    "\\delta_{e} = - \\frac{C_{m_{0}} + C_{m_{\\alpha}} \\alpha_{trim}}{C_{m_{\\delta_e}}}\n",
    "$$\n",
    "\n",
    "For equilibrium, thrust needs to compensate the drag. \n",
    "$$\n",
    "T_{trim} = C_{D_0}\\frac{1}{2}\\rho V^2 S + \\frac{2\\epsilon W^2}{\\rho V^2 S}\n",
    "$$\n",
    "\n",
    "Minimum thrust is achieved at the given velocity.\n",
    "$$\n",
    "V_{minT} =\\sqrt{\\frac{2W}{\\rho S}\\sqrt{\\frac{\\epsilon}{C_{D_0}}}}\n",
    "$$"
   ]
  },
  {
   "cell_type": "code",
   "execution_count": 8,
   "metadata": {
    "collapsed": true
   },
   "outputs": [],
   "source": [
    "class TrimCondition(AeroDynamics):\n",
    "    \n",
    "    def __init__(self):\n",
    "        super(TrimCondition, self).__init__()\n",
    "            \n",
    "        pass \n",
    "    \n",
    "    def v_min_t(self):\n",
    "        '''\n",
    "        Calculates the velocity at which airplane produces the minimum thrust to maintain level flight\n",
    "\n",
    "        Returns:\n",
    "            velocity with minimum thrust [m/s]\n",
    "        '''\n",
    "        \n",
    "        # TODO: Calculate the velocity at minimum thrust\n",
    "        \n",
    "        v_min_t = np.sqrt(2*self.mass * self.g/(self.rho * self.s)*np.sqrt(self.epsilon/(self.c_d_0)))\n",
    "        \n",
    "        return v_min_t\n",
    "    \n",
    "    \n",
    "    def thrust(self,v_a):\n",
    "        '''\n",
    "        Calculates the thrust for the desired velocity \n",
    "        Args:\n",
    "            v_a: velocity of the airplane - true airspeed (TAS) \n",
    "        \n",
    "        Returns:\n",
    "            thrust value [N]\n",
    "        '''\n",
    "        \n",
    "        # TODO: Calculate the thrust\n",
    "        \n",
    "        thrust = 0.5 * self.c_d_0 * self.rho * v_a**2 * self.s \\\n",
    "                 + 2 * self.epsilon * self.mass**2 * self.g**2 /(self.rho * v_a**2 * self.s)\n",
    "            \n",
    "        return thrust\n",
    "    \n",
    "    \n",
    "    def delta_e(self,alpha_trim):\n",
    "        '''\n",
    "        Calculates the deflection angle of the elevator during level flight\n",
    "        Args:\n",
    "            alpha_trim: Trim angle of attack for the desired velocity\n",
    "\n",
    "        Returns:\n",
    "            The deflection angle of the elevator\n",
    "        '''\n",
    "        # TODO: Calculate the elevator deflection angle\n",
    "        \n",
    "        delta_e = -(self.c_m_0 + self.c_m_alpha * alpha_trim)/self.c_m_delta_e\n",
    "        \n",
    "        return delta_e\n",
    "    \n",
    "    \n",
    "    def alpha(self,v_a):\n",
    "        '''\n",
    "        Calculates the trim angle of attack. \n",
    "        Args:\n",
    "            v_a: velocity of the airplane - true airspeed (TAS) \n",
    "\n",
    "        Returns:\n",
    "            Trim angle of attack for the desired velocity\n",
    "        '''\n",
    "        # TODO: Calculate the angle of attack\n",
    "        \n",
    "        alpha_trim = (2*self.mass * self.g /(self.rho * v_a**2 * self.s)-self.c_l_0)/self.c_l_alpha\n",
    "        \n",
    "        return alpha_trim"
   ]
  },
  {
   "cell_type": "markdown",
   "metadata": {},
   "source": [
    "### Climbing flight\n",
    "\n",
    "When thrust vector is aligned with the velocity vector the flight path angle is given as:\n",
    "$$\n",
    "\\gamma = \\sin^{-1} \\frac{T-D}{W} \n",
    "$$\n",
    "\n",
    "The rate of climb is calculated by:\n",
    "$$\n",
    "\\dot{h} = V\\sin{\\gamma} =  \\frac{V(T-D)}{W}\n",
    "$$\n",
    "\n",
    "Airspeed for the best climb rate is given as:\n",
    "\n",
    "$$\n",
    "V_{climb} = \\sqrt{\\frac{2(W/S)}{\\rho}\\sqrt{\\frac{\\epsilon}{3 C_{D_0}}}}\n",
    "$$\n"
   ]
  },
  {
   "cell_type": "code",
   "execution_count": 9,
   "metadata": {
    "collapsed": true
   },
   "outputs": [],
   "source": [
    "%%add_to TrimCondition\n",
    "\n",
    "def climbing_velocity(self):\n",
    "    '''\n",
    "    Calculates the most effective airspeed for the best climb rate\n",
    "\n",
    "    Returns:\n",
    "        Airspeed for the best climb rate\n",
    "    '''\n",
    "    # TODO: Calculate the most effective airspeed\n",
    "        \n",
    "    v_climb = np.sqrt(2*self.mass *self.g /(self.s * self.rho)* np.sqrt(self.epsilon /(3* self.c_d_0)))\n",
    "    \n",
    "    return v_climb\n",
    "\n",
    "\n",
    "def angle_of_climb(self,v_climb):\n",
    "    '''\n",
    "    Calculates the angle of climb. \n",
    "    Args:\n",
    "        v_climb: velocity of the airplane \n",
    "\n",
    "    Returns:\n",
    "        The angle of climb for a given velocity \n",
    "    '''\n",
    "    \n",
    "    alpha =self.alpha(v_climb)\n",
    "    drag = self.drag(v_climb, alpha) \n",
    "    thrust = self.thrust(v_climb)\n",
    "    \n",
    "    # TODO: Calculate the angle of climb\n",
    "        \n",
    "    climb_angle = np.arcsin((thrust - drag)/(self.mass * self.g))\n",
    "    \n",
    "    return climb_angle"
   ]
  },
  {
   "cell_type": "markdown",
   "metadata": {},
   "source": [
    "Calculating Trim conditions. "
   ]
  },
  {
   "cell_type": "code",
   "execution_count": 10,
   "metadata": {},
   "outputs": [
    {
     "name": "stdout",
     "output_type": "stream",
     "text": [
      "Velocity at minimal thrust for level flight is 52.85 [m/s]\n",
      "Thrust of the given velocity is 1546.19  [N]\n",
      "Angle of attack at level flight is 5.35  [degrees]\n",
      "Elevator deflection angle at level flight is -0.88  [degrees]\n",
      "The most effective climbing velocity is 40.16 [m/s]\n",
      "The climbing angle at trim is 6.52  [degrees]\n"
     ]
    }
   ],
   "source": [
    "# Initializing the trim conditions\n",
    "\n",
    "Trim = TrimCondition()\n",
    "\n",
    "#step 1. calculate the v_min_t\n",
    "\n",
    "v_at_trim = Trim.v_min_t()\n",
    "\n",
    "print('Velocity at minimal thrust for level flight is %.2f'%v_at_trim, '[m/s]')\n",
    "\n",
    "# step 2. Get thrust value \n",
    "\n",
    "thrust_at_trim = Trim.thrust(v_at_trim)\n",
    "\n",
    "print('Thrust of the given velocity is %.2f'%thrust_at_trim , ' [N]')\n",
    "\n",
    "# step 3. calculate the angle of attack at the trim condition \n",
    "\n",
    "alpha_at_trim = Trim.alpha(v_at_trim)\n",
    "\n",
    "print('Angle of attack at level flight is %.2f'%(alpha_at_trim*180/np.pi),' [degrees]')\n",
    "\n",
    "# step 4. calculate the deflection angle for the elevator \n",
    "\n",
    "delta_e_at_trim = Trim.delta_e(alpha_at_trim)\n",
    "\n",
    "print('Elevator deflection angle at level flight is %.2f'%(delta_e_at_trim*180/np.pi), ' [degrees]')\n",
    "\n",
    "# step 5. climbing velocity \n",
    "\n",
    "v_climbing= Trim.climbing_velocity()\n",
    "\n",
    "print('The most effective climbing velocity is %.2f'%v_climbing, '[m/s]')\n",
    "\n",
    "# step 6. calculate the angle of climb\n",
    "\n",
    "gamma = Trim.angle_of_climb(v_climbing)\n",
    "\n",
    "print('The climbing angle at trim is %.2f'%(gamma*180/np.pi), ' [degrees]')\n"
   ]
  },
  {
   "cell_type": "code",
   "execution_count": 11,
   "metadata": {},
   "outputs": [
    {
     "data": {
      "image/png": "[encoded data removed]",
      "text/plain": [
       "<matplotlib.figure.Figure at 0x10c8b6f98>"
      ]
     },
     "metadata": {
      "image/png": {
       "height": 249,
       "width": 600
      }
     },
     "output_type": "display_data"
    }
   ],
   "source": [
    "img=mpimg.imread('cessna172.png')\n",
    "\n",
    "unit_vector=120\n",
    "unit_value = Trim.mass*Trim.g\n",
    "\n",
    "plt.imshow(img)\n",
    "## weight\n",
    "plt.arrow(1080, 400, 0, unit_vector, width=20, head_width=50, head_length=50,fc='red', ec='red')\n",
    "plt.text(1110, 550 , 'mg', fontsize =25, color='red')\n",
    "\n",
    "## Lift \n",
    "\n",
    "# This is just a place holder of the plotting later on \n",
    "lift_arrow_length = Trim.lift(v_at_trim, alpha_at_trim, delta_e_at_trim) / unit_value * unit_vector\n",
    "#\n",
    "\n",
    "plt.arrow(1080, 400, 0, -lift_arrow_length, width=20, head_width=50, head_length=50,fc='Green', ec='Green')\n",
    "plt.text(1110, 250 , 'Lift', fontsize =25, color='Green')\n",
    "\n",
    "## Thrust \n",
    "thrust_arrow_length = thrust_at_trim / unit_value * unit_vector\n",
    "\n",
    "plt.arrow(1090, 400, thrust_arrow_length, 0, width=20, head_width=50, head_length=50,fc='Green', ec='Green')\n",
    "plt.text(1150, 480 , 'Thrust', fontsize =25, color='Green')\n",
    "\n",
    "## Drag \n",
    "\n",
    "drag_arrow_length = Trim.drag(v_at_trim, alpha_at_trim) / unit_value * unit_vector\n",
    "\n",
    "plt.arrow(1070, 400, -drag_arrow_length, 0, width=20, head_width=50, head_length=50,fc='Red', ec='Red')\n",
    "plt.text(850, 480 , 'drag', fontsize =25, color='Red')\n",
    "\n",
    "plt.axis('off')\n",
    "plt.show()"
   ]
  },
  {
   "cell_type": "code",
   "execution_count": null,
   "metadata": {
    "collapsed": true
   },
   "outputs": [],
   "source": []
  },
  {
   "cell_type": "code",
   "execution_count": null,
   "metadata": {
    "collapsed": true
   },
   "outputs": [],
   "source": []
  }
 ],
 "metadata": {
  "kernelspec": {
   "display_name": "Python 3",
   "language": "python",
   "name": "python3"
  },
  "language_info": {
   "codemirror_mode": {
    "name": "ipython",
    "version": 3
   },
   "file_extension": ".py",
   "mimetype": "text/x-python",
   "name": "python",
   "nbconvert_exporter": "python",
   "pygments_lexer": "ipython3",
   "version": "3.6.3"
  }
 },
 "nbformat": 4,
 "nbformat_minor": 2
}
