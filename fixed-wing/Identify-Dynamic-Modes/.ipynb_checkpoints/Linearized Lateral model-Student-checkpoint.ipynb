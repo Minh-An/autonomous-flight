{
 "cells": [
  {
   "cell_type": "markdown",
   "metadata": {},
   "source": [
    "# Linearized Lateral model\n",
    "---\n",
    "\n",
    "For this exercise, we will reuse the `AeroDynamicsCoefficients` and `TrimCondition` objects developed in the previous exercise. "
   ]
  },
  {
   "cell_type": "code",
   "execution_count": null,
   "metadata": {
    "collapsed": true
   },
   "outputs": [],
   "source": [
    "%matplotlib inline \n",
    "%config InlineBackend.figure_format = 'retina'\n",
    "\n",
    "import numpy as np \n",
    "from math import sin, cos\n",
    "import matplotlib.pyplot as plt\n",
    "import matplotlib.pylab as pylab\n",
    "import jdc\n",
    "from ipywidgets import interactive\n",
    "from scipy.stats import multivariate_normal\n",
    "from Cessna import AeroDynamicsCoefficients\n",
    "from Trim import TrimCondition\n",
    "pylab.rcParams['figure.figsize'] = 10, 10"
   ]
  },
  {
   "cell_type": "markdown",
   "metadata": {},
   "source": [
    "We will provide partially developed `LinearLateralModel` which contains equations outlined in Model.pdf.\n",
    "\n",
    "You will go through the process of adequately integrating the given object with the `Aerodynamics` and `TrimCondition` objects from the previous exercise. \n",
    "\n",
    "\n",
    "The `LinearLateralModel` will inherit from the `AeroDynamicsCoefficients` object which will provide all the necessary constants which will need to perform the calculations.\n",
    "\n",
    "Also, we will transfer the `TrimObject` as the variable. "
   ]
  },
  {
   "cell_type": "code",
   "execution_count": null,
   "metadata": {
    "collapsed": true
   },
   "outputs": [],
   "source": [
    "class LinearLateralModel(AeroDynamicsCoefficients):\n",
    "    \n",
    "    def __init__(self,TrimObject):\n",
    "        super(LinearLateralModel, self).__init__()\n",
    "        self.TrimObject = TrimObject\n",
    "        \n",
    "    def trim_values(self):\n",
    "        v_at_trim = 68.0\n",
    "        self.alpha_star = Trim.alpha_for_trim(v_at_trim)\n",
    "        self.u_star = v_at_trim * np.cos(self.alpha_star) \n",
    "        self.w_star = v_at_trim * np.sin(self.alpha_star)\n",
    "        self.q_star = 0.0\n",
    "        self.v_a_star = v_at_trim\n",
    "        \n",
    "        self.delta_e_star = Trim.delta_e(self.alpha_star)\n",
    "        self.delta_t_star = 0.0\n",
    "        self.theta_star = self.alpha_star\n",
    "        self.p_star = 0.0\n",
    "        self.r_star = 0.0\n",
    "        self.beta_star = 0.0\n",
    "        self.delta_a_star = 0.0 \n",
    "        self.delta_r_star = 0.0\n",
    "        self.phi_star = 0.0\n"
   ]
  },
  {
   "cell_type": "markdown",
   "metadata": {},
   "source": [
    "Declaring the $\\Gamma$ variables according to the model.pdf page 6."
   ]
  },
  {
   "cell_type": "code",
   "execution_count": null,
   "metadata": {
    "collapsed": true
   },
   "outputs": [],
   "source": [
    "%%add_to LinearLateralModel\n",
    "\n",
    "def gammas(self):\n",
    "    \n",
    "    gamma = self.j_x * self.j_z -self.j_xz**2\n",
    "        \n",
    "    self.gamma_1 = (self.j_xz * (self.j_x -self.j_y + self.j_z))/gamma\n",
    "    self.gamma_2 = (self.j_z *(self.j_z - self.j_y) + self.j_xz**2)/gamma\n",
    "    self.gamma_3 = self.j_z/gamma\n",
    "    self.gamma_4 = self.j_xz/gamma\n",
    "    self.gamma_5 = (self.j_z - self.j_x)/self.j_y\n",
    "    self.gamma_6 = self.j_xz/self.j_y\n",
    "    self.gamma_7 = ((self.j_x-self.j_y)*self.j_x -self.j_xz**2)/gamma\n",
    "    self.gamma_8 = self.j_x/gamma"
   ]
  },
  {
   "cell_type": "markdown",
   "metadata": {},
   "source": [
    "Declaring the variables according to the model.pdf page 8."
   ]
  },
  {
   "cell_type": "code",
   "execution_count": null,
   "metadata": {
    "collapsed": true
   },
   "outputs": [],
   "source": [
    "%%add_to LinearLateralModel\n",
    "\n",
    "@property\n",
    "def c_p_p(self):\n",
    "    c_p_p = self.gamma_3 * self.c_l_p + self.gamma_4 * self.c_n_p\n",
    "    return c_p_p\n",
    "\n",
    "@property\n",
    "def c_p_r(self):\n",
    "    c_p_r = self.gamma_3 * self.c_l_r + self.gamma_4 * self.c_n_r\n",
    "    return c_p_r \n",
    "\n",
    "@property \n",
    "def c_p_0(self):\n",
    "    c_p_0 = self.gamma_3 * self.c_l_0 + self.gamma_4 * self.c_n_0\n",
    "    return c_p_0\n",
    "\n",
    "@property\n",
    "def c_p_beta(self):\n",
    "    c_p_beta = self.gamma_3 * self.c_l_beta + self.gamma_4 * self.c_n_beta\n",
    "    return c_p_beta \n",
    "\n",
    "@property\n",
    "def c_p_delta_a(self):\n",
    "    c_p_delta_a= self.gamma_3 * self.c_l_delta_a + self.gamma_4 * self.c_n_delta_a\n",
    "    return c_p_delta_a\n",
    "\n",
    "@property\n",
    "def c_p_delta_r(self):\n",
    "    c_p_delta_r = self.gamma_3 * self.c_l_delta_r + self.gamma_4 * self.c_n_delta_r\n",
    "    return c_p_delta_r\n",
    "\n",
    "@property\n",
    "def c_r_p(self):\n",
    "    c_r_p = self.gamma_4 * self.c_l_p + self.gamma_8 * self.c_n_p\n",
    "    return c_r_p\n",
    "\n",
    "@property\n",
    "def c_r_r(self):\n",
    "    c_r_r = self.gamma_4 * self.c_l_r + self.gamma_8 * self.c_n_r\n",
    "    return c_r_r\n",
    "\n",
    "@property\n",
    "def c_r_0(self):\n",
    "    c_r_0 = self.gamma_4 * self.c_l_0 + self.gamma_8 * self.c_n_0\n",
    "    return c_r_0\n",
    "\n",
    "@property\n",
    "def c_r_beta(self):\n",
    "    c_r_beta = self.gamma_4 * self.c_l_beta + self.gamma_8 * self.c_n_beta\n",
    "    return c_r_beta\n",
    "\n",
    "@property\n",
    "def c_r_delta_a(self):\n",
    "    c_r_delta_a = self.gamma_4 * self.c_l_delta_a + self.gamma_8 * self.c_n_delta_a\n",
    "    return c_r_delta_a\n",
    "\n",
    "@property\n",
    "def c_r_delta_r(self):\n",
    "    c_r_delta_r = self.gamma_4 * self.c_l_delta_r + self.gamma_8 * self.c_n_delta_r\n",
    "    return c_r_delta_r"
   ]
  },
  {
   "cell_type": "markdown",
   "metadata": {},
   "source": [
    "Formulating the matrix variables for Linearized Longitudinal model outlined on page 6."
   ]
  },
  {
   "cell_type": "code",
   "execution_count": null,
   "metadata": {
    "collapsed": true
   },
   "outputs": [],
   "source": [
    "%%add_to LinearLateralModel\n",
    "\n",
    "@property\n",
    "def y_v(self):\n",
    "    y_v = self.rho * self.s * self.b * self.v_a_star/ (4* self.mass * self.v_a_star) \\\n",
    "          * (self.c_y_p * self.p_star + self.c_y_r * self.r_star) \\\n",
    "          + self.rho * self.s * self. v_a_star /self.mass * (self.c_y_0 + self.c_y_beta * self.beta_star \\\n",
    "          + self.c_y_delta_a * self.delta_a_star + self.c_y_delta_r * self.delta_r_star) \\\n",
    "        + self.rho * self.s * self.c_y_beta/ (2* self.mass) * np.sqrt(self.u_star**2 + self.w_star**2)\n",
    "    return y_v\n",
    "\n",
    "\n",
    "@property\n",
    "def y_p(self):\n",
    "    y_p = self.w_star + self.rho * self.v_a_star * self.s * self.b /(4 * self.mass) * self.c_y_p\n",
    "    return y_p\n",
    "\n",
    "@property\n",
    "def y_r(self):\n",
    "    y_r = -self.u_star +self.rho * self.v_a_star * self.s * self.b /(4 * self.mass) * self.c_y_r\n",
    "    return y_r \n",
    "\n",
    "@property \n",
    "def y_delta_a(self):\n",
    "    y_delta_a = self.rho * self.v_a_star**2 * self.s /(2 * self.mass) * self.c_y_delta_alpha\n",
    "    return y_delta_a\n",
    "\n",
    "@property\n",
    "def y_delta_r(self):\n",
    "    y_delta_r = self.rho * self.v_a_star**2 * self.s /(2 * self.mass) * self.c_y_delta_r\n",
    "    return y_delta_r\n",
    "\n",
    "@property\n",
    "def l_v(self):\n",
    "    \n",
    "    l_v = self.rho * self.s * self.b**2 * self.v_a_star / (4 * self.v_a_star) * (self.c_p_p * self.p_star + self.c_p_r * self.r_star) \\\n",
    "        + self.rho * self.s * self.b * self.v_a_star \\\n",
    "        * (self.c_p_0 + self.c_p_beta * self.beta_star + self.c_p_delta_a * self.delta_a_star + self.c_p_delta_r * self.delta_r_star)\\\n",
    "        + self.rho * self.s * self.b * self.c_p_beta * np.sqrt(self.u_star**2 + self.w_star**2)/2\n",
    "    return l_v \n",
    "\n",
    "@property\n",
    "def l_p(self):\n",
    "    l_p = self.gamma_1 * self.q_star + self.rho * self.v_a_star *self.s * self.b**2 /4 * self.c_p_p\n",
    "    return l_p\n",
    "\n",
    "@property\n",
    "def l_r(self):\n",
    "    l_r = -self.gamma_2 * self.q_star + self.rho * self.v_a_star * self.s * self.b**2 /4 * self.c_p_r\n",
    "    return l_r\n",
    "\n",
    "@property\n",
    "def l_delta_a(self):\n",
    "    l_delta_a = self.rho * self.v_a_star**2 * self.s * self.b /2 * self.c_p_delta_a\n",
    "    return l_delta_a \n",
    "\n",
    "@property\n",
    "def l_delta_r(self):\n",
    "    l_delta_r = self.rho * self.v_a_star**2 * self.s * self.b /2 * self.c_p_delta_r \n",
    "    return l_delta_r\n",
    "\n",
    "@property\n",
    "def n_v(self):\n",
    "    n_v = self.rho * self.s * self.b**2 * self.v_a_star /(4 * self.v_a_star) * (self.c_r_p * self.p_star + self.c_r_r * self.r_star)\\\n",
    "        + self.rho * self.s * self.b    * self.v_a_star * (self.c_r_0 + self.c_r_beta * self.beta_star \\\n",
    "        + self.c_r_delta_a * self.delta_a_star + self.c_r_delta_r * self.delta_r_star)\\\n",
    "        + self.rho * self.s * self.b * self.c_r_beta /2 * np.sqrt(self.u_star**2 + self.w_star**2)\n",
    "    return n_v \n",
    "\n",
    "@property\n",
    "def n_p(self):\n",
    "    n_p = self.gamma_7 * self.q_star + self.rho * self.v_a_star * self.s * self.b**2 /4 * self.c_r_p \n",
    "    return n_p \n",
    "\n",
    "@property\n",
    "def n_r(self):\n",
    "    n_r = -self.gamma_1 * self.q_star + self.rho * self.v_a_star * self.s * self.b**2/4 * self.c_r_r \n",
    "    return n_r\n",
    "\n",
    "@property\n",
    "def n_delta_a(self):\n",
    "    n_delta_a = self.rho * self.v_a_star**2 * self.s * self.b /2 * self. c_r_delta_a\n",
    "    return n_delta_a \n",
    "\n",
    "@property\n",
    "def n_delta_r(self):\n",
    "    n_delta_r = self.rho * self.v_a_star**2 * self.s * self.b /2 * self.c_r_delta_r \n",
    "    return n_delta_r"
   ]
  },
  {
   "cell_type": "markdown",
   "metadata": {},
   "source": [
    "Declaring the matrix describing the linearized lateral model."
   ]
  },
  {
   "cell_type": "code",
   "execution_count": null,
   "metadata": {
    "collapsed": true
   },
   "outputs": [],
   "source": [
    "%%add_to LinearLateralModel\n",
    "\n",
    "def state_space_matrix(self):\n",
    "    \n",
    "    self.ss_matrix_model = np.array([[self.y_v, self.y_p/(self.v_a_star * np.cos(self.beta_star)), self.y_r/(self.v_a_star * np.cos(self.beta_star)),\n",
    "                              self.g * np.cos(self.theta_star) * np.cos(self.phi_star)/ (self.v_a_star * np.cos(self.beta_star)), 0.0 ],\n",
    "                               [self.l_v * self.v_a_star * np.cos(self.beta_star), self.l_p, self.l_r, 0.0, 0.0],\n",
    "                               [self.n_v * self.v_a_star * np.cos(self.beta_star), self.n_p, self.n_r, 0.0, 0.0],\n",
    "                               [0.0, 1.0, np.cos(self.phi_star) * np.tan(self.theta_star), self.q_star * np.cos(self.phi_star)* np.tan(self.theta_star)\\\n",
    "                                -self.r_star * np.sin(self.phi_star) * np.tan(self.theta_star), 0.0 ],\n",
    "                               [0.0, 0.0, np.cos(self.phi_star)/np.cos(self.theta_star), self.p_star * np.cos(self.phi_star)/np.cos(self.theta_star)\\\n",
    "                               -self.r_star * np.sin(self.phi_star)/np.cos(self.theta_star),0.0 ]])\n",
    "    \n",
    "    return self.ss_matrix_model"
   ]
  },
  {
   "cell_type": "code",
   "execution_count": null,
   "metadata": {
    "collapsed": true
   },
   "outputs": [],
   "source": [
    "# TODO: Initialize the TrimcCondition object\n",
    "# Trim = \n",
    "\n",
    "# TODO: Initialize the LinearLateralModel object with Trim object which has been initialized in the previous line\n",
    "v = 68.0 # If v is too large, then the oscillations will not occur \n",
    "# LSS = \n",
    "\n",
    "# TODO: Calculate the trim condition for the LinearLateralModel object. \n",
    "# This will set the object variables associated with the trim to a correct values \n",
    "\n",
    "# TODO: Calculate the matrix capturing the linearized lateral model for the given parameters and the velocity \n",
    "# lss_matrix = \n",
    "\n",
    "np.set_printoptions(precision=4)"
   ]
  },
  {
   "cell_type": "markdown",
   "metadata": {},
   "source": [
    "Calculate the eigenvalues from the matrix obtained from the previous cell you can use [`np.linalg.eigvals`](https://docs.scipy.org/doc/numpy-1.14.0/reference/generated/numpy.linalg.eigvals.html)."
   ]
  },
  {
   "cell_type": "code",
   "execution_count": null,
   "metadata": {},
   "outputs": [],
   "source": [
    "lambdas = np.linalg.eigvals(lss_matrix)\n",
    "\n",
    "for i in range(lambdas.shape[0]):\n",
    "    print('eigenvalue ',i, ' = ',lambdas[i])"
   ]
  },
  {
   "cell_type": "markdown",
   "metadata": {},
   "source": [
    "In order for the forward simulation to work all eigenvalues needs to be negative. At this point both model.pdf and the UAV book based method give the same answer. The next step is to change the parameters from UAV to Cessna 172 which will change the eigen values. "
   ]
  },
  {
   "cell_type": "markdown",
   "metadata": {
    "collapsed": true
   },
   "source": [
    "# Forward simulate the linear model\n",
    "---\n",
    "\n",
    "In the given part you will forward simulate your linear system. \n",
    "The state vector is given as: \n",
    "\n",
    "$$\n",
    "X= \\begin{bmatrix} \\bar{\\beta} \\\\ \\bar{p} \\\\ \\bar{r} \\\\ \\bar{\\phi} \\\\ \\bar{\\psi}\\end{bmatrix} \n",
    "$$\n",
    "\n",
    "where: \n",
    "* $\\bar{\\beta}$ is side slip angle. \n",
    "* $\\bar{p}$ is angular velocity along the $x$ axis\n",
    "* $\\bar{r}$ is angular velocity along the $z$ axis\n",
    "* $\\bar{\\phi}$ is angle along the $x$ axis\n",
    "* $\\bar{\\psi}$ is angle along the $z$ axis\n"
   ]
  },
  {
   "cell_type": "code",
   "execution_count": null,
   "metadata": {
    "collapsed": true
   },
   "outputs": [],
   "source": [
    "total_time = 20\n",
    "dt = 0.01\n",
    "\n",
    "state_vector = np.array([0.0, 0.01, 0.00, 0.1, 0.0])\n",
    "state_vector_history = state_vector\n",
    "\n",
    "for _ in range(int(total_time/dt)):\n",
    "    dot_state_vector = lss_matrix @ state_vector\n",
    "    state_vector += dot_state_vector * dt\n",
    "    state_vector_history = np.vstack((state_vector_history, state_vector))"
   ]
  },
  {
   "cell_type": "code",
   "execution_count": null,
   "metadata": {},
   "outputs": [],
   "source": [
    "plt.plot(np.arange(0,total_time,dt),state_vector_history[:-1,1])\n",
    "plt.title('p')\n",
    "plt.grid()\n",
    "plt.show()"
   ]
  },
  {
   "cell_type": "code",
   "execution_count": null,
   "metadata": {},
   "outputs": [],
   "source": [
    "plt.plot(np.arange(0,total_time,dt),state_vector_history[:-1,2])\n",
    "plt.title('r')\n",
    "plt.grid()\n",
    "plt.show()"
   ]
  },
  {
   "cell_type": "code",
   "execution_count": null,
   "metadata": {},
   "outputs": [],
   "source": [
    "plt.plot(np.arange(0,total_time,dt),state_vector_history[:-1,3]/np.pi*180)\n",
    "plt.title('phi')\n",
    "plt.grid()\n",
    "plt.show()"
   ]
  },
  {
   "cell_type": "code",
   "execution_count": null,
   "metadata": {
    "collapsed": true
   },
   "outputs": [],
   "source": []
  }
 ],
 "metadata": {
  "kernelspec": {
   "display_name": "Python 3",
   "language": "python",
   "name": "python3"
  },
  "language_info": {
   "codemirror_mode": {
    "name": "ipython",
    "version": 3
   },
   "file_extension": ".py",
   "mimetype": "text/x-python",
   "name": "python",
   "nbconvert_exporter": "python",
   "pygments_lexer": "ipython3",
   "version": "3.6.3"
  }
 },
 "nbformat": 4,
 "nbformat_minor": 2
}
