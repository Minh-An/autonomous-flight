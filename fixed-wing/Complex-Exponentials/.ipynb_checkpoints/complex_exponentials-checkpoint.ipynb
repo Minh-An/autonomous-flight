{
 "cells": [
  {
   "cell_type": "markdown",
   "metadata": {},
   "source": [
    "# Understanding Complex Exponentials"
   ]
  },
  {
   "cell_type": "code",
   "execution_count": null,
   "metadata": {},
   "outputs": [],
   "source": [
    "import numpy as np\n",
    "from matplotlib import pyplot as plt\n",
    "\n",
    "PI = np.pi"
   ]
  },
  {
   "cell_type": "markdown",
   "metadata": {},
   "source": [
    "According to the non-linear dynamic model you played with earlier, the pitch rate for a fixed-wing vehicle near trim looked something like this\n",
    "\n",
    "![](pitch_rate.png)\n",
    "\n",
    "The goal of this section is to convince you that we can actually describe the shape of this graph using a **superposition of oscillating and decaying motions** and we can describe such superpositions as **combinations of complex numbers**.\n",
    "\n",
    "Don't worry if that doesn't all make sense yet! Read carefully and it will make sense soon."
   ]
  },
  {
   "cell_type": "markdown",
   "metadata": {},
   "source": [
    "## 1. Oscillations and Growth/Decay\n",
    "\n",
    "An **oscillation** is a back and forth motion. For example, the cosine function oscillates.\n",
    "\n",
    "$$y(t) = \\cos(\\omega t)$$\n",
    "\n",
    "This equation will oscillate with an **angular frequency** $\\omega$. Angular frequency is measured in radians per second: so if $\\omega = 2\\pi$, then this function will oscillate once per second."
   ]
  },
  {
   "cell_type": "code",
   "execution_count": null,
   "metadata": {},
   "outputs": [],
   "source": [
    "# time variable for plotting \n",
    "t = np.linspace(0, 3, 200)\n",
    "\n",
    "cycles_per_second = 1.0\n",
    "omega = 2 * PI * cycles_per_second\n",
    "\n",
    "y = np.cos(omega * t)\n",
    "plt.plot(t, y)"
   ]
  },
  {
   "cell_type": "markdown",
   "metadata": {},
   "source": [
    "**Exponential growth / decay** is given by exponential functions:\n",
    "\n",
    "$$y(t) = e^{kt}$$\n",
    "\n",
    "When $k$ is negative, we see decay. When $k$ is positive, we see growth."
   ]
  },
  {
   "cell_type": "code",
   "execution_count": null,
   "metadata": {},
   "outputs": [],
   "source": [
    "# example of decay\n",
    "\n",
    "# todo: change the k to +1.0 to see exponential growth.\n",
    "\n",
    "t = np.linspace(0,3,100)\n",
    "k = -1.0\n",
    "y = np.exp(k*t)\n",
    "plt.plot(t,y)"
   ]
  },
  {
   "cell_type": "markdown",
   "metadata": {},
   "source": [
    "We can also create functions that combine exponential growth / decay with oscillatory motion."
   ]
  },
  {
   "cell_type": "code",
   "execution_count": null,
   "metadata": {},
   "outputs": [],
   "source": [
    "t = np.linspace(0,3,100)\n",
    "\n",
    "k = -1.0\n",
    "omega = 2 * PI * cycles_per_second\n",
    "\n",
    "y = np.exp(k*t) * np.cos(omega*t)\n",
    "plt.plot(t,y)"
   ]
  },
  {
   "cell_type": "markdown",
   "metadata": {},
   "source": [
    "That's starting to look pretty close to our original graph!\n",
    "\n",
    "**TODO** - adjust `t` so it spans 30 seconds (like the graph at the top of the page) and thne play around with `k` and `omega` until the graph looks pretty close to the graph shown at the top of the page."
   ]
  },
  {
   "cell_type": "markdown",
   "metadata": {},
   "source": [
    "## 2. Complex Numbers\n",
    "\n",
    "We use the letter $i$ or $j$ to represent $\\sqrt{-1}$.\n",
    "\n",
    "Note: the `sqrt` function in Python's normal `math` module won't accept negative arguments. The `sqrt` function in the `cmath` module will."
   ]
  },
  {
   "cell_type": "code",
   "execution_count": null,
   "metadata": {},
   "outputs": [],
   "source": [
    "from cmath import sqrt\n",
    "\n",
    "sqrt(-1)"
   ]
  },
  {
   "cell_type": "markdown",
   "metadata": {},
   "source": [
    "We can then define a \"complex number\" as a number with a real part and an imaginary part. If $a$ and $b$ are real numbers, then $a + bi$ is a complex number with \"real part\" $a$ and \"imaginary part\" $b$."
   ]
  },
  {
   "cell_type": "code",
   "execution_count": null,
   "metadata": {},
   "outputs": [],
   "source": [
    "# note: I've purposely mis-spelled lambda, \n",
    "#  since \"lambda\" is a python keyword\n",
    "lamda = np.complex(2.0, 3.0)\n",
    "\n",
    "print(lamda, \"is a complex number.\", \"\\nThe real part is\", lamda.real, \n",
    "      \"\\nThe imaginary part is\", lamda.imag)"
   ]
  },
  {
   "cell_type": "markdown",
   "metadata": {},
   "source": [
    "We can also define \"complex conjugates\". The complex conjugate of $a+bi$ is $a-bi$: the imaginary part just changes signs."
   ]
  },
  {
   "cell_type": "code",
   "execution_count": null,
   "metadata": {},
   "outputs": [],
   "source": [
    "print(\" lambda:          \", lamda,\n",
    "      \"\\n\",\n",
    "      \"lambda conjugate:\", lamda.conjugate())"
   ]
  },
  {
   "cell_type": "markdown",
   "metadata": {},
   "source": [
    "When you multiply a complex number by it's conjugate, you always get a real number:"
   ]
  },
  {
   "cell_type": "code",
   "execution_count": null,
   "metadata": {},
   "outputs": [],
   "source": [
    "print(lamda * lamda.conjugate())"
   ]
  },
  {
   "cell_type": "markdown",
   "metadata": {},
   "source": [
    "## 3. \"The most beautiful theorem in mathematics\""
   ]
  },
  {
   "cell_type": "markdown",
   "metadata": {},
   "source": [
    "If you haven't seen it derived, you might want to pause Udacity for a moment and take some time to research [Euler's Identity](https://en.wikipedia.org/wiki/Euler%27s_identity). This theory has been called \"the most beautiful theorem in mathematics\" for good reason.\n",
    "\n",
    "If you've seen it before or just want to get to the actual applications, I'll state it here without proof:\n",
    "\n",
    "$$e^{i \\pi} + 1 = 0$$"
   ]
  },
  {
   "cell_type": "markdown",
   "metadata": {},
   "source": [
    "This identity is incredible. It succinctly demonstrates a deep mathematical relationship between:\n",
    "\n",
    "* $e$, the base of the natural logarithm...\n",
    "* $i$, the square root of negative 1...\n",
    "* $\\pi$, the ratio of a circle's circumference to its diameter...\n",
    "* $1$, the multiplicative identity, and...\n",
    "* $0$, the additive identity.\n",
    "\n",
    "We can \"prove\" this works using python (unfortunately, floating point math means we see some TINY number instead of 0 as output to the code below)."
   ]
  },
  {
   "cell_type": "code",
   "execution_count": null,
   "metadata": {},
   "outputs": [],
   "source": [
    "i  = np.complex(0.0, 1.0)\n",
    "pi = np.complex(np.pi, 0.0)\n",
    "\n",
    "np.exp(i * pi) + 1.0"
   ]
  },
  {
   "cell_type": "markdown",
   "metadata": {},
   "source": [
    "Underlying this identity is **Euler's Formula**, which says that for any real number $x$\n",
    "\n",
    "$$e^{ix} = \\cos x + i \\sin x$$\n",
    "\n",
    "There's something important to notice here!\n",
    "\n",
    "> **Imaginary** exponentials lead to oscillatory behavior!\n",
    "\n",
    "This identity gives us a tool for studying exponentials with **imaginary** exponents. But what about **complex** exponentials with real AND imaginary parts?"
   ]
  },
  {
   "cell_type": "markdown",
   "metadata": {},
   "source": [
    "## 4. Complex Exponentials"
   ]
  },
  {
   "cell_type": "markdown",
   "metadata": {},
   "source": [
    "The rules of algebra tell us that we can rewrite a complex exponential as a product of a real exponential and an imaginary exponential:\n",
    "\n",
    "$$e^{(a + bi)t} = e^{at}e^{ibt}$$\n",
    "\n",
    "We know that $e^{at}$ leads to growth / decay and we know that $e^ibt$ leads to oscillations. So this complex exponential should exhibit exponential behavior AND oscillatory behavior!"
   ]
  },
  {
   "cell_type": "code",
   "execution_count": null,
   "metadata": {},
   "outputs": [],
   "source": [
    "t = np.linspace(0,30,100)\n",
    "omega = 2 * PI * 2.0 / 25\n",
    "lamda = np.complex(-0.05, omega)\n",
    "y = np.exp(lamda * t)\n",
    "\n",
    "# note that since y is complex, we plot only the real part\n",
    "plt.plot(t, y.real)"
   ]
  },
  {
   "cell_type": "markdown",
   "metadata": {},
   "source": [
    "## 5. Combinations of Complex Exponentials"
   ]
  },
  {
   "cell_type": "markdown",
   "metadata": {},
   "source": [
    "We can form more complex motions by combining different complex exponentials..."
   ]
  },
  {
   "cell_type": "code",
   "execution_count": null,
   "metadata": {},
   "outputs": [],
   "source": [
    "t = np.linspace(0,30, 1000)\n",
    "omega = 2 * PI * 2.0 / 25\n",
    "LAMBDA_1 = np.complex(-0.05, omega)\n",
    "LAMBDA_2 = np.complex(-1.3, 1.8*PI)\n",
    "\n",
    "y = np.exp(LAMBDA_1 * t) + -1 * np.exp(LAMBDA_2 * t)\n",
    "\n",
    "\n",
    "plt.plot(t, y.real)"
   ]
  },
  {
   "cell_type": "markdown",
   "metadata": {},
   "source": [
    "This looks VERY similar to the graph that you saw near the beginning of this lesson!\n",
    "\n",
    "Let's compare this graph to the actual pitch rate data that generated the original graph..."
   ]
  },
  {
   "cell_type": "code",
   "execution_count": null,
   "metadata": {},
   "outputs": [],
   "source": [
    "# load pitch rate data\n",
    "import pickle\n",
    "with open(\"pitch_rate_data.pickle\", 'rb') as f:\n",
    "    data = pickle.load(f)\n",
    "    \n",
    "t = data['time']\n",
    "q = data['q']"
   ]
  },
  {
   "cell_type": "code",
   "execution_count": null,
   "metadata": {},
   "outputs": [],
   "source": [
    "A1 = 1.5\n",
    "A2 = -1.0\n",
    "T1 = 13.2\n",
    "T2 = 1.6\n",
    "D1 = -0.035\n",
    "D2 = -0.8\n",
    "\n",
    "omega_1 = 2 * PI / T1\n",
    "omega_2 = 2 * PI / T2\n",
    "\n",
    "lambda_1 = np.complex(D1, omega_1)\n",
    "lambda_2 = np.complex(D2, omega_2)\n",
    "\n",
    "y = A1 * np.exp(lambda_1 * t) + A2 * np.exp(lambda_2 * t)\n",
    "plt.plot(t, y.real)\n",
    "plt.plot(t, q)"
   ]
  }
 ],
 "metadata": {
  "kernelspec": {
   "display_name": "Python 3",
   "language": "python",
   "name": "python3"
  },
  "language_info": {
   "codemirror_mode": {
    "name": "ipython",
    "version": 3
   },
   "file_extension": ".py",
   "mimetype": "text/x-python",
   "name": "python",
   "nbconvert_exporter": "python",
   "pygments_lexer": "ipython3",
   "version": "3.6.0"
  }
 },
 "nbformat": 4,
 "nbformat_minor": 2
}
