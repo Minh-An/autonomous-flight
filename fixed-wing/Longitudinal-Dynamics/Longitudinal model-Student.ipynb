{
 "cells": [
  {
   "cell_type": "markdown",
   "metadata": {},
   "source": [
    "# Longitudinal model\n",
    "---\n",
    "In this exercise, we will develop the Longitudinal model and forward simulate the behavior of the airplane after deviating the elevator for a short time. "
   ]
  },
  {
   "cell_type": "code",
   "execution_count": null,
   "metadata": {
    "collapsed": true
   },
   "outputs": [],
   "source": [
    "%matplotlib inline \n",
    "%config InlineBackend.figure_format = 'retina'\n",
    "\n",
    "import numpy as np \n",
    "import matplotlib.pyplot as plt\n",
    "import matplotlib.pylab as pylab\n",
    "import jdc\n",
    "from PreviousLessonObjects import AeroDynamics, TrimCondition\n",
    "pylab.rcParams['figure.figsize'] = 10, 10"
   ]
  },
  {
   "cell_type": "markdown",
   "metadata": {},
   "source": [
    "# Lesson 3\n",
    "\n",
    "### Longitudinal Model \n",
    "\n",
    "We need to define the state vector as:\n",
    "\n",
    "$$\n",
    "X=[x,y,z,u,v,w,\\phi,\\theta,\\psi,p,q,r]\n",
    "$$\n",
    "\n",
    "\n",
    "But the constraints are:\n",
    "$$\n",
    "\\begin{align}\n",
    "\\phi & = 0  \\\\\n",
    "\\psi & = 0 \\\\\n",
    "v & = 0 \\\\\n",
    "p & = 0 \\\\\n",
    "r & = 0\n",
    "\\end{align}\n",
    "$$\n",
    "\n",
    "Thus the state vector will be reduced to: \n",
    "$$\n",
    "X= \\begin{bmatrix} \\theta \\\\ u \\\\ w \\\\ q \\end{bmatrix} \n",
    "$$\n",
    "Which the last four terms in the Linearize Longitudinal model. \n",
    "\n",
    "In this section, we will develop a simple object called `Airplane` which will contain state vector for longitudinal direction and the `advance_state` function which will be advancing the state by `dt`."
   ]
  },
  {
   "cell_type": "code",
   "execution_count": null,
   "metadata": {
    "collapsed": true
   },
   "outputs": [],
   "source": [
    "class Airplane:\n",
    "    \n",
    "    def __init__(self):\n",
    "        \n",
    "        '''\n",
    "        Initialize the object using the velocity and the trim angle of attack.\n",
    "        Args:\n",
    "            v: airplane velocity\n",
    "            alpha_at_trim: aan angle of attack at the trim condition\n",
    "        '''\n",
    "        \n",
    "        self.x=np.zeros(4)\n",
    "        \n",
    "        \n",
    "    def advance_state(self, dt, x_dot):\n",
    "        '''\n",
    "        Advance state vector values by dt time \n",
    "        Args:\n",
    "            dt: elapsed time interval since the last update \n",
    "            x_dot: the vector containing derivatives of the state vector\n",
    "        '''\n",
    "        \n",
    "        self.x += dt * x_dot"
   ]
  },
  {
   "cell_type": "markdown",
   "metadata": {},
   "source": [
    "# LongitudinalModel\n",
    "We will use the equations 36, 37, 46 from model.pdf to perform time advance simulation an airplane. "
   ]
  },
  {
   "cell_type": "code",
   "execution_count": null,
   "metadata": {
    "collapsed": true
   },
   "outputs": [],
   "source": [
    "class LongitudinalModel(AeroDynamics):\n",
    "    \n",
    "    def __init__(self):\n",
    "        super(LongitudinalModel, self).__init__()\n",
    "\n",
    "    def f_x_f_z(self, thrust, v, alpha, delta_e, theta):\n",
    "        '''\n",
    "        Calculates forces in x and z directions \n",
    "        Args:\n",
    "            thrust: thrust value at the trim condition\n",
    "            v: airplane velocity\n",
    "            alpha: aan angle of attack at the trim condition\n",
    "            delta_e: The elevator deflection angle at level flight\n",
    "            theta: The pitch angle \n",
    "            \n",
    "        Returns:\n",
    "            Force in x direction, force in z direction \n",
    "        '''        \n",
    "        lift = self.lift(v, alpha, delta_e)\n",
    "        drag = self.drag(v, alpha)\n",
    "        \n",
    "        # TODO: Calculate the total force in X and Z directions. \n",
    "        # f_x = \n",
    "        # f_z = \n",
    "        \n",
    "        return f_x, f_z \n",
    "\n",
    "    def m(self, v, alpha, delta_e):\n",
    "        '''\n",
    "        Calculates moment along the Y axis. \n",
    "        Args:\n",
    "            v: airplane velocity\n",
    "            alpha: aan angle of attack at the trim condition\n",
    "            delta_e: The elevator deflection angle at level flight\n",
    "            \n",
    "        Returns:\n",
    "            Pitching moment\n",
    "        '''  \n",
    "        pitching_momment = self.pitch_moment(v, alpha, delta_e)\n",
    "        \n",
    "        return pitching_momment\n",
    "    \n",
    "    "
   ]
  },
  {
   "cell_type": "markdown",
   "metadata": {},
   "source": [
    "## Simulating forward in time \n",
    "\n",
    "Now that we have all the elements governing the longitudinal directions characterized we can simulate the airplane behavior in time.\n",
    "\n",
    "First we need to define the trim conditions and increase the velocity by 5 [m/s] to see how airplane will responde. "
   ]
  },
  {
   "cell_type": "code",
   "execution_count": null,
   "metadata": {
    "collapsed": true
   },
   "outputs": [],
   "source": [
    "Trim = TrimCondition()\n",
    "v_at_trim = Trim.v_min_t()\n",
    "v_at_trim += 5\n",
    "thrust_at_trim = Trim.thrust(v_at_trim)\n",
    "alpha_at_trim = Trim.alpha_for_trim(v_at_trim)\n",
    "delta_e_at_trim = Trim.delta_e(alpha_at_trim)\n"
   ]
  },
  {
   "cell_type": "markdown",
   "metadata": {},
   "source": [
    "Second the will declare the airplane object with its state vector and will simulate it in time. \n",
    "Please note the for level fligth $\\theta = \\alpha$"
   ]
  },
  {
   "cell_type": "code",
   "execution_count": null,
   "metadata": {
    "collapsed": true
   },
   "outputs": [],
   "source": [
    "total_time = 100\n",
    "dt = 0.01 \n",
    "\n",
    "Drone = Airplane()\n",
    "MotionModel = LongitudinalModel()\n",
    "\n",
    "theta = alpha_at_trim\n",
    "Drone.x = np.array([theta, v_at_trim*np.cos(alpha_at_trim), -v_at_trim*np.sin(alpha_at_trim), 0])\n",
    "\n",
    "state_history= Drone.x\n",
    "delta_e = delta_e_at_trim\n",
    "thrust = thrust_at_trim \n",
    "\n",
    "for _ in range(int(total_time/dt)):\n",
    "    \n",
    "    theta = Drone.x[0]\n",
    "    u = Drone.x[1]\n",
    "    w = Drone.x[2]\n",
    "    q = Drone.x[3]\n",
    "    \n",
    "    # TODO: calculate the next parameters \n",
    "    # alpha = function of w and u \n",
    "    # v = function of w and u \n",
    "    \n",
    "    f_x, f_z = MotionModel.f_x_f_z(thrust, v, alpha, delta_e, theta)\n",
    "    m = MotionModel.m(v, alpha, delta_e)\n",
    "    \n",
    "    # TODO: colculate the derivatived of the state vector equations 28 - 31 in model.pdf. \n",
    "    #  x_dot=np.array([_,_,_,_])\n",
    "    \n",
    "    Drone.advance_state(dt, x_dot)\n",
    "    state_history = np.vstack((state_history,Drone.x))\n",
    "  "
   ]
  },
  {
   "cell_type": "markdown",
   "metadata": {},
   "source": [
    "Plotting the angular velocity $q$"
   ]
  },
  {
   "cell_type": "code",
   "execution_count": null,
   "metadata": {},
   "outputs": [],
   "source": [
    "plt.plot(np.arange(0,total_time,dt),state_history[:-1,-1])\n",
    "plt.title('q')\n",
    "    \n",
    "plt.grid()\n",
    "plt.show()"
   ]
  },
  {
   "cell_type": "code",
   "execution_count": null,
   "metadata": {
    "collapsed": true
   },
   "outputs": [],
   "source": []
  },
  {
   "cell_type": "code",
   "execution_count": null,
   "metadata": {
    "collapsed": true
   },
   "outputs": [],
   "source": []
  }
 ],
 "metadata": {
  "kernelspec": {
   "display_name": "Python 3",
   "language": "python",
   "name": "python3"
  },
  "language_info": {
   "codemirror_mode": {
    "name": "ipython",
    "version": 3
   },
   "file_extension": ".py",
   "mimetype": "text/x-python",
   "name": "python",
   "nbconvert_exporter": "python",
   "pygments_lexer": "ipython3",
   "version": "3.6.3"
  }
 },
 "nbformat": 4,
 "nbformat_minor": 2
}
