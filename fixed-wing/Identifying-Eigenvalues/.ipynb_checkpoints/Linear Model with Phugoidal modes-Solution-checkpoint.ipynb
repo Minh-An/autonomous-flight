{
 "cells": [
  {
   "cell_type": "markdown",
   "metadata": {},
   "source": [
    "# Linear model\n",
    "---\n",
    "\n",
    "For this exercise, we will reuse the `Aerodynamics` and `TrimCondition` objects developed in the previous exercise. "
   ]
  },
  {
   "cell_type": "code",
   "execution_count": 1,
   "metadata": {
    "collapsed": true
   },
   "outputs": [],
   "source": [
    "%matplotlib inline \n",
    "%config InlineBackend.figure_format = 'retina'\n",
    "\n",
    "import numpy as np \n",
    "import matplotlib.pyplot as plt\n",
    "import matplotlib.pylab as pylab\n",
    "import jdc\n",
    "from Cessna import AeroDynamicsCoefficients\n",
    "from Trim import TrimCondition\n",
    "pylab.rcParams['figure.figsize'] = 10, 10"
   ]
  },
  {
   "cell_type": "markdown",
   "metadata": {},
   "source": [
    "We will provide partially developed `LinearLongitudinalModel` which contains equations outlined in Model.pdf.\n",
    "\n",
    "You will go through the process of adequately integrating the given object with the `Aerodynamics` and `TrimCondition` objects from the previous exercise. \n",
    "\n",
    "\n",
    "The `LinearLongitudinalModel` will inherit from the `AeroDynamics` object which will provide all the necessary constants which will need to perform the calculations.\n",
    "\n",
    "Also, we will transfer the `TrimObject` as the variable. "
   ]
  },
  {
   "cell_type": "code",
   "execution_count": 2,
   "metadata": {
    "collapsed": true
   },
   "outputs": [],
   "source": [
    "class LinearLongitudinalModel(AeroDynamicsCoefficients):\n",
    "    \n",
    "    def __init__(self,TrimObject,v):\n",
    "        '''\n",
    "        Initializing the object\n",
    "        Args:\n",
    "            TrimObject: TrimObject\n",
    "            v: velocity for which we will be estimating the linear state\n",
    "        '''\n",
    "        \n",
    "        super(LinearLongitudinalModel, self).__init__()\n",
    "        self.TrimObject = TrimObject\n",
    "        \n",
    "        self.delta_e_bar = 0.0\n",
    "        self.delta_t_bar = 0.0\n",
    "        self.v_a_star = v\n",
    "        \n",
    "        \n",
    "    def trim_values(self):\n",
    "        self.alpha_star = self.TrimObject.alpha_for_trim(self.v_a_star)\n",
    "        self.u_star = self.v_a_star * np.cos(self.alpha_star) \n",
    "        self.w_star = self.v_a_star * np.sin(self.alpha_star)\n",
    "        self.q_star = 0.0\n",
    "        \n",
    "        self.delta_e_star = self.TrimObject.delta_e(self.alpha_star)\n",
    "        self.delta_t_star = 0.0\n",
    "        self.theta_star = self.alpha_star\n",
    "        "
   ]
  },
  {
   "cell_type": "markdown",
   "metadata": {},
   "source": [
    "Declaring the variables according to the model.pdf page 8."
   ]
  },
  {
   "cell_type": "code",
   "execution_count": 3,
   "metadata": {
    "collapsed": true
   },
   "outputs": [],
   "source": [
    "%%add_to LinearLongitudinalModel\n",
    "\n",
    "@property\n",
    "def c_x0(self):\n",
    "    c_x0= -self.c_d_0 * np.cos(self.alpha_star)  + self.c_l_0 * np.sin(self.alpha_star)\n",
    "    return c_x0\n",
    "\n",
    "@property\n",
    "def c_x_alpha(self):\n",
    "    c_x_alpha= -self.c_d_alpha * np.cos(self.alpha_star)  + self.c_l_alpha * np.sin(self.alpha_star)\n",
    "    return c_x_alpha\n",
    "\n",
    "@property\n",
    "def c_x_delta_e(self):\n",
    "    c_x_delta_e= -self.c_d_delta_e * np.cos(self.alpha_star)  + self.c_l_delta_e * np.sin(self.alpha_star)\n",
    "    return c_x_delta_e\n",
    "\n",
    "@property\n",
    "def c_x_q(self):\n",
    "    c_x_q= -self.c_d_q * np.cos(self.alpha_star)  + self.c_l_q * np.sin(self.alpha_star)\n",
    "    return c_x_q\n",
    "\n",
    "@property\n",
    "def c_z0(self):\n",
    "    c_z0= -self.c_d_0 * np.sin(self.alpha_star)  - self.c_l_0 * np.cos(self.alpha_star)\n",
    "    return c_z0\n",
    "\n",
    "@property\n",
    "def c_z_alpha(self):\n",
    "    c_z_alpha= -self.c_d_alpha * np.sin(self.alpha_star)  - self.c_l_alpha * np.cos(self.alpha_star)\n",
    "    return c_z_alpha\n",
    "\n",
    "@property\n",
    "def c_z_delta_e(self):\n",
    "    c_z_delta_e= -self.c_d_delta_e * np.sin(self.alpha_star)  - self.c_l_delta_e * np.cos(self.alpha_star)\n",
    "    return c_z_delta_e\n",
    "\n",
    "@property\n",
    "def c_z_q(self):\n",
    "    c_z_q= -self.c_d_q * np.sin(self.alpha_star)  - self.c_l_q * np.cos(self.alpha_star)\n",
    "    return c_z_q"
   ]
  },
  {
   "cell_type": "markdown",
   "metadata": {},
   "source": [
    "Formulating the matrix variables for Linearized Longitudinal model outlined on page 3."
   ]
  },
  {
   "cell_type": "code",
   "execution_count": 4,
   "metadata": {
    "collapsed": true
   },
   "outputs": [],
   "source": [
    "%%add_to LinearLongitudinalModel\n",
    "\n",
    "@property \n",
    "def x_u(self):\n",
    "    \n",
    "    \n",
    "    x_u = self.u_star * self.rho * self.s /self.mass *(self.c_x0 + self.c_x_alpha * self.alpha_star +\\\n",
    "                                                       self.c_x_delta_e * self.delta_e_star) \\\n",
    "          - self.rho * self.s * self.w_star * self.c_x_alpha / (2 * self.mass) \\\n",
    "          + self.rho * self.s * self.c * self.c_x_q * self.u_star * self.q_star /(4 * self.mass * self.v_a_star) \n",
    "        \n",
    "    return x_u\n",
    "\n",
    "@property \n",
    "def x_w(self):\n",
    "    \n",
    "    x_w = self.w_star * self.rho * self.s / self.mass *(self.c_x0 + self.c_x_alpha * self.alpha_star +\\\n",
    "                                                       self.c_x_delta_e * self.delta_e_star) \\\n",
    "         - self.q_star +self.rho * self.s * self.c * self.c_x_q * self.w_star * self.q_star /(4 * self.mass * self.v_a_star) \\\n",
    "         + self.rho * self.s * self.c_x_alpha * self.u_star /(2* self.mass) \n",
    "    \n",
    "    return x_w\n",
    "\n",
    "\n",
    "@property\n",
    "def x_q(self):\n",
    "    x_q = -self.w_star +self.rho * self.v_a_star * self.s * self.c_x_q * self.c /(4*self.mass)\n",
    "    return x_q \n",
    "\n",
    "@property\n",
    "def x_delta_e(self):\n",
    "    x_delta_e = self.rho * self.v_a_star**2 * self.s * self.c_x_delta_e /(2 * self.mass)\n",
    "    return x_delta_e \n",
    "\n",
    "@property \n",
    "def x_delta_t(self):\n",
    "    x_delta_t = 1/ self.mass\n",
    "    return x_delta_t \n",
    "\n",
    "@property\n",
    "def z_u(self):\n",
    "            \n",
    "    z_u = self.u_star * self.rho * self.s /self.mass *(self.c_z0 + self.c_z_alpha * self.alpha_star +\\\n",
    "                                                       self.c_z_delta_e * self.delta_e_star) \\\n",
    "         + self.q_star - self.rho * self.s * self.c_z_alpha * self.w_star /(2* self.mass) \\\n",
    "         + self.u_star * self.rho * self.s * self.c_z_q * self.c * self.q_star / (4* self.mass * self.v_a_star)\n",
    "            \n",
    "    return z_u \n",
    "\n",
    "@property \n",
    "def z_w(self):\n",
    "    z_w = self.w_star * self.rho * self.s / self.mass *(self.c_z0 + self.c_z_alpha * self.alpha_star +\\\n",
    "                                                       self.c_z_delta_e * self.delta_e_star) \\\n",
    "         + self.rho * self.s * self.c_z_alpha * self.u_star /(2 * self.mass)\\\n",
    "         + self.rho * self.w_star * self.s * self.c * self.c_z_q * self.q_star /(4 * self.mass * self.v_a_star)\n",
    "    \n",
    "    return z_w\n",
    "\n",
    "@property \n",
    "def z_q(self):\n",
    "    z_q = self.u_star + self.rho * self.v_a_star * self.s * self.c_z_q * self.c /(4 * self.mass)\n",
    "    return z_q\n",
    "\n",
    "@property\n",
    "def z_delta_e(self):\n",
    "    z_delta_e = self.rho * self.v_a_star**2 * self.s * self.c_z_delta_e /(2*self.mass)\n",
    "    return z_delta_e \n",
    "\n",
    "@property\n",
    "def m_u(self):\n",
    "    m_u = self.u_star * self.rho * self.s * self.c / self.j_y *(self.c_m_0 + self.c_m_alpha * self.alpha_star +\\\n",
    "                                                       self.c_m_delta_e * self.delta_e_star) \\\n",
    "         - self.rho * self.s * self.c * self.c_m_alpha * self.w_star /(2 * self.j_y)\\\n",
    "         + self.rho * self.s * self.c**2 * self.c_m_q * self.q_star * self.u_star /(4* self.j_y * self.v_a_star )\n",
    "    return m_u\n",
    "\n",
    "@property\n",
    "def m_w(self):\n",
    "    m_w = self.w_star * self.rho * self.s * self.c / self.j_y *(self.c_m_0 + self.c_m_alpha * self.alpha_star +\\\n",
    "                                                       self.c_m_delta_e * self.delta_e_star) \\\n",
    "         + self.rho * self.s * self.c *self.c_m_alpha * self.u_star /(2 * self.j_y) \\\n",
    "         + self.rho * self.s * self.c**2 * self.c_m_q * self.q_star * self.w_star /(4* self.j_y * self.v_a_star )\n",
    "    return m_w\n",
    "\n",
    "@property\n",
    "def m_q(self):\n",
    "    m_q = self.rho * self.v_a_star * self.s * self.c**2 * self.c_m_q /(4*self.j_y)\n",
    "    return m_q \n",
    "\n",
    "@property\n",
    "def m_delta_e(self):\n",
    "    m_delta_e = self.rho * self.v_a_star**2 * self.s * self.c * self.c_m_delta_e/ (2* self.j_y)\n",
    "    return m_delta_e\n"
   ]
  },
  {
   "cell_type": "markdown",
   "metadata": {},
   "source": [
    "Declaring the matrix describing the Linearized Longitudinal model."
   ]
  },
  {
   "cell_type": "code",
   "execution_count": 5,
   "metadata": {
    "collapsed": true
   },
   "outputs": [],
   "source": [
    "%%add_to LinearLongitudinalModel\n",
    "\n",
    "def state_space_matrix(self):\n",
    "    \n",
    "    self.ss_matrix = np.array([[0, 0, self.u_star * np.sin(self.theta_star) + self.w_star * np.cos(self.theta_star), np.cos(self.theta_star), self.v_a_star * np.sin(self.theta_star) * np.cos(self.alpha_star), 0 ],\n",
    "                               [0, 0,-self.u_star * np.sin(self.theta_star) - self.w_star * np.cos(self.theta_star),-np.sin(self.theta_star), self.v_a_star * np.cos(self.theta_star) * np.sin(self.alpha_star), 0 ],\n",
    "                               [0, 0, 0, 0, 0, 1],\n",
    "                               [0, 0, -self.g * np.cos(self.theta_star), self.x_u, self.x_w * self.v_a_star * np.cos(self.alpha_star), self.x_q],\n",
    "                               [0, 0, -self.g * np.sin(self.theta_star)/(self.v_a_star * np.cos(self.alpha_star)), self.z_u/(self.v_a_star * np.cos(self.alpha_star)), self.z_w, self.z_q/(self.v_a_star * np.cos(self.alpha_star))],\n",
    "                               [0, 0, 0, self.m_u, self.m_w * self.v_a_star * np.cos(self.alpha_star), self.m_q]])\n",
    "    \n",
    "    return self.ss_matrix"
   ]
  },
  {
   "cell_type": "markdown",
   "metadata": {},
   "source": [
    "Next cell is dedicated to integrate the developed objects and generate the matrix capturing the linearized longitudinal model. "
   ]
  },
  {
   "cell_type": "code",
   "execution_count": 6,
   "metadata": {
    "collapsed": true
   },
   "outputs": [],
   "source": [
    "# TODO: Initialize the TrimcCondition object\n",
    "Trim = TrimCondition()\n",
    "\n",
    "# TODO: Initialize the LinearLongitudinalModel object with Trim object which has been initialized in the previous line\n",
    "v = 35.0 # If v is too large, then the oscillations will not occur \n",
    "LLM = LinearLongitudinalModel(Trim,v)\n",
    "\n",
    "# TODO: Calculate the trim condition for the LinearLongitudinalModel object. \n",
    "# This will set the object variables associated with the trim to a correct values \n",
    "LLM.trim_values()\n",
    "\n",
    "# TODO: Calculate the matrix capturing the linearized longitudinal model for the given parameters and the velocity \n",
    "llm_matrix =LLM.state_space_matrix()\n"
   ]
  },
  {
   "cell_type": "markdown",
   "metadata": {},
   "source": [
    "Calculate the eigenvalues from the matrix obtained from the previous cell you can use [`np.linalg.eigvals`](https://docs.scipy.org/doc/numpy-1.14.0/reference/generated/numpy.linalg.eigvals.html)."
   ]
  },
  {
   "cell_type": "code",
   "execution_count": 7,
   "metadata": {
    "collapsed": true
   },
   "outputs": [],
   "source": [
    "# TODO: Calculate the eigenvalues\n",
    "lambdas = np.linalg.eigvals(llm_matrix)"
   ]
  },
  {
   "cell_type": "markdown",
   "metadata": {},
   "source": [
    "Printing the the eigenvalu values. "
   ]
  },
  {
   "cell_type": "code",
   "execution_count": 8,
   "metadata": {},
   "outputs": [
    {
     "name": "stdout",
     "output_type": "stream",
     "text": [
      "Eigenvalue  0  =  0j\n",
      "Eigenvalue  1  =  0j\n",
      "Eigenvalue  2  =  (-0.0132670286646+0.271157171695j)\n",
      "Eigenvalue  3  =  (-0.0132670286646-0.271157171695j)\n",
      "Eigenvalue  4  =  (-2.01997788983+7.80152965378j)\n",
      "Eigenvalue  5  =  (-2.01997788983-7.80152965378j)\n"
     ]
    }
   ],
   "source": [
    "for i in range(lambdas.shape[0]):\n",
    "    print('Eigenvalue ',i, ' = ',lambdas[i])"
   ]
  },
  {
   "cell_type": "markdown",
   "metadata": {
    "collapsed": true
   },
   "source": [
    "# Forward simulate the linear model\n",
    "---\n",
    "\n",
    "In the given part you will forward simulate your linear system. \n",
    "The state vector is given as: \n",
    "\n",
    "$$\n",
    "X= \\begin{bmatrix} \\bar{x_I} \\\\ \\bar{z_I} \\\\ \\bar{\\theta} \\\\ \\bar{u} \\\\ \\bar{\\omega} \\\\ \\bar{q} \\end{bmatrix} \n",
    "$$\n",
    "\n",
    "where: \n",
    "* $\\bar{x_I}$ is change in $x$ direction  $\\bar{x_I} = x_I - x_I^*$\n",
    "* $\\bar{z_I}$ is change in $z$ direction\n",
    "* $\\bar{\\theta}$ is pitch angle\n",
    "* $\\bar{u}$ is velocity in the $x$ direction in body frame \n",
    "* $\\bar{\\omega}$ is velocity in the $Z$ direction in body frame\n",
    "* $\\bar{q}$ is pitch rate\n",
    "\n",
    "Keep in mind that for trim condition\n",
    "$$\n",
    "\\begin{align}\n",
    "\\omega & = V \\sin{\\alpha}\\\\\n",
    "\\bar{\\omega} & = V \\cos{\\alpha}\\times\\bar{\\alpha}\n",
    "\\end{align}\n",
    "$$"
   ]
  },
  {
   "cell_type": "code",
   "execution_count": 9,
   "metadata": {
    "collapsed": true
   },
   "outputs": [],
   "source": [
    "total_time = 100\n",
    "dt = 0.01\n",
    "v =35.0\n",
    "alpha_bar = 0.01\n",
    "u_bar = - v * np.sin(LLM.alpha_star) * alpha_bar\n",
    "w_bar = v * np.cos(LLM.alpha_star) * alpha_bar\n",
    "state_vector = np.array([0,0,0,u_bar,w_bar,0])\n",
    "state_vector_history = state_vector\n",
    "\n",
    "for _ in range(int(total_time/dt)):\n",
    "    dot_state_vector = llm_matrix @ state_vector\n",
    "    state_vector += dot_state_vector * dt\n",
    "    state_vector_history = np.vstack((state_vector_history, state_vector))"
   ]
  },
  {
   "cell_type": "code",
   "execution_count": 10,
   "metadata": {},
   "outputs": [
    {
     "data": {
      "image/png": "[encoded data removed]",
      "text/plain": [
       "<matplotlib.figure.Figure at 0x115810e10>"
      ]
     },
     "metadata": {
      "image/png": {
       "height": 590,
       "width": 605
      }
     },
     "output_type": "display_data"
    }
   ],
   "source": [
    "plt.plot(np.arange(0,total_time,dt),state_vector_history[:-1,-1])\n",
    "plt.title('q')\n",
    "plt.grid()\n",
    "plt.show()"
   ]
  }
 ],
 "metadata": {
  "kernelspec": {
   "display_name": "Python 3",
   "language": "python",
   "name": "python3"
  },
  "language_info": {
   "codemirror_mode": {
    "name": "ipython",
    "version": 3
   },
   "file_extension": ".py",
   "mimetype": "text/x-python",
   "name": "python",
   "nbconvert_exporter": "python",
   "pygments_lexer": "ipython3",
   "version": "3.6.3"
  }
 },
 "nbformat": 4,
 "nbformat_minor": 2
}
