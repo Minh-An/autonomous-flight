{
 "cells": [
  {
   "cell_type": "markdown",
   "metadata": {},
   "source": [
    "# Rotation matrixes \n",
    "--- \n",
    "In the given lesson we defined several coordinate frames: World frame, Body frame, and wind frame. \n",
    "\n",
    "In the past term, we covered the conversion between two frames in detail. Thus in this exercise, we will go through the two-dimensional matrix transformation which is mathematically simple. But will provide an excellent practice to develop better an intuitive understanding of these frames and how they are related to each other."
   ]
  },
  {
   "cell_type": "code",
   "execution_count": null,
   "metadata": {
    "collapsed": true
   },
   "outputs": [],
   "source": [
    "from math import sin, cos\n",
    "import numpy as np "
   ]
  },
  {
   "cell_type": "markdown",
   "metadata": {},
   "source": [
    "<img src=\"Frames.png\" width=\"800\">"
   ]
  },
  {
   "cell_type": "code",
   "execution_count": null,
   "metadata": {
    "collapsed": true
   },
   "outputs": [],
   "source": [
    "# simple rotation matrix in 2D \n",
    "def rotation_matrix(angle):\n",
    "    '''\n",
    "    Rotation matrix function\n",
    "    args: \n",
    "        angle: angle of rotation\n",
    "    returns: \n",
    "        rotation matrix \n",
    "    '''\n",
    "    r = np.array([[cos(angle), -sin(angle)],\n",
    "                  [sin(angle),  cos(angle)]])\n",
    "    return r "
   ]
  },
  {
   "cell_type": "markdown",
   "metadata": {},
   "source": [
    "As an exercise define rotation matrixes for the world frame to the body frame of reference, the world frame of reference to the wind frame of reference, wind frame of reference to the body frame of reference in terms of the rotation matrix. Finally, make sure that the given matrix truly perform correct transformations. \n",
    "\n",
    "For the given exercise we will assume that $\\theta = -5^{\\circ}$, $\\gamma = 2^{\\circ}$"
   ]
  },
  {
   "cell_type": "code",
   "execution_count": null,
   "metadata": {
    "collapsed": true
   },
   "outputs": [],
   "source": [
    "theta = 5/180*np.pi\n",
    "gamma = -2/180*np.pi\n",
    "\n",
    "# TODO: Declare matrix corresponding transformation between frames by placing the proper angle\n",
    "# r_world_to_body = rotation_matrix()\n",
    "# r_world_to_wind = rotation_matrix()\n",
    "# r_wind_to_body = rotation_matrix()\n",
    "# r_body_to_world = rotation_matrix()\n",
    "# r_wind_to_world = rotation_matrix()\n"
   ]
  },
  {
   "cell_type": "markdown",
   "metadata": {},
   "source": [
    "As a test transform frames from the world to the wind and then from the wind to the body frame and make sure that it is the same as the transformation from the world frame to the body. "
   ]
  },
  {
   "cell_type": "code",
   "execution_count": null,
   "metadata": {},
   "outputs": [],
   "source": [
    "r_x = r_wind_to_body @ r_world_to_wind\n",
    "print('Combined rotation matrix is: \\n',r_x)\n",
    "print('Direct rotation matrix is: \\n',r_world_to_body)"
   ]
  },
  {
   "cell_type": "markdown",
   "metadata": {},
   "source": [
    "For a next step let us consider a simple drone with a mass of 1 [kg], which developed thrust of 2 [N], while lift and the drag forces are 10[N] and 1.5 [N]. \n",
    "\n",
    "Calculate the linear acceleration in the world frame. Note that the values are given in different are measured in different frames. "
   ]
  },
  {
   "cell_type": "markdown",
   "metadata": {},
   "source": [
    "<img src=\"Forces.png\" width=\"400\">"
   ]
  },
  {
   "cell_type": "code",
   "execution_count": null,
   "metadata": {
    "collapsed": true
   },
   "outputs": [],
   "source": [
    "mass= 1.0\n",
    "thrust = 2.0\n",
    "lift = 10.0\n",
    "drag = 1.5 \n",
    "g = 9.8\n",
    "\n",
    "# TODO: Convert the given scalar values into vectors\n",
    "# weight_vec = np .array([[], []])\n",
    "# thrust_vec = np.array([[], []])\n",
    "# lift_vec = np.array([[], []])\n",
    "# drag_vec = np.array([[],[]])\n",
    "\n",
    "\n",
    "# TODO: Calculate the linear acceleration of the drone in world frame \n",
    "# a_world = \n"
   ]
  },
  {
   "cell_type": "code",
   "execution_count": null,
   "metadata": {},
   "outputs": [],
   "source": [
    "print('Horizontal acceleration is %.2f [m/s^2]'%a_world[0])\n",
    "print('Vertical acceleration is %.2f [m/s^2]'%a_world[1])"
   ]
  },
  {
   "cell_type": "code",
   "execution_count": null,
   "metadata": {
    "collapsed": true
   },
   "outputs": [],
   "source": []
  }
 ],
 "metadata": {
  "kernelspec": {
   "display_name": "Python 3",
   "language": "python",
   "name": "python3"
  },
  "language_info": {
   "codemirror_mode": {
    "name": "ipython",
    "version": 3
   },
   "file_extension": ".py",
   "mimetype": "text/x-python",
   "name": "python",
   "nbconvert_exporter": "python",
   "pygments_lexer": "ipython3",
   "version": "3.6.3"
  }
 },
 "nbformat": 4,
 "nbformat_minor": 2
}
